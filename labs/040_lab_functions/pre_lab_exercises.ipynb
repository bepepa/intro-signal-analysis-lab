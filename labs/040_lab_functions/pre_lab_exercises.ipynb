{
 "cells": [
  {
   "cell_type": "markdown",
   "metadata": {},
   "source": [
    "# Pre-lab Exercises\n",
    "\n",
    "This notebook complements the pre-lab notebook [Writing Function](https://nbviewer.org/format/slides/github/bepepa/intro-signal-analysis-lab/blob/main/labs/040_functions/pre_lab_notes.ipynb).\n",
    "\n",
    "Complete the exercises in this notebook. Make sure that you open this notebook as a Jupyter Notebook, i.e., after you launched Jupyter Notebook from the Anaconda Navigator."
   ]
  },
  {
   "cell_type": "markdown",
   "metadata": {},
   "source": [
    "## Your Task\n",
    "\n",
    "Write a function, named `clip` that meets the following requirements:\n",
    "1. the first input parameter is named `val` and you may assume that it is a real-valued, numeric, scalar value (i.e., not complex or a vector of values)\n",
    "2. the second paramter is named `level`; this parameter is optional and has a default value of `1`\n",
    "3. the value passed for `level` must be positive; if that is not true, your function should raise a `ValueError`\n",
    "4. the return value is computed as follows:\n",
    "  * if `val` is greater than `level`, then return `level`\n",
    "  * if `val` is less than `-level`, then return  `-level`\n",
    "  * in all other cases, return `val`\n",
    "5. include an appropriate doc string"
   ]
  },
  {
   "cell_type": "code",
   "execution_count": null,
   "metadata": {},
   "outputs": [],
   "source": [
    "## YOUR FUNCTION GOES HERE"
   ]
  },
  {
   "cell_type": "markdown",
   "metadata": {},
   "source": [
    "### Checks\n",
    "\n",
    "Once your function is ready, validate it by executing the next two cells.\n",
    "\n",
    "If all is well, 'OK' will be printed as the only output for the cells."
   ]
  },
  {
   "cell_type": "code",
   "execution_count": null,
   "metadata": {},
   "outputs": [],
   "source": [
    "## test cases\n",
    "assert clip(3, 1) == 1\n",
    "assert clip(3) == 1\n",
    "assert clip(-3, 1) == -1\n",
    "assert clip(0.5, 1) == 0.5\n",
    "\n",
    "print('OK')"
   ]
  },
  {
   "cell_type": "code",
   "execution_count": null,
   "metadata": {},
   "outputs": [],
   "source": [
    "## check that exception is raised\n",
    "try:\n",
    "    clip(3, -1)\n",
    "    print('not OK')\n",
    "except ValueError:\n",
    "    print('OK')"
   ]
  }
 ],
 "metadata": {
  "kernelspec": {
   "display_name": "Python 3",
   "language": "python",
   "name": "python3"
  },
  "language_info": {
   "codemirror_mode": {
    "name": "ipython",
    "version": 3
   },
   "file_extension": ".py",
   "mimetype": "text/x-python",
   "name": "python",
   "nbconvert_exporter": "python",
   "pygments_lexer": "ipython3",
   "version": "3.10.12"
  },
  "orig_nbformat": 4
 },
 "nbformat": 4,
 "nbformat_minor": 2
}
