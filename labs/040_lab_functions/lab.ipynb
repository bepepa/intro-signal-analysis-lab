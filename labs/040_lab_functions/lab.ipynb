{
 "cells": [
  {
   "cell_type": "markdown",
   "metadata": {},
   "source": [
    "# Lab: Addition of Sinusoidal Signals\n",
    "\n",
    "## Goals:\n",
    "\n",
    "In this lab, you will explore the addition of sinusoidal signals of the same frequency. When sinusoids of the same frequency are added, the result is always a sinusoid of that frequency. Moreover, the amplitude and phase of the resulting sinusoid can be computed using *phasor addition*.\n",
    "\n",
    "In this lab, you will:\n",
    "\n",
    "* practice writing Python functions\n",
    "* practice your NumPy skills\n",
    "* practice synthesizing sinusoidal and complex exponential signals\n",
    "* explore the addition of sinusoidal signal\n",
    "* demonstrate the phasor addition rule"
   ]
  },
  {
   "cell_type": "code",
   "execution_count": null,
   "metadata": {},
   "outputs": [],
   "source": [
    "## import packages that we will need\n",
    "%matplotlib inline\n",
    "import matplotlib.pyplot as plt\n",
    "\n",
    "import numpy as np"
   ]
  },
  {
   "cell_type": "markdown",
   "metadata": {},
   "source": [
    "## This notebook is incomplete\n",
    "\n",
    "In this notebook, there are multiple places for you to fill in either code or text.\n",
    "\n",
    "You should do that directly in this notebook. \n",
    "\n",
    "Once you have completed all your work in this notebook, rerun the entire notebook using \"Kernel > Restart and Run All\" from the menubar. \n",
    "\n",
    "Fix any errors, then remove this cell (your notebook is now complete), and submit."
   ]
  },
  {
   "cell_type": "markdown",
   "metadata": {},
   "source": [
    "## Task 1: a Function for Measuring Phasors\n",
    "\n",
    "In last week's lab, we showed that the complex amplitude $X$, i.e., the phasor, of a sinusoidal signal $x(t)$ of frequency $f$ can be computed from samples $x[n] = x(t[n])$ using\n",
    "$$\n",
    "    X = \\frac{2}{N} \\sum_{n=0}^{N-1} x(t[n]) \\exp(-j 2\\pi f t[n]).\n",
    "$$\n",
    "Here $N$ is the number of samples and $t[n]$ form an evenly spaced time-grid with sapcing $1/f_s$ between time instances.\n",
    "\n",
    "Recall that this relationship is strictly true only if the frequency $f$ is a multiple of $f_s/N$, i.e., $f= k f_s/N$ with $k \\in \\{0,1,2,\\ldots,N/2-1\\}$.\n"
   ]
  },
  {
   "cell_type": "markdown",
   "metadata": {},
   "source": [
    "### Function Requirements\n",
    "\n",
    "You are to write a function`measure_phasor`, complete with doc string, with the following parameters:\n",
    "* `xx` - a NumPy vector of samples of a sinusoidal signal\n",
    "* `f` - the frequency of this sinusoid\n",
    "* `fs` - the rate at which `xx` was sampled\n",
    "* `start` - the start time of the sinusoidal signal; this parameter is optional and defaults to `0`\n",
    "\n",
    "Note that the end time of the sinusoid can be inferred from the `start` time, the sample rate `fs`, and the length of `xx` (i.e., $N$).\n",
    "\n",
    "Your function should perform the following steps:\n",
    "* generate a time grid `tt` between `start` time and the computed end time with a step size of `1/fs`\n",
    "  - `tt` must be a NumPy array of the same size as `xx`\n",
    "* synthezize a complex exponential signal of frequency $-f$, i.e., the samples of this signal are given by $\\exp(-j 2\\pi f t[n])$\n",
    "* compute and return the phasor $X$ according to the formula above."
   ]
  },
  {
   "cell_type": "code",
   "execution_count": null,
   "metadata": {},
   "outputs": [],
   "source": [
    "## Define function `measure_phase`\n",
    "def measure_phasor(xx, f, fs, start=0):\n",
    "    \"\"\"measure phasor from signal samples\n",
    "    \n",
    "    Parameters\n",
    "    ----------\n",
    "    xx - NumPy vector of samples of a sinusoid\n",
    "    f - frequency of sinusoid\n",
    "    fs - sampling rate\n",
    "    start - start time of signal\n",
    "\n",
    "    Returns\n",
    "    -------\n",
    "    complex amplitude (phasor) of signal\n",
    "    \"\"\"\n",
    "\n",
    "    FILL_ME_IN\n",
    "\n",
    "    return X"
   ]
  },
  {
   "cell_type": "code",
   "execution_count": null,
   "metadata": {},
   "outputs": [],
   "source": [
    "## check your function\n",
    "# make a sinusoid with phasor X\n",
    "fs = 100\n",
    "tt = np.arange(1, 2, 1/fs)\n",
    "f = 3 * fs / len(tt)\n",
    "X = 1 + 2j\n",
    "xx = np.real(X * np.exp(2j*np.pi * f * tt))\n",
    "\n",
    "# check that computed phasor matches X\n",
    "assert np.allclose(X, measure_phasor(xx, f, fs, 1) ), \"your function is **not correct**\"\n",
    "print('Ok')"
   ]
  },
  {
   "cell_type": "markdown",
   "metadata": {},
   "source": [
    "## Task 2: a Function to make a sinusoidal signal\n",
    "\n",
    "Your second task is to write a function that generates samples of a sinusoidal signal.\n",
    "\n",
    "Your function `make_sinusoid` has the following parameters:\n",
    "* `A` - the amplitude of the sinusoid\n",
    "* `f` - the frequency of the sinusoid\n",
    "* `phi` - the phase of the sinusoid\n",
    "* `tt` - a NumPy vector containing a time-grid of sample instances\n",
    "\n",
    "Your function must return a NumPy vector containing the samples of the sinusoid with the given parameters at the time instances given in `tt`.\n",
    "\n",
    "This should be a very short function!"
   ]
  },
  {
   "cell_type": "code",
   "execution_count": null,
   "metadata": {},
   "outputs": [],
   "source": [
    "def make_sinusoid(A, f, phi, tt):\n",
    "    \"\"\"generate samples of a sinusoid\n",
    "    \n",
    "    FILL_ME_IN\n",
    "    \"\"\"\n",
    "\n",
    "    FILL_ME_IN"
   ]
  },
  {
   "cell_type": "code",
   "execution_count": null,
   "metadata": {},
   "outputs": [],
   "source": [
    "## Check your function using your `measure_phasor` function\n",
    "fs = 100\n",
    "tt = np.arange(1, 2, 1/fs)\n",
    "f = 3 * fs / len(tt)\n",
    "A = 2\n",
    "phi = np.pi/7\n",
    "\n",
    "xx = make_sinusoid(A, f, phi, tt)\n",
    "assert np.allclose(A*np.exp(1j * phi), measure_phasor(xx, f, fs, 1)), \"your function does not appear to be correct\"\n",
    "print('ok')"
   ]
  },
  {
   "cell_type": "markdown",
   "metadata": {},
   "source": [
    "## Task 3: a Function to add signals\n",
    "\n",
    "We want to experiment with sums of sinusoids. Thus, before we turn to our next function, let's generate a number of sinusoidal signals.\n",
    "\n",
    "These sinusoids will be generated from two lists (one each for amplitudes and phases) and the common frequency. \n",
    "\n",
    "Addtionally, we need a time-grid that is common for all our signals."
   ]
  },
  {
   "cell_type": "code",
   "execution_count": null,
   "metadata": {},
   "outputs": [],
   "source": [
    "## time grid and signal specifications\n",
    "fs = 100\n",
    "tt = np.arange(1, 2, 1/fs)\n",
    "\n",
    "# signal specs\n",
    "amplitudes = [3, 2, 5, 1]\n",
    "phases = [np.pi, -np.pi/3, 0, 5*np.pi/7]\n",
    "f = 3 * fs / len(tt)"
   ]
  },
  {
   "cell_type": "markdown",
   "metadata": {},
   "source": [
    "We can now use a list comprehension and the function `make_sinusoid` to create a list of signals.\n",
    "\n",
    "Note that each element of the resulting list is a NumPy vector."
   ]
  },
  {
   "cell_type": "code",
   "execution_count": null,
   "metadata": {},
   "outputs": [],
   "source": [
    "sigs = [ make_sinusoid(amplitudes[n], f, phases[n], tt) for n in range(len(amplitudes)) ]"
   ]
  },
  {
   "cell_type": "markdown",
   "metadata": {},
   "source": [
    "We plot the signals to verify that they are as expected."
   ]
  },
  {
   "cell_type": "code",
   "execution_count": null,
   "metadata": {},
   "outputs": [],
   "source": [
    "## plot the signals\n",
    "for n in range(len(sigs)):\n",
    "    plt.plot(tt, sigs[n], label=f\"$A={amplitudes[n]}, \\phi={phases[n]/np.pi:4.2f} \\pi$\")\n",
    "\n",
    "plt.grid()\n",
    "plt.legend()\n",
    "plt.xlabel('Time (s)')\n",
    "plt.show()"
   ]
  },
  {
   "cell_type": "markdown",
   "metadata": {},
   "source": [
    "Looking at this plot, it is not obvious that the sum of these signals will produce a sinusoid of the same frequency."
   ]
  },
  {
   "cell_type": "markdown",
   "metadata": {},
   "source": [
    "### Function specification\n",
    "\n",
    "The function `sum_sigs` is supposed to add an arbitrary number of sampled signals; there will be at least one signal. These signals may or may not be sinusoids.\n",
    "\n",
    "Hence, your function must be able to accept a variable number of inputs.\n",
    "\n",
    "Your function must accept the following inputs:\n",
    "* `s` -  the mandatory (at least one) signal\n",
    "* `*others` - an arbitrary number of additional signals\n",
    "\n",
    "Your function must return the element-wise addition of all input signals"
   ]
  },
  {
   "cell_type": "code",
   "execution_count": null,
   "metadata": {},
   "outputs": [],
   "source": [
    "def sum_sigs(s, *others):\n",
    "    \"\"\"Compute sum of input signals\n",
    "    \n",
    "    FILL_ME_IN\n",
    "    \"\"\"\n",
    "\n",
    "    FILL_ME_IN"
   ]
  },
  {
   "cell_type": "markdown",
   "metadata": {},
   "source": [
    "### Examine the sum of sinusoids\n",
    "\n",
    "Let's check out our function using the sinusoids we generated earlier.\n",
    "\n",
    "We could call our function like this:\n",
    "``` python\n",
    "sum_signal = sum_sigs(sigs[0], sigs[1], sigs[2], sigs[3])\n",
    "```\n",
    "However, that is tedious and requires that we know how many signals are stored in `sigs`.\n",
    "\n",
    "The following does **not** work:\n",
    "``` python\n",
    "sum_signal = sum_sigs( sigs )\n",
    "```\n",
    "because `sigs` is a list and our function expects individual signals.\n",
    "\n",
    "However, Python offers a way to *unpack* the elements of a list (or tuple) as if the elements of the list had been passed one-by-one.\n",
    "The unpacking operator `*`, when placed before the name of a list, does exactly what we want:\n",
    "``` python\n",
    "sum_signal = sum_sigs( *sigs )\n",
    "```\n",
    "\n",
    "Below, we plot the individual signals (again) together with the sum of the signals."
   ]
  },
  {
   "cell_type": "code",
   "execution_count": null,
   "metadata": {},
   "outputs": [],
   "source": [
    "## plot the signals\n",
    "for n in range(len(sigs)):\n",
    "    plt.plot(tt, sigs[n], '--', label=f\"$A={amplitudes[n]}, \\phi={phases[n]/np.pi:4.2f} \\pi$\")\n",
    "\n",
    "plt.plot(tt, sum_sigs( *sigs ), label='Sum')\n",
    "\n",
    "plt.grid()\n",
    "plt.legend()\n",
    "plt.xlabel('Time (s)')\n",
    "plt.show()"
   ]
  },
  {
   "cell_type": "markdown",
   "metadata": {},
   "source": [
    "We can now see that the sum of the sinusoids is indeed a sinusoid of the same frequency as the othe signals.\n",
    "\n",
    "Moreover, we can use our function `measure_phasor()` to figire out its amplitude and phase."
   ]
  },
  {
   "cell_type": "code",
   "execution_count": null,
   "metadata": {},
   "outputs": [],
   "source": [
    "## measure amplitude and phase of sum signal\n",
    "xx = sum_sigs( *sigs )\n",
    "X = measure_phasor(xx, f, fs, 1)\n",
    "\n",
    "print(f\"The sum signal has amplitude {np.abs(X):4.2f} and phase {np.angle(X)/np.pi:4.2f} * pi\")"
   ]
  },
  {
   "cell_type": "markdown",
   "metadata": {},
   "source": [
    "## Task 4: a function to add phasors\n",
    "\n",
    "The last function `add_phasors` computes the phasor sum from lists of magnitudes and phases.\n",
    "\n",
    "The function takes the following parameters:\n",
    "* `As` - a *list* containing the amplitdes of sinusoids\n",
    "* `phis` - a *list* containing phases\n",
    "\n",
    "Both lists must be the same length.\n",
    "\n",
    "The function returns a complex number that represents the *phasor sum* of the individual sinusoids."
   ]
  },
  {
   "cell_type": "code",
   "execution_count": null,
   "metadata": {},
   "outputs": [],
   "source": [
    "def add_phasors(As, phis):\n",
    "    \"\"\"Compute the sum of the phasors constructed from amplitudes and phases\n",
    "    \n",
    "    FILL_ME_IN\n",
    "    \"\"\"\n",
    "\n",
    "    FILL_ME_IN"
   ]
  },
  {
   "cell_type": "markdown",
   "metadata": {},
   "source": [
    "Let's test this function using the `amplitudes` and `phases` lists we set up earlier."
   ]
  },
  {
   "cell_type": "code",
   "execution_count": null,
   "metadata": {},
   "outputs": [],
   "source": [
    "Xp = add_phasors(amplitudes, phases)\n",
    "\n",
    "print(f\"The phasor sum has amplitude {np.abs(Xp):4.2f} and phase {np.angle(Xp)/np.pi:4.2f} * pi\")"
   ]
  },
  {
   "cell_type": "markdown",
   "metadata": {},
   "source": [
    "### Task: Comparing the Phasor of the sum of sinusoids to the phasor sum\n",
    "\n",
    "Compare the two phasors we computed and explain if and why they are as expected."
   ]
  },
  {
   "cell_type": "markdown",
   "metadata": {},
   "source": [
    "## Summary\n",
    "\n",
    "In this lab:\n",
    "\n",
    "* we wrote multiple signal processing functions\n",
    "* using these functions, we\n",
    "  - computed the sum of sinusoidal signals and measured the phasor of the sum\n",
    "* we also compute the phasor sum of the phasors of the individual signals\n",
    "  - sowing that the phasors equals the sum pf phasors demonstrates a result we discussed in class\n",
    "\n",
    "  ### Deliverables\n",
    "\n",
    "  Submit your complete copy of this notebook on Gradescope!\n",
    "    * complete all the incomplete cells in this notebook\n",
    "    * remove the cell that states that this notebook is incomplete.\n",
    "    * **IMPORTANT** you must convert this notebook to PDF and upload a PDF copy - Do **NOT** upload the `.ipynb` notebook.\n"
   ]
  },
  {
   "cell_type": "markdown",
   "metadata": {},
   "source": []
  }
 ],
 "metadata": {
  "kernelspec": {
   "display_name": "Python 3 (ipykernel)",
   "language": "python",
   "name": "python3"
  },
  "language_info": {
   "codemirror_mode": {
    "name": "ipython",
    "version": 3
   },
   "file_extension": ".py",
   "mimetype": "text/x-python",
   "name": "python",
   "nbconvert_exporter": "python",
   "pygments_lexer": "ipython3",
   "version": "3.10.12"
  }
 },
 "nbformat": 4,
 "nbformat_minor": 2
}
