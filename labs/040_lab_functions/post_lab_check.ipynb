{
 "cells": [
  {
   "cell_type": "markdown",
   "metadata": {},
   "source": [
    "# Post-lab Check\n",
    "\n",
    "Use this notebook to develop your solution to the post-lab check. \n",
    "\n",
    "However, you must upload the Python scrfileipt `post_lab_check.py`.\n",
    "\n",
    "Once you have developed your solution, copy and paste the appropriate code into the python file.\n",
    "\n",
    "Your task is to write a function `sig_power` according to the following specifications:\n",
    "* Your function takes as it's input a sampled signal named `xx`\n",
    "  - this signal is passed as a NumPy array\n",
    "  - the signal may be complex-valued, e.g., a complex exponential signal\n",
    "* your function must compute and return the average *power* of the signal. \n",
    "  - Note that power is always real-valued, even if `xx` is complex\n",
    "  - The power $P$ of the discrete-time signal with samples $x[n]$, $n=0, 1, \\ldots, N-1$ is computed as\n",
    "$$\n",
    "    P = \\frac{1}{N} \\sum_{n=0}^{N-1} |x[n]|^2.\n",
    "$$\n",
    "  \n",
    "* Your function must handle the special case that `xx` ontains no samples, i.e., $N=0$. In that case, your function must return the special Python value `None`.\n",
    "  - don't return the string `'None'`; the constant `None` is a special value in Python\n",
    "* Your function must include a proper *doc string*."
   ]
  },
  {
   "cell_type": "code",
   "execution_count": 1,
   "metadata": {},
   "outputs": [],
   "source": [
    "## imports \n",
    "import numpy as np"
   ]
  },
  {
   "cell_type": "markdown",
   "metadata": {},
   "source": [
    "## Task: Function to compute signal power\n",
    "\n",
    "Provide a function according to the above specifications in the cell below.\n",
    "\n",
    "**DO** copy  the contents of the following cell into the designated part of the Python file."
   ]
  },
  {
   "cell_type": "code",
   "execution_count": 2,
   "metadata": {},
   "outputs": [],
   "source": [
    "## Copy this cell into the region marked for this Task in the Python file\n"
   ]
  },
  {
   "cell_type": "markdown",
   "metadata": {},
   "source": [
    "Do **NOT** copy the following cell, it is for you to test your function.\n",
    "\n",
    "Note, that not all of the specified requirements are checked here."
   ]
  },
  {
   "cell_type": "code",
   "execution_count": 4,
   "metadata": {},
   "outputs": [
    {
     "name": "stdout",
     "output_type": "stream",
     "text": [
      "OK\n"
     ]
    }
   ],
   "source": [
    "## Don not copy this cell\n",
    "## this cell is for testing only\n",
    "\n",
    "#make a signal to test with\n",
    "fs = 100\n",
    "tt = np.arange(0, 1, 1/fs)\n",
    "\n",
    "A = 3\n",
    "f = 5\n",
    "phi = np.pi/7\n",
    "\n",
    "xx = A * np.cos(2*np.pi * f * tt + phi)\n",
    "\n",
    "# power of a sinusoid is 1/2 * A^2\n",
    "assert np.allclose(sig_power(xx), 0.5 * A**2)\n",
    "\n",
    "print(\"OK\")"
   ]
  },
  {
   "cell_type": "markdown",
   "metadata": {},
   "source": [
    "Once, you are satisfied with your results. Copy and paste the code from the cell that contains your computations into the Python file `post_lab_check.py` for upload to Gradescope."
   ]
  }
 ],
 "metadata": {
  "kernelspec": {
   "display_name": "Python 3",
   "language": "python",
   "name": "python3"
  },
  "language_info": {
   "codemirror_mode": {
    "name": "ipython",
    "version": 3
   },
   "file_extension": ".py",
   "mimetype": "text/x-python",
   "name": "python",
   "nbconvert_exporter": "python",
   "pygments_lexer": "ipython3",
   "version": "3.10.12"
  },
  "orig_nbformat": 4
 },
 "nbformat": 4,
 "nbformat_minor": 2
}
