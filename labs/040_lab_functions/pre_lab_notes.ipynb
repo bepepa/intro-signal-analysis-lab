{
 "cells": [
  {
   "cell_type": "markdown",
   "metadata": {
    "slideshow": {
     "slide_type": "slide"
    }
   },
   "source": [
    "# Writing Functions\n",
    "\n",
    "So far, we have used (or invoked) existing Python or NumPy functions, e.g., `sum()` or `np.cos()`. In this lab, we will learn to write our own functions.\n",
    "\n",
    "As usual, this notebook focuses on the essentials that we will need going forward. You are encouraged to dive deeper on this important topic. The following resources are good starting points:\n",
    "* [Chapter on \"Defining Function\" in the official Python Tutorial](https://docs.python.org/3/tutorial/controlflow.html#defining-functions)\n",
    "* [\"Defining Your Own Function\" from the \"Real Python\" blog](https://realpython.com/defining-your-own-python-function/)"
   ]
  },
  {
   "cell_type": "code",
   "execution_count": 1,
   "metadata": {
    "slideshow": {
     "slide_type": "skip"
    }
   },
   "outputs": [],
   "source": [
    "## configure plotting\n",
    "%matplotlib inline\n",
    "import matplotlib.pyplot as plt\n",
    "\n",
    "# and import NumPy\n",
    "import numpy as np"
   ]
  },
  {
   "cell_type": "markdown",
   "metadata": {
    "slideshow": {
     "slide_type": "slide"
    }
   },
   "source": [
    "## What is this good for?\n",
    "\n",
    "Functions are a feature in virtually every programming language. They provide several important benefits, including\n",
    "\n",
    "* **Reusability** Programming is often repetitive; the same computations may appear (with different values) may appear in many different places. Obviously, we can copy-and-paste the relevant code to wherever it's needed. But, if you discover that there is a better way to perform that computation, then you will need to find and edit all places where the code is repeated. \n",
    "\n",
    "  - Functions avoid this problem; they define how the computation is carried out in a single place and only a call to (or invocation of) the function appears where the computation is needed. So, code is not repeated (consistent with the DRY - Don't Repeat Yourself - principle) and only a single place needs changing if a better solution is found.\n",
    "\n",
    "* **Modularity** Without functions, code tends to be cluttered with tedious low-level details. These low-level details distract for the overall flow of the program. That makes the program more difficult to read and understand. \n",
    "\n",
    "  - Functions allow you to relegate the tedious details to a functions and emphasize the major logical steps that make up the program.\n",
    "\n",
    "* **Encapsulation** We will see that variables that are used insided functions are kept separate from variables outside the function. As a result, nothing unexpected happens when, for example, there is a variable `n` being used both inside and outside a function; they are in completely different *scopes* or *namespaces*. In contrast, when code is copied and pasted it is easy to create conflicts between variables as all variables are in the same scope.\n",
    "\n",
    "  - Functions alleviate concern about naming conflicts between variables inside and outside of functions."
   ]
  },
  {
   "cell_type": "markdown",
   "metadata": {
    "slideshow": {
     "slide_type": "slide"
    }
   },
   "source": [
    "## Our first function\n",
    "\n",
    "The code below defines a very simple function. Let's focus on the structure of this function definition:\n",
    "\n",
    "* the function definition begins with the `def` keyword\n",
    "* this is followed by the *function name*, `my_add` in the example. The name is your choice; it should be descriptive and often a verb is a good choice.\n",
    "* next is a list of *parameters* enclosed in parentheses. Parameters are like place holders that will be replaced with actual values when the function is invoked.\n",
    "* the function definition ends with a colon `:`\n",
    "* the subsequent lines form the *function body*:\n",
    "  - the body is indented with respect to the `def` line\n",
    "  - the body ends when the indent ends\n",
    "  - the body spells out what the function is supposed to do in terms of the place-holder prameters.\n",
    "  - the function bod should always begin with a *doc string*\n",
    "\n",
    "<p style=\"margin-bottom: 15px; padding: 4px 12px; background-color: #e7f3fe; border-left: 6px solid #2196F3;\">\n",
    "Note that nothing obvious happens when the cell containing the function definition is executed. Behind the scenes, Python makes a note that the new function exists.\n",
    "</p> "
   ]
  },
  {
   "cell_type": "code",
   "execution_count": 2,
   "metadata": {
    "slideshow": {
     "slide_type": "fragment"
    }
   },
   "outputs": [],
   "source": [
    "def my_add(a, b):\n",
    "    \"\"\" Add two variables \"\"\"\n",
    "    print(f\"{a} + {b} = {a+b}\")"
   ]
  },
  {
   "cell_type": "markdown",
   "metadata": {
    "slideshow": {
     "slide_type": "slide"
    }
   },
   "source": [
    "### Invoking our function\n",
    "\n",
    "The function definition shows that our function has two parameters `a` and `b`. That means we must invoke this function with two *arguments*.\n",
    "* Distinguish between *parameters* in the function definition, \n",
    "* and *arguments* when the function is invoked.\n",
    "* Argments are substituded (i.e., \"plugged in\") for the place holders defined by the parameters.\n",
    "\n",
    "The simplest possible way to call this function is as follows:"
   ]
  },
  {
   "cell_type": "code",
   "execution_count": 3,
   "metadata": {
    "slideshow": {
     "slide_type": "fragment"
    }
   },
   "outputs": [
    {
     "name": "stdout",
     "output_type": "stream",
     "text": [
      "2 + 3 = 5\n"
     ]
    }
   ],
   "source": [
    "## invoke my_add with constants as arguments\n",
    "my_add(2, 3)"
   ]
  },
  {
   "cell_type": "markdown",
   "metadata": {
    "slideshow": {
     "slide_type": "fragment"
    }
   },
   "source": [
    "We can see that the instructions in the function body were executed with parameter `a` set to `2` and parameter `b` set to `3`."
   ]
  },
  {
   "cell_type": "markdown",
   "metadata": {
    "slideshow": {
     "slide_type": "slide"
    }
   },
   "source": [
    "We are not limited to passing constant values to our functions. \n",
    "\n",
    "We can instead pass variables to our function:\n",
    "* the function uses the values stored by the variables to execute the function body\n",
    "* it does not matter what the variables are called; even if they are called `a` and `b`\n",
    "  - `a` and `b` outside the function are distinct from `a` and `b` inside the function"
   ]
  },
  {
   "cell_type": "code",
   "execution_count": 4,
   "metadata": {
    "slideshow": {
     "slide_type": "fragment"
    }
   },
   "outputs": [
    {
     "name": "stdout",
     "output_type": "stream",
     "text": [
      "2 + 3 = 5\n"
     ]
    }
   ],
   "source": [
    "## invoke my_add with two variables\n",
    "a = 3\n",
    "b = 2\n",
    "\n",
    "# this demonstrates that `a` and `b` are distinct inside and outside the function\n",
    "my_add(b, a)"
   ]
  },
  {
   "cell_type": "markdown",
   "metadata": {
    "slideshow": {
     "slide_type": "slide"
    }
   },
   "source": [
    "### Positional and Named Parameters\n",
    "\n",
    "So far, we have invoked our function with two arguments:\n",
    "* the first argument takes on the role of the first parameterr `a`\n",
    "* the second argument takes on the role of the second parameter `b` \n",
    "* when called like this, we refer to *positional* parameters.\n",
    "\n",
    "There is a second way to invoke our function; we can explicitly specify which parameter is supposed to receive a given argument. In that case, we use the term \"named\" parameters.\n",
    "\n",
    "The example below illustrates named parameters. Note that we can specify named parameters in any order."
   ]
  },
  {
   "cell_type": "code",
   "execution_count": 5,
   "metadata": {
    "slideshow": {
     "slide_type": "fragment"
    }
   },
   "outputs": [
    {
     "name": "stdout",
     "output_type": "stream",
     "text": [
      "2 + 3 = 5\n"
     ]
    }
   ],
   "source": [
    "## invoke my_add using named parameters\n",
    "my_add(b=3, a=2)"
   ]
  },
  {
   "cell_type": "markdown",
   "metadata": {
    "slideshow": {
     "slide_type": "slide"
    }
   },
   "source": [
    "The following are all valid ways to invoke `my_add()`. \n",
    "\n",
    "There is an intentional effort to try and confuse you about `a` and `b` inside and outside the function; try to identify which `a` and `b` respectively, refer to function parameters and which are arguments. \n",
    "\n",
    "All invocations boil down to `my_add(2, 3)`."
   ]
  },
  {
   "cell_type": "code",
   "execution_count": 6,
   "metadata": {
    "slideshow": {
     "slide_type": "fragment"
    }
   },
   "outputs": [
    {
     "name": "stdout",
     "output_type": "stream",
     "text": [
      "2 + 3 = 5\n",
      "2 + 3 = 5\n",
      "3 + 2 = 5\n",
      "2 + 3 = 5\n"
     ]
    }
   ],
   "source": [
    "## various ways to invoke my_add\n",
    "a = 3\n",
    "b = 2\n",
    "\n",
    "my_add(b, a)\n",
    "my_add(b, 3)\n",
    "my_add(b=2, a=3)\n",
    "my_add(b, b=a)"
   ]
  },
  {
   "cell_type": "markdown",
   "metadata": {
    "slideshow": {
     "slide_type": "subslide"
    }
   },
   "source": [
    "The following two ways to invoke `my_add()` do **NOT** work:\n",
    "\n",
    "* The following attempts to set the value of parameter `a` twice\n",
    "``` python\n",
    "my_add(b, a=3)\n",
    "```\n",
    "* the following puts a positional argument *after* a named argument\n",
    "``` python\n",
    "my_add(b=3, a)"
   ]
  },
  {
   "cell_type": "markdown",
   "metadata": {
    "slideshow": {
     "slide_type": "slide"
    }
   },
   "source": [
    "#### Which is better?\n",
    "\n",
    "Both positional and named parameters have their place.\n",
    "\n",
    "* Functions with few parameters - when it is easy to remember the expected order - are usually called with positional arguments\n",
    "* When there are many parameters, it is often safer to use named arguments.\n",
    "* We will see later that optional parameters or variable numbers of parameters may require a mix of positional and named parameters.\n",
    "  - it is possible to force parameters to be either posiitional or named\n",
    "  - it is not uncommon t mix positional and named parameters\n",
    "  - however, positional arguments must come before any named arguments"
   ]
  },
  {
   "cell_type": "markdown",
   "metadata": {
    "slideshow": {
     "slide_type": "slide"
    }
   },
   "source": [
    "## Return values\n",
    "\n",
    "Our first function performs an operation (it prints the result of the addition of its inputs).\n",
    "\n",
    "However, it does not otherwise interact with the rest of the program.\n",
    "\n",
    "A more common use of a function is to return the result of a computation to the program that invoked the function.\n",
    "\n",
    "We modify our function to return the result of the computation; the keyword `return` is used for this purpose."
   ]
  },
  {
   "cell_type": "code",
   "execution_count": 7,
   "metadata": {
    "slideshow": {
     "slide_type": "fragment"
    }
   },
   "outputs": [],
   "source": [
    "def my_sum(a, b):\n",
    "    \"\"\"Return the sum of inputs\"\"\"\n",
    "    return a + b"
   ]
  },
  {
   "cell_type": "markdown",
   "metadata": {
    "slideshow": {
     "slide_type": "slide"
    }
   },
   "source": [
    "The structure of the function definition should look familiar.\n",
    "\n",
    "The result of the expression that follows `return` is passed back to the program that invokes this function."
   ]
  },
  {
   "cell_type": "code",
   "execution_count": 8,
   "metadata": {
    "slideshow": {
     "slide_type": "fragment"
    }
   },
   "outputs": [
    {
     "name": "stdout",
     "output_type": "stream",
     "text": [
      "my_sum(2, 3) =  5\n"
     ]
    }
   ],
   "source": [
    "## invoke my_sum and print the result\n",
    "print('my_sum(2, 3) = ', my_sum(2, 3))"
   ]
  },
  {
   "cell_type": "markdown",
   "metadata": {
    "slideshow": {
     "slide_type": "slide"
    }
   },
   "source": [
    "### Multiple return values\n",
    "\n",
    "It is possible for a function to return more than one value.\n",
    "\n",
    "Consider the function below that\n",
    "* has a single complex parameter `z`\n",
    "* returns both the magnitude and the phase of `z`\n",
    "  - the `return` is followed by a comma-separated list of results\n",
    "  - the function returns a *tuple* of the values listed on the `return` line"
   ]
  },
  {
   "cell_type": "code",
   "execution_count": 9,
   "metadata": {
    "slideshow": {
     "slide_type": "subslide"
    }
   },
   "outputs": [],
   "source": [
    "def to_polar(z):\n",
    "    \"\"\"compute magnitude and phase of z\"\"\"\n",
    "    r = np.abs(z)\n",
    "    phi = np.angle(z)\n",
    "\n",
    "    return r, phi"
   ]
  },
  {
   "cell_type": "code",
   "execution_count": 10,
   "metadata": {
    "slideshow": {
     "slide_type": "fragment"
    }
   },
   "outputs": [
    {
     "name": "stdout",
     "output_type": "stream",
     "text": [
      "(1+2j) has magnitude 2.236 and phase 0.352 * pi\n"
     ]
    }
   ],
   "source": [
    "## invoke to_polar\n",
    "z = 1 + 2j\n",
    "r, phi = to_polar(z)\n",
    "\n",
    "print(f'{z} has magnitude {r:4.3f} and phase {phi/np.pi:4.3f} * pi')"
   ]
  },
  {
   "cell_type": "markdown",
   "metadata": {
    "slideshow": {
     "slide_type": "slide"
    }
   },
   "source": [
    "## Validating inputs \n",
    "\n",
    "Let's make our function a bit more general: we want to be able to specify which binary operation is to be performed on the two input values.\n",
    "\n",
    "We will call this function `my_binop`\n",
    "\n",
    "For that purpose, we create a third parameter for the function. This parameter (named `op`) is a string that indicates which operation is to be performed. Supported operations are:\n",
    "* `'+'`: addition\n",
    "* `'*'`: multiplication\n",
    "* `'max`: greater of\n",
    "* `'min'`: smaller of\n",
    "\n",
    "If any other value is passed for the `op` parameter, an error will be indicated. The Pythonic way to indicate an error, is to raise an exception. Specifically, we will raise a `ValueError` exception.\n",
    "\n",
    "<p style=\"margin-bottom: 15px; padding: 4px 12px; background-color: #e7f3fe; border-left: 6px solid #2196F3;\">\n",
    "<tt>ValueError</tt> is one of Python's standard exception values. You have probably seen others when you made a mistake.\n",
    "</p>\n",
    "\n",
    "<p style=\"margin-bottom: 15px; padding: 4px 12px; background-color: #e7f3fe; border-left: 6px solid #2196F3;\">\n",
    "When such an error is raised, the program stops unless the error is handled. We won't discuss error handling further at this time. \n",
    "</p>"
   ]
  },
  {
   "cell_type": "code",
   "execution_count": 11,
   "metadata": {
    "slideshow": {
     "slide_type": "subslide"
    }
   },
   "outputs": [],
   "source": [
    "def my_binop(a, b, op):\n",
    "    \"\"\"Apply a binary operation to inputs a and b\"\"\"\n",
    "    if op == '+':\n",
    "        return a + b\n",
    "    elif op == '*':\n",
    "        return a * b\n",
    "    elif op == 'max':\n",
    "        return np.maximum(a, b)\n",
    "    elif op == 'min':\n",
    "        return np.minimum(a, b)\n",
    "    else:\n",
    "        # invalid input, raise an error\n",
    "        raise ValueError(f\"Operation '{op}' is not supported\")\n"
   ]
  },
  {
   "cell_type": "markdown",
   "metadata": {
    "slideshow": {
     "slide_type": "subslide"
    }
   },
   "source": [
    "The function above, checks what was passed for the third parameter and then performs the corresponding computation or raises an exception.\n",
    "\n",
    "<p style=\"margin-bottom: 15px; padding: 4px 12px; background-color: #e7f3fe; border-left: 6px solid #2196F3;\">\n",
    "The operations for min and max rely on NumPy functions instead of the Python built-in functions. This way, the function actually works for scalars and for NumPy arrays. \n",
    "</p>\n",
    "\n",
    "We can now call `my_binop()` like this:"
   ]
  },
  {
   "cell_type": "code",
   "execution_count": 12,
   "metadata": {
    "slideshow": {
     "slide_type": "fragment"
    }
   },
   "outputs": [
    {
     "name": "stdout",
     "output_type": "stream",
     "text": [
      "my_binop(2, 3, '+') =  5\n",
      "my_binop(2, 3, '*') =  6\n",
      "my_binop(2, 3, 'max') =  3\n",
      "my_binop(2, 3, 'min') =  2\n"
     ]
    }
   ],
   "source": [
    "print(\"my_binop(2, 3, '+') = \", my_binop(2, 3, '+'))\n",
    "print(\"my_binop(2, 3, '*') = \", my_binop(2, 3, '*'))\n",
    "print(\"my_binop(2, 3, 'max') = \", my_binop(2, 3, 'max'))\n",
    "print(\"my_binop(2, 3, 'min') = \", my_binop(2, 3, 'min'))"
   ]
  },
  {
   "cell_type": "markdown",
   "metadata": {
    "slideshow": {
     "slide_type": "subslide"
    }
   },
   "source": [
    "When called with an unexpected argument for parameter `op`, the appropriate exception is raised. \n",
    "\n",
    "This exception could be handled somewhat like this."
   ]
  },
  {
   "cell_type": "code",
   "execution_count": 13,
   "metadata": {
    "slideshow": {
     "slide_type": "fragment"
    }
   },
   "outputs": [
    {
     "name": "stdout",
     "output_type": "stream",
     "text": [
      "op = +: 5\n",
      "op = *: 6\n",
      "that didn't work: Operation '-' is not supported\n",
      "op = max: 3\n",
      "op = min: 2\n"
     ]
    }
   ],
   "source": [
    "for op in ['+', '*', '-', 'max', 'min']:\n",
    "    try:\n",
    "        print(f\"op = {op}:\", my_binop(2, 3, op))\n",
    "    except ValueError as e:\n",
    "        print(\"that didn't work:\", e)"
   ]
  },
  {
   "cell_type": "markdown",
   "metadata": {
    "slideshow": {
     "slide_type": "slide"
    }
   },
   "source": [
    "## Default values\n",
    "\n",
    "If we know that most of the time, the function `my_binop` is used to compute the sum of its inputs then we can make addition the default operation.\n",
    "\n",
    "A default value for a parameter is indicated by providing the default value after the name of the parameter (with an `=` sign between the parameter name and the default value).\n",
    "\n",
    "To make addition the default operation, we have to modify the function definition as follows:"
   ]
  },
  {
   "cell_type": "code",
   "execution_count": 14,
   "metadata": {
    "slideshow": {
     "slide_type": "subslide"
    }
   },
   "outputs": [],
   "source": [
    "def my_binop(a, b, op='+'):\n",
    "    \"\"\"Apply a binary operation to inputs a and b\"\"\"\n",
    "    if op == '+':\n",
    "        return a + b\n",
    "    elif op == '*':\n",
    "        return a * b\n",
    "    elif op == 'max':\n",
    "        return np.maximum(a, b)\n",
    "    elif op == 'min':\n",
    "        return np.minimum(a, b)\n",
    "    else:\n",
    "        # invalid input, raise an error\n",
    "        raise ValueError(f\"Operation '{op}' is not supported\")"
   ]
  },
  {
   "cell_type": "markdown",
   "metadata": {
    "slideshow": {
     "slide_type": "subslide"
    }
   },
   "source": [
    "Then, `my_binop(a, b)` is equivalent to `my_binop(a, b, '+')` and all other operations still work unchanged.`"
   ]
  },
  {
   "cell_type": "code",
   "execution_count": 15,
   "metadata": {
    "slideshow": {
     "slide_type": "fragment"
    }
   },
   "outputs": [
    {
     "name": "stdout",
     "output_type": "stream",
     "text": [
      "my_binop(2, 3) =  5\n",
      "my_binop(2, 3, '+') =  5\n",
      "my_binop(2, 3, '*') =  6\n",
      "my_binop(2, 3, 'max') =  3\n",
      "my_binop(2, 3, 'min') =  2\n"
     ]
    }
   ],
   "source": [
    "print(\"my_binop(2, 3) = \", my_binop(2, 3))\n",
    "print(\"my_binop(2, 3, '+') = \", my_binop(2, 3, '+'))\n",
    "print(\"my_binop(2, 3, '*') = \", my_binop(2, 3, '*'))\n",
    "print(\"my_binop(2, 3, 'max') = \", my_binop(2, 3, 'max'))\n",
    "print(\"my_binop(2, 3, 'min') = \", my_binop(2, 3, 'min'))"
   ]
  },
  {
   "cell_type": "markdown",
   "metadata": {
    "slideshow": {
     "slide_type": "slide"
    }
   },
   "source": [
    "## Variable number of input arguments\n",
    "\n",
    "Our final refinement is to allow for an arbitrary number of input values. We will call the resulting function `my_reduce`.\n",
    "\n",
    "We want to be able to call my reduce in any of the following ways:\n",
    "* `my_reduce(2, 3)`: expected result is 5\n",
    "* `my_reduce(2, 3, 4)`: expected result is 9\n",
    "* `my_reduce(2, 3, 4, 5, 6, op='max')`: expected result is 6\n",
    "* `my_reduce(2, op='*')`: expected result is 2\n",
    "\n",
    "The number of input values is at least 1 and otherwise unlimited. \n",
    "\n",
    "It turns out that the `op` parameter must be provided as a named parameter while the input values must be provided as positional parameters."
   ]
  },
  {
   "cell_type": "markdown",
   "metadata": {
    "slideshow": {
     "slide_type": "slide"
    }
   },
   "source": [
    "The trick to accomplishing our objective is to use a function definition as follows:\n",
    "``` python\n",
    "def my_reduce(a, *others, op='+'):\n",
    "```\n",
    "\n",
    "The three parameters of the functions have the following significance:\n",
    "* `a`: is the place-holder for the one required input value\n",
    "* `*others`: the `*` signifies that this parameter absorbs **all** remaining positional arguments; they are stored in a tuple named `others`. \n",
    "  - the name `others` is not prescribed; you often see `*args` in functions with varible numbers of inputs\n",
    "  - we can then iterate over `others` in the function body\n",
    "* `op='+`: indicates the operation to be performed with a default value of `'+'`.\n",
    "  - we **must** provide `op` as a nmed parameter since `*others` absorbs all named parameters \n",
    "\n",
    "The function below uses our `my_binop` function to incorporate one value at a time into the result.\n",
    "\n",
    "<p style=\"margin-bottom: 15px; padding: 4px 12px; background-color: #e7f3fe; border-left: 6px solid #2196F3;\">\n",
    "This works because the supported operations are all <em>associative</em>.\n",
    "</p>\n",
    "\n",
    "Here is the (surprisingly) brief function:"
   ]
  },
  {
   "cell_type": "code",
   "execution_count": 16,
   "metadata": {
    "slideshow": {
     "slide_type": "subslide"
    }
   },
   "outputs": [],
   "source": [
    "def my_reduce(a, *others, op='+'):\n",
    "    \"\"\"reduce a list of values using operation op\"\"\"\n",
    "\n",
    "    # initialize the result to the first value\n",
    "    res = a\n",
    "\n",
    "    for v in others:\n",
    "        # update the result by incorporating the next value\n",
    "        res = my_binop(res, v, op)\n",
    "\n",
    "    # done! return result\n",
    "    return res"
   ]
  },
  {
   "cell_type": "code",
   "execution_count": 17,
   "metadata": {
    "slideshow": {
     "slide_type": "subslide"
    }
   },
   "outputs": [
    {
     "name": "stdout",
     "output_type": "stream",
     "text": [
      "my_reduce(2, 3) =  5\n",
      "my_reduce(2, 3, 4) =  9\n",
      "my_reduce(2, 3, 4, 5, 6, op='max') =  6\n",
      "my_reduce(2, op='*') =  2\n"
     ]
    }
   ],
   "source": [
    "## invoke my_reduce\n",
    "print(\"my_reduce(2, 3) = \", my_reduce(2, 3))\n",
    "print(\"my_reduce(2, 3, 4) = \", my_reduce(2, 3, 4))\n",
    "print(\"my_reduce(2, 3, 4, 5, 6, op='max') = \", my_reduce(2, 3, 4, 5, 6, op='max'))\n",
    "print(\"my_reduce(2, op='*') = \", my_reduce(2, op='*'))\n"
   ]
  },
  {
   "cell_type": "markdown",
   "metadata": {
    "slideshow": {
     "slide_type": "slide"
    }
   },
   "source": [
    "### Our functions are very flexible\n",
    "\n",
    "Throughout, our examples have used integers as the input arguments.\n",
    "\n",
    "However, our functions work equally well for:\n",
    "* floating point numbers\n",
    "* complex numbers (max and min consider the absolute value)\n",
    "* any combination of integers, floats and complex numbers\n",
    "* and for NumPy arrays; reductions are computed element-wise\n",
    "\n",
    "For example, the following computes the element-by-element sum of three NumPy arrays."
   ]
  },
  {
   "cell_type": "code",
   "execution_count": 18,
   "metadata": {
    "slideshow": {
     "slide_type": "subslide"
    }
   },
   "outputs": [
    {
     "data": {
      "text/plain": [
       "array([ 9, 10, 11])"
      ]
     },
     "execution_count": 18,
     "metadata": {},
     "output_type": "execute_result"
    }
   ],
   "source": [
    "x = np.array([1, 2, 3])\n",
    "y = np.array([3, 2, 1])\n",
    "z = np.array([5, 6, 7])\n",
    "\n",
    "my_reduce(x, y, z)"
   ]
  },
  {
   "cell_type": "markdown",
   "metadata": {
    "slideshow": {
     "slide_type": "slide"
    }
   },
   "source": [
    "## Doc Strings\n",
    "\n",
    "Every function you write should be documented. This allows a user of the function to use the function without having to dig through the source code.\n",
    "\n",
    "Python functions are documented in the body of the function according to the following principles:\n",
    "* the documentation is provided in a string that starts immediately after the `def` line\n",
    "* these doc strings begin and end with three consecutive quotation marks (`\"\"\"`)\n",
    "   - that marks them as multi-line strings\n",
    "* the first line is a brief summary of what the function does\n",
    "* if needed, additional explanation can be provided after an empty line\n",
    "* Next, after an empty line, introduce the *parameters*\n",
    "  - write the word 'Parameters'\n",
    "  - on the next line, underline the word 'Parameters' using '-'\n",
    "  - then list each parameter, followed by a colon ':' \n",
    "  - after the colon, provide a description of the parameter\n",
    "  - if the parameter has a default value, indicate it as optional and provide the default value\n",
    "* After an empty line, list the return value or values\n",
    "  - write the word 'Returns'\n",
    "  - on the next line, underline the word 'Returns' using '-'\n",
    "  - describe the return values\n",
    "\n",
    "Additional information may be provided, e.g., example use.\n",
    "\n",
    "Here is how the `my_reduce` function should have been documented"
   ]
  },
  {
   "cell_type": "code",
   "execution_count": 19,
   "metadata": {
    "slideshow": {
     "slide_type": "subslide"
    }
   },
   "outputs": [],
   "source": [
    "def my_reduce(a, *others, op='+'):\n",
    "    \"\"\"reduce given values using operation op\n",
    "    \n",
    "    This function reduces an arbitrary number of values using the indicated\n",
    "    operation. The parameter `op` must be provided as a named (keyword) argument.\n",
    "\n",
    "    res = my_reduce(a, ..., op='+')\n",
    "\n",
    "    Parameters\n",
    "    ----------\n",
    "    a : the mandatory first value \n",
    "    ... : an arbitrary number of additional values\n",
    "    op : string indicating the operation to be performed. Must be one of\n",
    "         '+', '*', 'max', 'min'. Optional, default value\" '+'ArithmeticError\n",
    "\n",
    "    Returns\n",
    "    -------\n",
    "    result of the reduction; type is the same as the type of `a`\n",
    "    \"\"\"\n",
    "\n",
    "    # initialize the result to the first value\n",
    "    res = a\n",
    "\n",
    "    for v in others:\n",
    "        # update the result by incorporating the next value\n",
    "        res = my_binop(res, v, op)\n",
    "\n",
    "    # done! return result\n",
    "    return res"
   ]
  },
  {
   "cell_type": "markdown",
   "metadata": {
    "slideshow": {
     "slide_type": "slide"
    }
   },
   "source": [
    "With this doc string, the function documentation is available from within a notebook using the `help()` function. "
   ]
  },
  {
   "cell_type": "code",
   "execution_count": 20,
   "metadata": {
    "slideshow": {
     "slide_type": "fragment"
    }
   },
   "outputs": [
    {
     "name": "stdout",
     "output_type": "stream",
     "text": [
      "Help on function my_reduce in module __main__:\n",
      "\n",
      "my_reduce(a, *others, op='+')\n",
      "    reduce given values using operation op\n",
      "    \n",
      "    This function reduces an arbitrary number of values using the indicated\n",
      "    operation. The parameter `op` must be provided as a named (keyword) argument.\n",
      "    \n",
      "    res = my_reduce(a, ..., op='+')\n",
      "    \n",
      "    Parameters\n",
      "    ----------\n",
      "    a : the mandatory first value \n",
      "    ... : an arbitrary number of additional values\n",
      "    op : string indicating the operation to be performed. Must be one of\n",
      "         '+', '*', 'max', 'min'. Optional, default value\" '+'ArithmeticError\n",
      "    \n",
      "    Returns\n",
      "    -------\n",
      "    result of the reduction; type is the same as the type of `a`\n",
      "\n"
     ]
    }
   ],
   "source": [
    "help(my_reduce)"
   ]
  },
  {
   "cell_type": "markdown",
   "metadata": {
    "slideshow": {
     "slide_type": "slide"
    }
   },
   "source": [
    "## Summary\n",
    "\n",
    "We introduced the syntax for creating functions in Python. Important topics we covered include:\n",
    "\n",
    "* a function's `def` line\n",
    "* function parameters and arguments\n",
    "* positional and named parameters\n",
    "* returning values from a function with `return`\n",
    "* optional parameters and default values\n",
    "* checking input arguments and raising errors\n",
    "* functions with varying numbers of parameters\n",
    "\n",
    "These are all important topics that you need to master so that you can focus on the substance of the functions."
   ]
  }
 ],
 "metadata": {
  "celltoolbar": "Slideshow",
  "kernelspec": {
   "display_name": "Python 3 (ipykernel)",
   "language": "python",
   "name": "python3"
  },
  "language_info": {
   "codemirror_mode": {
    "name": "ipython",
    "version": 3
   },
   "file_extension": ".py",
   "mimetype": "text/x-python",
   "name": "python",
   "nbconvert_exporter": "python",
   "pygments_lexer": "ipython3",
   "version": "3.10.12"
  }
 },
 "nbformat": 4,
 "nbformat_minor": 2
}
