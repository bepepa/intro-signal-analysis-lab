{
 "cells": [
  {
   "cell_type": "markdown",
   "metadata": {},
   "source": [
    "# Music Synthesis\n",
    "\n",
    "In this lab, you will apply the skills that you have learned over the past weeks to an interesting signal processing problem. \n",
    "\n",
    "We will take a well known piece of music - provided in a \"digital\" version of sheet music - and synthesize this music. In a sense, we are programming our computers to be a musical instrument.\n",
    "\n",
    "Don't be concerned if you don't have experience reading or playing music. All you need to complete this lab are your signal processing and Python/Numpy skills.\n",
    "\n",
    "This lab is split into two parts:\n",
    "* In the first part, you will learn to synthesize a musical scale and a simple version of the piece of music.\n",
    "* In the second part, you will improve how the music is synthesized\n",
    "\n",
    "Each of these parts will take one week."
   ]
  },
  {
   "cell_type": "code",
   "execution_count": null,
   "metadata": {},
   "outputs": [],
   "source": [
    "# Import the usual suspects, including the Audio widget\n",
    "%matplotlib inline\n",
    "import matplotlib.pyplot as plt\n",
    "\n",
    "import numpy as np\n",
    "\n",
    "from IPython.display import Audio"
   ]
  },
  {
   "cell_type": "markdown",
   "metadata": {},
   "source": [
    "## This notebook is incomplete\n",
    "\n",
    "In this notebook, there are multiple places for you to fill in either code or text.\n",
    "\n",
    "You should do that directly in this notebook. \n",
    "\n",
    "Once you have completed all your work in this notebook, rerun the entire notebook using \"Kernel > Restart and Run All\" from the menubar. \n",
    "\n",
    "Fix any errors, then remove this cell (your notebook is now complete), and submit."
   ]
  },
  {
   "cell_type": "markdown",
   "metadata": {},
   "source": [
    "## Background: Piano Keys and frequencies\n",
    "\n",
    "Our aim will be to synthesize music from sheet music. However, to simplify matters we will use keys on the piano instead of the placement of notes on the sheet of music to designate the frequency of the tones that make up the music. \n",
    "Specifically, we number all the keys on the piano from left to right and each key produces one of the tones that the sheet music indicates.\n",
    "\n",
    "We need to take a quick look at how the number of a piano key relates to the frequency of the tone that it produces. \n",
    "\n",
    "On a piano, the keyboard is divided into octaves — the notes in one octave being twice the frequency of the notes in the next lower octave. \n",
    "For example, we will use as our reference note the A-note near the middle of the piano keyboard. This tone is sometimes called A-440 because its frequency is 440 Hz. The piano key to play A-440 is the 49-th key from the left. Therefore, we will designate the tone A-440 by its piano key number 49.\n",
    "\n",
    "<p style=\"margin-bottom: 15px; padding: 4px 12px; background-color: #e7f3fe; border-left: 6px solid #2196F3;\">\n",
    "Piano key 49 corresponds to frequency 440 Hz.\n",
    "</p>\n",
    "\n",
    "To determine the frequency of other keys on the piano, we need a second important relationship. There are 12 piano keys in each octave and the frequency doubles in each octave. Moreover, the ratio of frequencies produced by adjacent keys is constant. From these observations, it follows that the frequency from one key to the next increases by $2^{1/12} = \\sqrt[12]{2}$.\n",
    "\n",
    "Putting all our observations together, we can conclude that the frequency $f_k$ produced by the $k$-th piano key is given by:\n",
    "$$\n",
    "f_k = 440 \\cdot 2^{\\frac{k-49}{12}}.\n",
    "$$"
   ]
  },
  {
   "cell_type": "markdown",
   "metadata": {},
   "source": [
    "### Task: A function for translating key numbers to frequencies\n",
    "\n",
    "Write a function `key_to_freq` that computes the frequency of the tone that is produced when the $k$-th tone on a piano keyboard is pressed.\n",
    "\n",
    "The only input to this function is an integer $k$ and the only value returned from this function is the frequency of the tone."
   ]
  },
  {
   "cell_type": "code",
   "execution_count": null,
   "metadata": {},
   "outputs": [],
   "source": [
    "def key_to_freq( k ):\n",
    "    \n",
    "    FILL_ME_IN"
   ]
  },
  {
   "cell_type": "code",
   "execution_count": null,
   "metadata": {},
   "outputs": [],
   "source": [
    "## checks\n",
    "assert abs(key_to_freq(49) - 440) < 1e-8\n",
    "assert abs(key_to_freq(61) - 880) < 1e-8\n",
    "assert abs(key_to_freq(37) - 220) < 1e-8\n",
    "assert abs(key_to_freq(40) - 261.6255653) < 1e-8\n",
    "\n",
    "print('OK')"
   ]
  },
  {
   "cell_type": "markdown",
   "metadata": {},
   "source": [
    "## Synthesizing a Musical Scale\n",
    "\n",
    "Towards synthesizing our music, we begin with a musical scale. \n",
    "\n",
    "The C-major scale is produced, when the notes C, D, E, F, G, A, B, C are played consecutively. The corresponding keys are the white keys in the middle of the middle of the piano; they are numbered `[40, 42, 44, 45, 47, 49, 51, 52]`.\n",
    "\n",
    "Our first goal is to synthesize the sound that is produced by played these eight notes consecutively for a quarter second each.\n",
    "\n",
    "As the first step towards that goal,  write a function to synthesize a single tone of a given duration. "
   ]
  },
  {
   "cell_type": "markdown",
   "metadata": {},
   "source": [
    "### Task: Write a function to synthesize tones\n",
    "\n",
    "Write a function `key_to_tone` that synthesizes the samples to play the tone indicated by a piano key `k` for `dur` seconds.\n",
    "\n",
    "Your function must take the following parameters:\n",
    "* `k` - piano key number\n",
    "* `dur` - duration of the tone in seconds\n",
    "* `fs` - sample rate; this parameter is optional and has a default value of 11025 Hz\n",
    "\n",
    "Your function must return a NumPy vector of samples. When this vector is passed to the `Audio` widget the result must be a tone of the correct frequency and duration."
   ]
  },
  {
   "cell_type": "code",
   "execution_count": null,
   "metadata": {},
   "outputs": [],
   "source": [
    "def key_to_tone(k, dur, fs=11025):\n",
    "    \n",
    "    FILL_ME_IN"
   ]
  },
  {
   "cell_type": "code",
   "execution_count": null,
   "metadata": {},
   "outputs": [],
   "source": [
    "# play A-440 for one second\n",
    "fs = 11025\n",
    "Audio(key_to_tone(49, 1, fs), rate=fs)"
   ]
  },
  {
   "cell_type": "markdown",
   "metadata": {},
   "source": [
    "### Synthesizing the Scale\n",
    "\n",
    "Now, synthesizing the scale is fairly straightforward. All we have to do is \n",
    "* synthesize each tone\n",
    "* put the tones one-after-another\n",
    "\n",
    "For the second step, there are at least two options:\n",
    "* we can use NumPy's `np.concatenate` function to build up the sequence of tones\n",
    "* we can allocate all samples (using `np.zeros`) and then insert the samples for each tone in the right locations\n",
    "\n",
    "Let's look at both of these options, beginning with the one using `np.concatenate`."
   ]
  },
  {
   "cell_type": "code",
   "execution_count": null,
   "metadata": {},
   "outputs": [],
   "source": [
    "## synthesize a musical scale using np.concatenate()\n",
    "keys = np.array([40, 42, 44, 45, 47, 49, 51, 52])\n",
    "dur = 0.5\n",
    "\n",
    "xx = np.array([])  # initialize signal\n",
    "for k in keys:\n",
    "    tone = key_to_tone(k, dur, fs)\n",
    "    xx = np.concatenate((xx, tone))  # the double-parentheses are needed\n",
    "\n",
    "Audio(xx, rate=fs)"
   ]
  },
  {
   "cell_type": "markdown",
   "metadata": {},
   "source": [
    "An alternative way to construct our scale is to first allocate all samples and then copy the tones in the right places of the allocated vector.\n",
    "\n",
    "In this version, the variable `seg` keeps track of the sample number where the generated tone is inserted into the pre-allocated vector `xx`. The `Nt` samples produced by `key_to_tone` are inserted into the slice `xx[seg : seg+Nt]`."
   ]
  },
  {
   "cell_type": "code",
   "execution_count": null,
   "metadata": {},
   "outputs": [],
   "source": [
    "## synthesize scale using pre-allocation\n",
    "# compute total number of samples and samples per tone\n",
    "Nt = len( key_to_tone(49, dur, fs))  # determine how long each tone is\n",
    "Ns = Nt * len(keys)\n",
    "\n",
    "xx = np.zeros(Ns)  # allocate memory to hold signals\n",
    "seg = 0\n",
    "\n",
    "for k in keys:\n",
    "    xx[seg : seg+Nt] = key_to_tone(k, dur, fs) # insert tone in the right place in `xx`\n",
    "    seg += Nt\n",
    "\n",
    "Audio(xx, rate=fs)"
   ]
  },
  {
   "cell_type": "markdown",
   "metadata": {},
   "source": [
    "The first method appears simpler as we do not need to concern ourselves with any of the sample indices. \n",
    "\n",
    "However, that method also has at least two serious drawbacks:\n",
    "1. it is slow as new memory needs to be allocated each time `np.concatenate` is called and the new vector must be copied to the new location.\n",
    "  - the computational complexity of this method is $O(N^2)$ where $N$ is the number of samples\n",
    "2. it is not easy to insert pauses of a given length into the signal\n",
    "  - doing so will likely require calculation of sample indices\n",
    "\n",
    "For this reason, we will adopt the method based on the computation of sample indices going forward."
   ]
  },
  {
   "cell_type": "markdown",
   "metadata": {},
   "source": [
    "#### Task: Spectrogram\n",
    "\n",
    "Before moving on, plot the spectrogram of the synthesized signal. Make sure to include labels for the axes and a colorbar.\n",
    "\n",
    "Try different values for the parameter `NFFT` of the spectrogram function. The value you pass should be a power of 2. Reasonable values are between 512 and 2048."
   ]
  },
  {
   "cell_type": "code",
   "execution_count": null,
   "metadata": {},
   "outputs": [],
   "source": [
    "# plot the spectrogram of the signal\n",
    "FILL_ME_IN\n",
    "\n",
    "plt.show()"
   ]
  },
  {
   "cell_type": "markdown",
   "metadata": {},
   "source": [
    "### Tempo and time units\n",
    "\n",
    "Peeking ahead again, in real music notes are not all of the same duration; there are half notes, quarter notes, eighth notes, etc. \n",
    "\n",
    "Moreover the length of these notes is relative to some tempo that is specified in the instructions. Musicians think of tempo in terms of *beats per minute* (`BPM`) where the duration of a beat usually corresponds to a quarter note.\n",
    "\n",
    "For example, if `BPM = 120` then there are 2 quarter notes per second and, therefore, each quarter note and beat has a duration of 0.5 seconds. \n",
    "\n",
    "Since there are even shorter notes than the quarter notes, we need a time unit that is smaller than a beat. Computer programs that synthesize or manipulate sounds are called *sequencers* and they refer to this smaller time unit as a *pulse*. \n",
    "The relation between beats and pulses is the parameters *pulses per quarter note* (`PPQ`). We will be using `PPQ = 4` as the shortest note we will be synthesizing is a sixteenthh note; commercial synthesizers use much larger values for PPQ to achieve very fine time resolution.\n",
    "\n",
    "In summary, we have two parameters to specify tempo and time resolution:\n",
    "* `BPM` indicates how many quarter notes per minute can be played\n",
    "* `PPQ` indicates how many pulse occupy a quarter note; we will use `PPQ = 4` consistently\n",
    "\n",
    "From these parameters, we can compute the following time-units:\n",
    "``` python\n",
    "beats_per_second = BPM / 60\n",
    "seconds_per_beat = 1 / beats_per_second    # also duration of a quarter note\n",
    "seconds_per_pulse = seconds_per_beat / PPQ # duration of a pulse\n",
    "\n",
    "samples_per_pulse = int( seconds_per_pulse * fs )\n",
    "```\n",
    "\n",
    "<p style=\"margin-bottom: 15px; padding: 4px 12px; background-color: #ddffdd; border-left: 6px solid #04AA6D;\">\n",
    "Going forward we will express all durations and time instances in terms of <tt>seconds_per_pulse</tt>.\n",
    "</p>"
   ]
  },
  {
   "cell_type": "markdown",
   "metadata": {},
   "source": [
    "### Revisiting the musical scale\n",
    "\n",
    "To put our discussion of tempo and time-units to use, lets synthesize the musical scale again. This time, we will specify all time units in terms of pulses and we will insert short pauses between notes.\n",
    "\n",
    "Specifically, we will synthesize the musical scale as follows:\n",
    "* Notes start at multiples of 4 pulses\n",
    "* Each note has a duration of 3 pulses\n",
    "\n",
    "we capture these two requirements via two vectors, `durations` and `startPulses`, that are of the same length as the vector `keys`. According to the specifications above, the vectors `durations` and `startPulses` must be as follows."
   ]
  },
  {
   "cell_type": "code",
   "execution_count": null,
   "metadata": {},
   "outputs": [],
   "source": [
    "## specify `durations` and `startPulses` for musical scale\n",
    "# all times and duration in pulses\n",
    "N_notes = len( keys )\n",
    "\n",
    "durations = 3 * np.ones_like(keys)\n",
    "startPulses = np.arange(N_notes) * 4\n",
    "\n",
    "print('keys: ', keys)\n",
    "print('durations: ', durations)\n",
    "print('startPulses:', startPulses) "
   ]
  },
  {
   "cell_type": "markdown",
   "metadata": {},
   "source": [
    "#### Synthesize the revised musical scale\n",
    "\n",
    "Before synthesizing the scale, we define the necessary timing parameters.\n",
    "\n",
    "Specifically, we want 120 beats per minutes and set `PPQ = 4`.\n",
    "\n",
    "With these definitions and specification of the sample rate `fs`, we can compute the following timing values:"
   ]
  },
  {
   "cell_type": "code",
   "execution_count": null,
   "metadata": {},
   "outputs": [],
   "source": [
    "## Timing related parameters and time units\n",
    "# Timing parameters\n",
    "BPM = 120\n",
    "PPQ = 4\n",
    "\n",
    "fs = 11025\n",
    "\n",
    "# derived parameters\n",
    "beats_per_second = BPM / 60\n",
    "seconds_per_beat = 1 / beats_per_second    # also duration of a quarter note\n",
    "seconds_per_pulse = seconds_per_beat / PPQ # duration of a pulse\n",
    "\n",
    "samples_per_pulse = int( seconds_per_pulse * fs )\n"
   ]
  },
  {
   "cell_type": "markdown",
   "metadata": {},
   "source": [
    "Now, we can synthesize the scale. As before, we proceed as follows:\n",
    "\n",
    "* allocate a vector `xx` that is long enough to hold all samples\n",
    "  - the length of the vector can be derived from the provided parameters\n",
    "    + the start time of the last pulse lets us compute the number of samples before the last tone\n",
    "    + we add the number of samples for the last tone \n",
    "    + to find the total number of samples `Ns`\n",
    "* Each tone is synthesized individually\n",
    "  - the frequency is given by `keys[n]`\n",
    "  - the duration (in seconds) equals `durations[n] * seconds_per_pulse`\n",
    "* the starting sample number `seg` for each tone\n",
    "  - is given by `startPulses[n] * samples_per_pulse`\n",
    "* the samples for each tone are inserted into the slice `xx[seg : seg+Nt]`\n",
    "  - where `Nt` is the length of the tone"
   ]
  },
  {
   "cell_type": "code",
   "execution_count": null,
   "metadata": {},
   "outputs": [],
   "source": [
    "## Allocate memory to hold the signal\n",
    "Ns = startPulses[-1] * samples_per_pulse + len(key_to_tone(keys[-1], durations[-1]*seconds_per_pulse, fs)) \n",
    "xx = np.zeros(Ns)\n",
    "\n",
    "# compute samples\n",
    "for n in range(len(keys)):\n",
    "    # tone has duration `durations[n]*seconds_per_pulse``\n",
    "    tone = key_to_tone(keys[n], durations[n] * seconds_per_pulse, fs) \n",
    "    # first sample for this pulse\n",
    "    seg = startPulses[n] * samples_per_pulse\n",
    "    # length of tone in samples\n",
    "    Nt = len(tone)\n",
    "\n",
    "    # insert tone\n",
    "    xx[seg : seg+Nt] = tone\n",
    "\n",
    "Audio(xx, rate=fs)"
   ]
  },
  {
   "cell_type": "markdown",
   "metadata": {},
   "source": [
    "Let's again, look at the spectrogram of the synthesized signal. \n",
    "\n",
    "Notice that the pauses between tones are clearly visible.\n",
    "\n",
    "<p style=\"margin-bottom: 15px; padding: 4px 12px; background-color: #ffffcc; border-left: 6px solid #ffeb3b;\">\n",
    "You may get a warning about a division by zero. If so, try to add a small constant (e.g., <tt>1e-4</tt>) when you pass the signal to the spectrogram function.\n",
    "</p>"
   ]
  },
  {
   "cell_type": "code",
   "execution_count": null,
   "metadata": {},
   "outputs": [],
   "source": [
    "FILL_ME_IN\n",
    "\n",
    "plt.show()\n"
   ]
  },
  {
   "cell_type": "markdown",
   "metadata": {},
   "source": [
    "### Task: A function to synthesize the scale\n",
    "\n",
    "Turn the code above into a function `synthesize`. This function takes as parameters:\n",
    "\n",
    "* a vector `keys` that specifies the piano keys and, thus, the frequencies to be played\n",
    "* a vector `durations` that specifies the length of each note in pulses\n",
    "* a vector `startPulses` that provides the start time of each tone in pulses\n",
    "* a tempo variable `BPM`\n",
    "* a sample rate `fs` with a default value of 11025\n",
    "* the number of pulses per beat `PPQ` with a default value of 4.\n",
    "\n",
    "The function must return a vector of samples. When this vector is passed to the `Audio` widget it must play the \"music\" specified by the input parameters.\n",
    "\n",
    "Do not invoke the `Audio` widget from within your function."
   ]
  },
  {
   "cell_type": "code",
   "execution_count": null,
   "metadata": {},
   "outputs": [],
   "source": [
    "def synthesize(keys, durations, startPulses, BPM, fs=11025, PPQ=4):\n",
    "    \"\"\"Synthesize a sequence of tones\n",
    "    \n",
    "    Parameters:\n",
    "    -----------\n",
    "    keys - a vector that specifies the piano keys and, thus, the frequencies to be played\n",
    "    durations - a vector that specifies the length of each note in pulses\n",
    "    startPulses - a vector that provides the start time of each tone in pulses\n",
    "    BPM - tempo variable \n",
    "    fs - sample rate with a default value of 11025\n",
    "    PPQ - the number of pulses per beat with a default value of 4.\n",
    "\n",
    "    Returns:\n",
    "    --------\n",
    "    a vector of samples\n",
    "    \"\"\"\n",
    "\n",
    "    FILL_ME_IN"
   ]
  },
  {
   "cell_type": "markdown",
   "metadata": {},
   "source": [
    "In the cell below, verify that your function works."
   ]
  },
  {
   "cell_type": "code",
   "execution_count": null,
   "metadata": {},
   "outputs": [],
   "source": [
    "xx = synthesize(keys, durations, startPulses, BPM, fs, PPQ)\n",
    "\n",
    "Audio(xx, rate=fs)"
   ]
  },
  {
   "cell_type": "markdown",
   "metadata": {},
   "source": [
    "## Synthesizing Music\n",
    "\n",
    "The piece of music we want to synthesize may be something that you recognize. It is called *Fugue #2 for the Well-Tempered Clavier* by J.S. Bach. The first few measures of the piece are shown in the image below. Clearly, this is not a format that we can work with directly.\n",
    "\n",
    "![Sheet Music](SheetMusic.png)\n",
    "\n"
   ]
  },
  {
   "cell_type": "markdown",
   "metadata": {},
   "source": [
    "### Data Format\n",
    "\n",
    "The sheet music has [been transcribed](https://dspfirst.gatech.edu/chapters/DSP1st2eLabs/bach_fugueData.zip) into a format that fits well with what we have been doing so far.\n",
    "\n",
    "In this piece, up to three notes are being played simultaneously. Therefore, the notes have been organized into three *voices*. In this first part of the lab, we will only synthesize the first of these voices.\n",
    "\n",
    "To begin, we load the data file. The data are stored in a standard format used in the Python community; this format is called the  `pickle` format. The tools to read a file in this format are part of the Python standard library.\n",
    "\n",
    "The code below loads the data that represent the sheet music into the variable `the_voices`."
   ]
  },
  {
   "cell_type": "code",
   "execution_count": null,
   "metadata": {},
   "outputs": [],
   "source": [
    "## load data from pickle file\n",
    "# load the pickle module\n",
    "import pickle\n",
    "\n",
    "# read data from file\n",
    "with open('bach_fugue.pkl', 'rb') as f:\n",
    "    # The protocol version used is detected automatically, so we do not\n",
    "    # have to specify it.\n",
    "    the_voices = pickle.load(f)"
   ]
  },
  {
   "cell_type": "markdown",
   "metadata": {},
   "source": [
    "We can now examine the first voice, `the_voices[0]`, (see below) and recognize that\n",
    "* it is a dictionary with three key-value pairs\n",
    "* `startPulses` is the key for an array that indicates the start times (in pulses) for notes to be played\n",
    "* `durations` is the key for an array that indicates the note durations (in pulses)\n",
    "* `noteNumbers` is the key for the notes to be played (expressed a piano key numbers)\n",
    "\n",
    "Thus, we can use the same method that we used for synthesizing the scale to play this music."
   ]
  },
  {
   "cell_type": "code",
   "execution_count": null,
   "metadata": {},
   "outputs": [],
   "source": [
    "the_voices[0]"
   ]
  },
  {
   "cell_type": "markdown",
   "metadata": {},
   "source": [
    "On the sheet music shown above, the tempo for this piece is indicated. Specifically, this piece is to be played at 80 beats per minute.\n",
    "\n",
    "Thus, we can synthesize and play the (first voice) of this music as follows:"
   ]
  },
  {
   "cell_type": "code",
   "execution_count": null,
   "metadata": {},
   "outputs": [],
   "source": [
    "## synthesize music\n",
    "# which voice to play\n",
    "n_voice = 0\n",
    "\n",
    "# synthesize\n",
    "ss = synthesize(the_voices[n_voice]['noteNumbers'],\n",
    "                the_voices[n_voice]['durations'],\n",
    "                the_voices[n_voice]['startPulses'],\n",
    "                BPM=80,\n",
    "                fs=11025,\n",
    "                PPQ=4)\n",
    "\n",
    "# play it\n",
    "Audio(ss, rate=fs)"
   ]
  },
  {
   "cell_type": "markdown",
   "metadata": {},
   "source": [
    "### Spectrogram\n",
    "\n",
    "To wrap up this first part, we compute the spectrogram of the signal we just synthesized.\n",
    "\n",
    "* Again, you may need to add a small constant to avoid warnings related to division by zero\n",
    "* Setting the `NFFT` parameter to 2048 appears to work reasonably well\n",
    "\n",
    "Try to play the signal while you're following along on the spectrogram. Can you correlate what you're hearing to what the spectrogram shows?\n",
    "* do you see the pauses?\n",
    "* do you hear and see passages with decreasing or increasing frequency?\n",
    "* do you hear the lower frequencies towards the end of the piece?"
   ]
  },
  {
   "cell_type": "code",
   "execution_count": null,
   "metadata": {},
   "outputs": [],
   "source": [
    "plt.specgram(ss + 1e-5, NFFT=2048, Fs=fs)\n",
    "plt.ylim(0, 1000)\n",
    "plt.xlabel('Time (s)')\n",
    "plt.ylabel('Frequency (Hz)')\n",
    "plt.colorbar()\n",
    "\n",
    "plt.show()"
   ]
  },
  {
   "cell_type": "markdown",
   "metadata": {},
   "source": [
    "## Summary\n",
    "\n",
    "The sound we synthesized is not a bad start, but it's not going to win us a Grammy. It clearly sounds artificial.\n",
    "\n",
    "In the second part of the lab, we will look to improve on what we have so far by:\n",
    "* adding in the other two voices\n",
    "* use an envelope to fade the tones in and out\n",
    "* add harmonics to each tone \n",
    "\n",
    "\n",
    "### Deliverable\n",
    "\n",
    "Submit a PDF version of this notebook. Make sure that:\n",
    "* all cells are properly typeset and the \"Incomplete\" cell near the top is removed\n",
    "* all code cells are complete (no `FILL_ME_IN` left)\n",
    "* all functions are properly documented\n",
    "* all plots have proper axis labels and other adornments as appropriate"
   ]
  },
  {
   "cell_type": "markdown",
   "metadata": {},
   "source": []
  }
 ],
 "metadata": {
  "kernelspec": {
   "display_name": "Python 3",
   "language": "python",
   "name": "python3"
  },
  "language_info": {
   "codemirror_mode": {
    "name": "ipython",
    "version": 3
   },
   "file_extension": ".py",
   "mimetype": "text/x-python",
   "name": "python",
   "nbconvert_exporter": "python",
   "pygments_lexer": "ipython3",
   "version": "3.10.12"
  },
  "orig_nbformat": 4
 },
 "nbformat": 4,
 "nbformat_minor": 2
}
