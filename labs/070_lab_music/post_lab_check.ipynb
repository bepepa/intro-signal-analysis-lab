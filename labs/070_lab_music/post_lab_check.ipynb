{
 "cells": [
  {
   "cell_type": "markdown",
   "metadata": {},
   "source": [
    "# Post-lab Check\n",
    "\n",
    "Use this notebook to develop your solution to the post-lab check. \n",
    "\n",
    "However, you must upload the Python script file `post_lab_check.py`.\n",
    "\n",
    "Once you have developed your solution, copy and paste the appropriate code into the python file.\n",
    "\n",
    "Your task is to write a simple signal processing function named `moving_average`\n",
    "according to the following specifications:\n",
    "* Your function takes as it's first input a sampled signal $x[n]$ (variable name `xx`)\n",
    "  - this signal is passed as a NumPy array\n",
    "  - the signals may be complex-valued, e.g., complex exponential signals\n",
    "* The second parameter $M$ is the length of the siding average\n",
    "  - this parameter must a positive integer\n",
    "* your function must compute and return a sampled signal $y[n]$ (variable name `yy`) of the same length $N$ as `xx`\n",
    "  - The $n$-th sample $y[n]$ is computed from the input signal as follows \n",
    "    $$\n",
    "    y[n] = \\frac{1}{M} \\sum_{k=0}^{M-1} x[n-k] \\quad \\text{for $n=0,1, \\ldots, N-1$}\n",
    "    $$\n",
    "    + the $n$-th sample of $y[n]$ is the average of the last $M$ samples of the input signal\n",
    "* Note that $x[n-k]$ may reference negative indices of the input signal (i.e., $n-k$ may be negative)\n",
    "  - when that happens, assume that $x[n-k]=0$\n",
    "  - in other words, treat those case as if $x[n]=0$ for all $n<0$.\n",
    "* Your function must handle the following special cases\n",
    "  - if the lengths of `xx` is zero, then `yy` must also be of length zero\n",
    "  - if $M\\leq 0$, then your function must raise a `ValueError`\n",
    "* Your function must include a proper *doc string*.\n",
    "  - this includes (at least) a description of the Parameters and Return values"
   ]
  },
  {
   "cell_type": "code",
   "execution_count": null,
   "metadata": {},
   "outputs": [],
   "source": [
    "## imports \n",
    "import numpy as np"
   ]
  },
  {
   "cell_type": "markdown",
   "metadata": {},
   "source": [
    "## Task: Function to moving average\n",
    "\n",
    "Provide a function according to the above specifications in the cell below.\n",
    "\n",
    "**DO** copy  the contents of the following cell into the designated part of the Python file."
   ]
  },
  {
   "cell_type": "code",
   "execution_count": null,
   "metadata": {},
   "outputs": [],
   "source": [
    "## Copy this cell into the region marked for this Task in the Python file\n",
    "def moving_average(xx, M):\n",
    "    pass"
   ]
  },
  {
   "cell_type": "markdown",
   "metadata": {},
   "source": [
    "Do **NOT** copy the following cell, it is for you to test your function.\n",
    "\n",
    "Note, that not all of the specified requirements are checked here."
   ]
  },
  {
   "cell_type": "code",
   "execution_count": null,
   "metadata": {},
   "outputs": [],
   "source": [
    "## Don not copy this cell\n",
    "## this cell is for testing only\n",
    "\n",
    "#make signal to test with\n",
    "fs = 100\n",
    "tt = np.arange(0, 1, 1/fs)\n",
    "\n",
    "xx = np.array([1, 2, 3, 4, 3, 2, 1])\n",
    "\n",
    "# length 2 moving average\n",
    "assert np.allclose(moving_average(xx, 2), np.array([1, 3, 5, 7, 7, 5, 3])/2)\n",
    "\n",
    "# length 3 moving average\n",
    "assert np.allclose(moving_average(xx, 3), np.array([1, 3, 6, 9, 10, 9, 6])/3)\n",
    "\n",
    "# check that the proper exception is raised\n",
    "try:\n",
    "    moving_average(xx, 0)\n",
    "except ValueError:\n",
    "    pass\n",
    "\n",
    "print(\"OK\")"
   ]
  },
  {
   "cell_type": "markdown",
   "metadata": {},
   "source": [
    "Once, you are satisfied with your results. Copy and paste the code from the cell that contains your computations into the Python file `post_lab_check.py` for upload to Gradescope."
   ]
  }
 ],
 "metadata": {
  "kernelspec": {
   "display_name": "Python 3",
   "language": "python",
   "name": "python3"
  },
  "language_info": {
   "codemirror_mode": {
    "name": "ipython",
    "version": 3
   },
   "file_extension": ".py",
   "mimetype": "text/x-python",
   "name": "python",
   "nbconvert_exporter": "python",
   "pygments_lexer": "ipython3",
   "version": "3.10.12"
  },
  "orig_nbformat": 4
 },
 "nbformat": 4,
 "nbformat_minor": 2
}
