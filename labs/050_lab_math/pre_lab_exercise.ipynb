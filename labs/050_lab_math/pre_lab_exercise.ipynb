{
 "cells": [
  {
   "cell_type": "markdown",
   "metadata": {},
   "source": [
    "# Prelab Exercise\n",
    "\n",
    "This notebook complements the pre-lab notebook [Turning Mathemetical Formulas into Code](https://nbviewer.org/github/bepepa/intro-signal-analysis-lab/blob/main/labs/050_lab_math/pre_lab_notes.ipynb).\n",
    "\n",
    "Complete the exercises in this notebook. Make sure that you open this notebook as a Jupyter Notebook, i.e., after you launched Jupyter Notebook from the Anaconda Navigator."
   ]
  },
  {
   "cell_type": "markdown",
   "metadata": {},
   "source": [
    "## Your Tasks\n",
    "\n",
    "* Generate and plot a signal `xx` according to a given specification\n",
    "* Then compute the spectrum of that signal (using provided function `analyze_signal`)\n",
    "* Plot the spectrum (using the provided function `plot_spectrum`)\n",
    "* Synthesize signal from the spectrum (using provided `synthesize_from_vector`) and verify that is identical to original.\n",
    "\n",
    "The cell below imports three functions from the pre-lab notebook that you will use in this exercise and also for the lab. Refere to that notebook for more details.\n",
    "\n",
    "**Note:** this notebook does not include checks of your work. You can tell that everything is working if the synthesized signal after the last task is equal to the signal that you started with."
   ]
  },
  {
   "cell_type": "code",
   "execution_count": null,
   "metadata": {},
   "outputs": [],
   "source": [
    "from spectrum_functions import analyze_signal, synthesize_from_vector, plot_spectrum"
   ]
  },
  {
   "cell_type": "code",
   "execution_count": null,
   "metadata": {},
   "outputs": [],
   "source": [
    "%matplotlib inline\n",
    "import numpy as np\n",
    "import matplotlib.pyplot as plt \n"
   ]
  },
  {
   "cell_type": "markdown",
   "metadata": {},
   "source": [
    "## Task: generate a signal\n",
    "\n",
    "Generate a signal `xx` according to the following specification\n",
    "\n",
    "* make a time grid between 0 and 1 and a sample rate $f_s=100$\n",
    "* set all samples of `xx` to zero\n",
    "* then set the first 17 samples to one (e.g., using `xx[:17] = 1`)\n",
    "\n",
    "Make a plot of the signal."
   ]
  },
  {
   "cell_type": "code",
   "execution_count": null,
   "metadata": {},
   "outputs": [],
   "source": [
    "# Generate the signal \n",
    "fs = 100\n",
    "\n",
    "tt = FILL_ME_IN\n",
    "\n",
    "xx = FILL_ME_IN\n"
   ]
  },
  {
   "cell_type": "code",
   "execution_count": null,
   "metadata": {},
   "outputs": [],
   "source": [
    "# plot of xx\n",
    "FILL_ME_IN\n",
    "\n",
    "plt.show()"
   ]
  },
  {
   "cell_type": "markdown",
   "metadata": {},
   "source": [
    "## Task: Compute and plot the spectrum\n",
    "\n",
    "* Compute the spectrum of `xx` using the function `analyze_signal()`\n",
    "  - store the result in variable `Xv`\n",
    "* Then, plot the spectrum you just computed using the function `plot_spectrum()`\n",
    "  - make both a line plot and a stem plot"
   ]
  },
  {
   "cell_type": "code",
   "execution_count": null,
   "metadata": {},
   "outputs": [],
   "source": [
    "# compute spectrum\n",
    "Xv = FILL_ME_IN\n",
    "\n",
    "# stem plot\n",
    "FILL_ME_IN\n",
    "\n",
    "# line plot \n",
    "FILL_ME_IN"
   ]
  },
  {
   "cell_type": "markdown",
   "metadata": {},
   "source": [
    "## Task: synthesize the signal from the spectrum\n",
    "\n",
    "* use the function `synthesize_from_vector()` to synthesize a signal from the spectrum vector `Xv`\n",
    "  - store the result in `xr`\n",
    "* plot both `xr` and the original signal `xx` and verify that they are identical\n",
    "  - except that `xr` is complex-valued with imaginary part equal to zero "
   ]
  },
  {
   "cell_type": "code",
   "execution_count": null,
   "metadata": {},
   "outputs": [],
   "source": [
    "# synthesize the signal\n",
    "xr = FILL_ME_IN\n",
    "\n",
    "plt.plot(tt, xx, label=\"original\")\n",
    "plt.plot(tt, xr.real, '--', label=\"real part of synthesized\")\n",
    "plt.plot(tt, xr.imag, '--', label=\"imag. part of synthesized\")\n",
    "\n",
    "plt.grid()\n",
    "plt.xlabel('Time (s)')\n",
    "plt.ylabel('$x(t)$')\n",
    "plt.legend()\n",
    "\n",
    "plt.show()"
   ]
  },
  {
   "cell_type": "code",
   "execution_count": null,
   "metadata": {},
   "outputs": [],
   "source": []
  }
 ],
 "metadata": {
  "kernelspec": {
   "display_name": "Python 3",
   "language": "python",
   "name": "python3"
  },
  "language_info": {
   "codemirror_mode": {
    "name": "ipython",
    "version": 3
   },
   "file_extension": ".py",
   "mimetype": "text/x-python",
   "name": "python",
   "nbconvert_exporter": "python",
   "pygments_lexer": "ipython3",
   "version": "3.10.12"
  },
  "orig_nbformat": 4
 },
 "nbformat": 4,
 "nbformat_minor": 2
}
