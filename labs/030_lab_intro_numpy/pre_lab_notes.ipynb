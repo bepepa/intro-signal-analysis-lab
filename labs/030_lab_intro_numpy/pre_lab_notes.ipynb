{
 "cells": [
  {
   "cell_type": "markdown",
   "metadata": {
    "slideshow": {
     "slide_type": "slide"
    }
   },
   "source": [
    "# Introduction to NumPy\n",
    "\n",
    "[Numpy](https://www.numpy.org) is a Python package for scientific computing. It is very well suited for signal processing applications.\n",
    "\n",
    "NumPy is widely used in science and enginering both at universities and in industry. NumPy is free, open-source software.\n",
    "\n",
    "This notebook is intended to provide you with an introduction to the NumPy concepts and commands that we will need for our class; that is a (very small) subset of what NumPy can do. You are encouraged to learn more about NumPy. Very good tutorial resources to help you with improving your NumPy skills can be found on the [NumPy website](https://numpy.org/learn/)."
   ]
  },
  {
   "cell_type": "code",
   "execution_count": 1,
   "metadata": {
    "slideshow": {
     "slide_type": "skip"
    }
   },
   "outputs": [],
   "source": [
    "## configure plotting\n",
    "%matplotlib inline\n",
    "import matplotlib.pyplot as plt"
   ]
  },
  {
   "cell_type": "markdown",
   "metadata": {
    "slideshow": {
     "slide_type": "slide"
    }
   },
   "source": [
    "## Importing NumPy\n",
    "\n",
    "NumPy is a Python package that you must load before you can use it.\n",
    "\n",
    "The canonical way to import Numpy is as follows; this statement should always appear as one of the very first statements in your notebooks or scripts."
   ]
  },
  {
   "cell_type": "code",
   "execution_count": 2,
   "metadata": {
    "slideshow": {
     "slide_type": "fragment"
    }
   },
   "outputs": [],
   "source": [
    "## import NumPy\n",
    "import numpy as np"
   ]
  },
  {
   "cell_type": "markdown",
   "metadata": {
    "slideshow": {
     "slide_type": "slide"
    }
   },
   "source": [
    "## So, what's the big deal?\n",
    "\n",
    "NumPy is built around the concept of N-dimensiional arrays. Most of the time, we will use 1-dimensional arrays (often called vectors) to store and process samples of a signal.\n",
    "\n",
    "Last week we showed how to perform simple signal processing tasks, like generating samples of a sinusoid, in pure Python.\n",
    "\n",
    "In pure Python, for-loops are required to compute the samples of a signal. Often, that can be done using a list comprehension. \n",
    "\n",
    "For example, we showed that a sinusoidal signal can be created in pure Python like this: "
   ]
  },
  {
   "cell_type": "code",
   "execution_count": 3,
   "metadata": {
    "slideshow": {
     "slide_type": "subslide"
    }
   },
   "outputs": [],
   "source": [
    "## generate a sinusoid in pure Python\n",
    "import math\n",
    "\n",
    "# make a time grid (N=1000 samples between 1 and 2) using a list comprehension\n",
    "N = 1000\n",
    "tt = [1 + n/N for n in range(1000)]\n",
    "\n",
    "# compute samples sinusoid 3*cos(2*pi*5*t - pi/3) over this grid\n",
    "xx = [3 * math.cos(2 * math.pi * 5 * t - math.pi/3) for t in tt]"
   ]
  },
  {
   "cell_type": "markdown",
   "metadata": {
    "slideshow": {
     "slide_type": "subslide"
    }
   },
   "source": [
    "For comparison, in Numpy we can create a vector with the same samples like this:"
   ]
  },
  {
   "cell_type": "code",
   "execution_count": 4,
   "metadata": {
    "slideshow": {
     "slide_type": "fragment"
    }
   },
   "outputs": [],
   "source": [
    "## generate a sinusoid usng NumPy\n",
    "tt = np.linspace(1, 2, N)\n",
    "xx = 3 * np.cos(2 * np.pi * 5 * tt - np.pi/3)"
   ]
  },
  {
   "cell_type": "markdown",
   "metadata": {
    "slideshow": {
     "slide_type": "slide"
    }
   },
   "source": [
    "Note in particular,\n",
    "\n",
    "* there exists a command `linspace` to generate a grid of evenly spaced samples\n",
    "* no list comprehension (or `for` loop) is required; the loop is built into the syntax\n",
    "    - the multipkication `2 * np.pi * 5 * tt` applies to all elements of tt\n",
    "    - the subtaction of `np.pi/3` applies to all elements of `2 * np.pi * 5 * tt`\n",
    "    - the `np.cos` function is applied to an entire vector of samples\n",
    "    - the multiplication by `3` also applies to all elements of the vector produced by the `np.cos` function\n",
    "* we say this code is vectorized\n",
    "\n",
    "Note, that an expression like \n",
    "```python\n",
    "xx = 3 * np.cos(2 * np.pi * 5 * tt - np.pi/3)\n",
    "```\n",
    "is very similar in appearnace to the corresponding equation for a sinusoidal signal\n",
    "$$\n",
    "x(t) = 3 \\cos(2 \\pi 5 t - \\frac{\\pi}{3}).\n",
    "$$\n",
    "\n",
    "These features make signal processing using NumPy much simpler and more convenient than with pure Python\n"
   ]
  },
  {
   "cell_type": "markdown",
   "metadata": {
    "slideshow": {
     "slide_type": "slide"
    }
   },
   "source": [
    "## NumPy Vectors\n",
    "\n",
    "NumPy vectors or arrays are containers that we use to hold signal samples.\n",
    "\n",
    "* most of the time, we will be using 1-dimensional arrays (vectors)\n",
    "* occasionaly, it makes sense to use two (or even more) dimensions\n",
    "    + e.g., a pair of stereo signals\n",
    "    * the RGB channels of an image\n",
    "\n",
    "NumPy vectors resemble Python lists\n",
    "* they store a sequence of elements\n",
    "* that can be accessed by an index, e.g., `xx[n]`,\n",
    "* or as a slice, e.g.,  `xx[n:m]`\n",
    "\n",
    "In contrast to Python lists, Numpy vectors\n",
    "* must have elements that are all be of the same type, e.g., `float` or `complex`\n",
    "    + that makes storage more compact and operations *much* faster\n",
    "* are data types that support arithmetic operations directly, e.g., `xx + yy`"
   ]
  },
  {
   "cell_type": "markdown",
   "metadata": {
    "slideshow": {
     "slide_type": "slide"
    }
   },
   "source": [
    "### Creating NumPy vectors\n",
    "\n",
    "There are a number of ways to create and initialize a NumPy vector with values.\n",
    "\n",
    "The most common ways are:\n",
    "* create a NumPy vector from a Python list (using `np.array()`)\n",
    "* create a vector of all zeros (using `np.zeros()`)\n",
    "* create a vector of ones  (using `np.ones()`)\n",
    "* create a vector of linearly spaced values (using `np.linspace()` or `np.arange()`)\n",
    "* create a vector of logarithmically spaced values (using `np.logspace()`)"
   ]
  },
  {
   "cell_type": "code",
   "execution_count": 5,
   "metadata": {
    "slideshow": {
     "slide_type": "subslide"
    }
   },
   "outputs": [],
   "source": [
    "## Turn a list into a NumPy array: pass a list to `np.array`\n",
    "x1 = np.array( [0, 1, 2, 3, 4, 5] )\n",
    "\n",
    "## make a vector of 10 zeros (of type `float`)\n",
    "x2 = np.zeros(10)\n",
    "# if you need a vector of complex numbers, initialized with zeros, say so\n",
    "x3 = np.zeros(10, dtype=complex)\n",
    "\n",
    "## make a vector of 20 ones (of type `float`)\n",
    "x4 = np.ones(20)\n",
    "# need the initial values to be 1+j instead?\n",
    "x5 = (1 + 1j) * np.ones(20)         # conversion to complex is automatic"
   ]
  },
  {
   "cell_type": "markdown",
   "metadata": {
    "slideshow": {
     "slide_type": "slide"
    }
   },
   "source": [
    "### Constructing a vector of linearly spaced values\n",
    "\n",
    "To synthesize signal samples, we have used a two-step process:\n",
    "* construct a time grid of linearly spaced time instances\n",
    "* use the time grid to compute sample values\n",
    "\n",
    "NumPy has two ways to create the time-grid of evenly spaced samples:\n",
    "* with `linspace` you specify: starting value $s$, end value $e$, and number of samples $N$, the spacing between samples is $d = \\frac{|e-s|}{N-1}$\n",
    "  - use `linspace` when you have a time interval and want a certain number of samples\n",
    "* with `arange` you specify: starting value $s$, end value $e$, and spacing $d$, the number of samples is $N = \\lceil \\frac{e - s}{d} \\rceil$\n",
    "  - use arange, when you are given the sample rate $f_s$ as the spacing between samples is equal to $1/f_s$. \n",
    "\n",
    "\n",
    "<p style=\"margin-bottom: 15px; padding: 4px 12px; background-color: #ffdddd; border-left: 6px solid #f44336;\">\n",
    "Note: with <tt>linspace</tt>, the end value e is included in the result, whereas with <tt>arange</tt> it is not. Unfortunately, that doesn't always make it easy to generate identical vectors using these two methods. \n",
    "</p>"
   ]
  },
  {
   "cell_type": "code",
   "execution_count": 6,
   "metadata": {
    "slideshow": {
     "slide_type": "subslide"
    }
   },
   "outputs": [
    {
     "name": "stdout",
     "output_type": "stream",
     "text": [
      "The first 50 elements of t1 and t2 are the same:  True\n",
      "The two vectors are the same length: False\n"
     ]
    }
   ],
   "source": [
    "## Two ways to generate a time grid\n",
    "s = 0\n",
    "e = 20\n",
    "N = 51\n",
    "d = (e - s) / (N-1)\n",
    "\n",
    "# N samples between s and e (inclusive)\n",
    "t1 = np.linspace(s, e, N)\n",
    "\n",
    "# linearly spaced samples between s and e with spacing d; e is not included\n",
    "t2 = np.arange(s, e, d)\n",
    "\n",
    "print(f\"The first {N-1} elements of t1 and t2 are the same: \", np.allclose(t1[:50], t2))\n",
    "print(\"The two vectors are the same length:\", len(t1) == len(t2))"
   ]
  },
  {
   "cell_type": "markdown",
   "metadata": {
    "slideshow": {
     "slide_type": "slide"
    }
   },
   "source": [
    "### Logarithmically spaced values\n",
    "\n",
    "Sometimes it iuseful to look at problems over many orders of magnitude, e.g., from Hz to GHz. This is useful, for example, when a function behaves like $1/x$.\n",
    "\n",
    "In such cases, evenly spaced samples are not useful - one would end up with too few samples at low frequencies and too many at high frequencies.\n",
    "\n",
    "Instead, we would like to keep the number of samples per order of magnitude constant.\n",
    "* there would be as many samples between 1KHz and 10KHz as between 100KHz and 1GHz\n",
    "\n",
    "The `logspace` command creates such a vector."
   ]
  },
  {
   "cell_type": "code",
   "execution_count": 7,
   "metadata": {
    "slideshow": {
     "slide_type": "subslide"
    }
   },
   "outputs": [
    {
     "name": "stdout",
     "output_type": "stream",
     "text": [
      "the vector has 5 samples between 1 and 10\n",
      "the vector has 5 samples between 10 and 100\n",
      "the vector is:  [  1.           1.58489319   2.51188643   3.98107171   6.30957344\n",
      "  10.          15.84893192  25.11886432  39.81071706  63.09573445\n",
      " 100.        ]\n"
     ]
    }
   ],
   "source": [
    "## generate a logarithmically spaced vector\n",
    "ll = np.logspace(0, 2, 11)\n",
    "\n",
    "# the vector has 5 samples per order of magnitude\n",
    "print('the vector has {:d} samples between 1 and 10'.format(np.sum(ll < 10)))\n",
    "print('the vector has {:d} samples between 10 and 100'.format(np.sum(np.logical_and(ll >=10, ll < 100))))\n",
    "\n",
    "print('the vector is: ', ll)"
   ]
  },
  {
   "cell_type": "markdown",
   "metadata": {
    "slideshow": {
     "slide_type": "slide"
    }
   },
   "source": [
    "### Sidebar: Attributes of NumPy arrays\n",
    "\n",
    "Sometimes it is useful or necessary to know how big an array is or what type of data is stored in an array.\n",
    "\n",
    "Each NumPy array has attributes that can be queried to answer these questions, including\n",
    "* Assume that we have a NumPy array named `xx`, then\n",
    "* `xx.ndim` provides the number of dimensions of the array\n",
    "* `xx.shape` is a tuple that gives the length in each dimension\n",
    "* `xx.dtype` indicates the data type of the elements\n",
    "* `xx.data` reveals the memory address where the elemts of the array are stored"
   ]
  },
  {
   "cell_type": "code",
   "execution_count": 8,
   "metadata": {
    "slideshow": {
     "slide_type": "subslide"
    }
   },
   "outputs": [
    {
     "name": "stdout",
     "output_type": "stream",
     "text": [
      "xx is a 2-dimensional array.\n",
      "It consists of 2 rows and 3 columns\n",
      "It contains elements of type float64\n",
      "Its elements are stored at memory address <memory at 0x11d5ef2a0>\n"
     ]
    }
   ],
   "source": [
    "## make a 2D array\n",
    "xx = np.array([[1., 2., 3.],\n",
    "               [4., 5., 6.]])\n",
    "\n",
    "print(f'xx is a {xx.ndim}-dimensional array.')\n",
    "print(f'It consists of {xx.shape[0]} rows and {xx.shape[1]} columns')\n",
    "print('It contains elements of type', xx.dtype)\n",
    "print('Its elements are stored at memory address', xx.data)"
   ]
  },
  {
   "cell_type": "markdown",
   "metadata": {
    "slideshow": {
     "slide_type": "slide"
    }
   },
   "source": [
    "## Math with NumPy Vectors\n",
    "\n",
    "For signal processing, our main interest is to do computations with vectors. NumPy makes that very convenient; usually it is very straightforward to translate an equation or an expression into NumPy code.\n",
    "\n",
    "The standard mathematical operations $+$, $-$, $\\cdot$, etc. are defined for vectors.\n",
    "* these operations are performed *element-by-element*\n",
    "  - the `for` loop is implicit\n",
    "* these operations will always work when\n",
    "  - the two vectors have the same number of elements\n",
    "  - one of the two operands is a scalar\n",
    "  - there are a cases with arrays of more than one dimension which also work (more on this later)\n",
    "* when the vectors are of different length, an error occurs"
   ]
  },
  {
   "cell_type": "code",
   "execution_count": 9,
   "metadata": {
    "slideshow": {
     "slide_type": "subslide"
    }
   },
   "outputs": [
    {
     "name": "stdout",
     "output_type": "stream",
     "text": [
      "a + b =  [11. 11. 11. 11. 11. 11. 11. 11. 11. 11.]\n",
      "a + c =  [ 6.  7.  8.  9. 10. 11. 12. 13. 14. 15.]\n"
     ]
    }
   ],
   "source": [
    "## make two equal length vectors and a scalar\n",
    "a = np.linspace(1, 10, 10)   # [1, 2, 3, ..., 10]\n",
    "b = np.linspace(10, 1, 10)   # [10, 9, 8, ..., 1]\n",
    "c = 5.                       # 5\n",
    "\n",
    "# then the following element-wise additions are easily computed without `for`\n",
    "print(\"a + b = \", a + b)\n",
    "print(\"a + c = \", a + c)"
   ]
  },
  {
   "cell_type": "markdown",
   "metadata": {
    "slideshow": {
     "slide_type": "subslide"
    }
   },
   "source": [
    "The following unary and binary operations on vectors are also defined. They all operate on an element-by-element basis.\n",
    "\n",
    "For each of the following operations, the result is a vector of the same length as `a` (or `b`)."
   ]
  },
  {
   "cell_type": "code",
   "execution_count": 10,
   "metadata": {
    "slideshow": {
     "slide_type": "subslide"
    }
   },
   "outputs": [],
   "source": [
    "## unary and binary operations on vectors\n",
    "# unary minus (negation)\n",
    "d = -a\n",
    "\n",
    "# multiplication\n",
    "e = a * b    # of two-vectors\n",
    "f = a * c    # of a vector and a scalar\n",
    "\n",
    "# division\n",
    "g = a / b    # of two-vectors\n",
    "h = a / c    # of a vector and a scalar\n",
    "k = c / a    # of a scalar and a vector\n",
    "\n",
    "# modulus (remainder)\n",
    "l = a % b    # of two-vectors\n",
    "m = a % c    # of a vector and a scalar\n",
    "n = c % a    # of a scalar and a vector\n",
    "\n",
    "# power\n",
    "o = a ** b    # of two-vectors\n",
    "p = a ** c    # of a vector and a scalar\n",
    "q = c ** a    # of a scalar and a vector\n",
    "\n",
    "# difference\n",
    "r = a - b    # of two-vectors\n",
    "s = a - c    # of a vector and a scalar\n",
    "t = c - a    # of a scalar and a vector\n",
    "\n"
   ]
  },
  {
   "cell_type": "markdown",
   "metadata": {
    "slideshow": {
     "slide_type": "subslide"
    }
   },
   "source": [
    "When two vectors are not the same length, then element-by-element binary operations will fail.\n",
    "* The error type is a `ValueError`\n",
    "* and the error message references incompatible shapes"
   ]
  },
  {
   "cell_type": "code",
   "execution_count": 11,
   "metadata": {
    "slideshow": {
     "slide_type": "fragment"
    }
   },
   "outputs": [
    {
     "ename": "ValueError",
     "evalue": "operands could not be broadcast together with shapes (11,) (10,) ",
     "output_type": "error",
     "traceback": [
      "\u001b[0;31m---------------------------------------------------------------------------\u001b[0m",
      "\u001b[0;31mValueError\u001b[0m                                Traceback (most recent call last)",
      "Cell \u001b[0;32mIn[11], line 3\u001b[0m\n\u001b[1;32m      1\u001b[0m \u001b[39m## Try to add a length-11 and a lenth-10 vector\u001b[39;00m\n\u001b[1;32m      2\u001b[0m \u001b[39m# this fails\u001b[39;00m\n\u001b[0;32m----> 3\u001b[0m np\u001b[39m.\u001b[39;49mlinspace(\u001b[39m0\u001b[39;49m, \u001b[39m10\u001b[39;49m, \u001b[39m11\u001b[39;49m) \u001b[39m+\u001b[39;49m np\u001b[39m.\u001b[39;49marange(\u001b[39m0\u001b[39;49m, \u001b[39m10\u001b[39;49m, \u001b[39m1\u001b[39;49m)\n",
      "\u001b[0;31mValueError\u001b[0m: operands could not be broadcast together with shapes (11,) (10,) "
     ]
    }
   ],
   "source": [
    "## Try to add a length-11 and a lenth-10 vector\n",
    "# this fails\n",
    "np.linspace(0, 10, 11) + np.arange(0, 10, 1)"
   ]
  },
  {
   "cell_type": "markdown",
   "metadata": {
    "slideshow": {
     "slide_type": "slide"
    }
   },
   "source": [
    "### Boolean vectors and logical operations\n",
    "\n",
    "NumPy supports boolean and logical operations. Our main interest is in vectors of Boolean values.\n",
    "\n",
    "Vectors of Boolean (binary logic) elements are usually the result of comparison operations.\n",
    "\n",
    "<p style=\"margin-bottom: 15px; padding: 4px 12px; background-color: #e7f3fe; border-left: 6px solid #2196F3;\">\n",
    "Recall that Python uses the Boolean values <tt>True</tt> and <tt>False</tt>.\n",
    "</p>\n",
    "\n",
    "We will see that such vectors are useful for selecting a subset of the elements of a vector.\n",
    "\n",
    "The example below constructs two Boolean vectors:\n",
    "* the first marks all elements $n$ where `a[n] > b[n]`\n",
    "* the second marks all elements of `a` that are even"
   ]
  },
  {
   "cell_type": "code",
   "execution_count": 12,
   "metadata": {
    "slideshow": {
     "slide_type": "subslide"
    }
   },
   "outputs": [
    {
     "name": "stdout",
     "output_type": "stream",
     "text": [
      "Boolean vector bg =  [False False False False False  True  True  True  True  True]\n",
      "Boolean vector be =  [False  True False  True False  True False  True False  True]\n",
      "bg and be are of type bool\n"
     ]
    }
   ],
   "source": [
    "## make two Boolean vectors\n",
    "# Recall a = [1, 2, 3, ..., 10] and b = [10, 9, 8, ..., 1]\n",
    "bg = a > b   \n",
    "be = ( a % 2 ) == 0\n",
    "\n",
    "print('Boolean vector bg = ', bg)\n",
    "print('Boolean vector be = ', be)\n",
    "print('bg and be are of type', bg.dtype)"
   ]
  },
  {
   "cell_type": "markdown",
   "metadata": {
    "slideshow": {
     "slide_type": "subslide"
    }
   },
   "source": [
    "We can perform standard logical operations on Boolean arrays, including:\n",
    "* logical NOT (`~`)\n",
    "* logical AND (`&`)\n",
    "* logical OR (`|`)\n",
    "* logical exclusive or (XOR) (`^`)\n",
    "\n",
    "\n",
    "The examples below compute, where:\n",
    "* both `a[n] > b[n]` and `a[n]` even\n",
    "* either `a[n] > b[n]` and `a[n]` even\n",
    "* `a[n]` is odd"
   ]
  },
  {
   "cell_type": "code",
   "execution_count": 13,
   "metadata": {
    "slideshow": {
     "slide_type": "subslide"
    }
   },
   "outputs": [
    {
     "name": "stdout",
     "output_type": "stream",
     "text": [
      "a[n] > b[n] AND a[n] even: [False False False False False  True False  True False  True]\n",
      "a[n] > b[n] OR a[n] even:  [False  True False  True False  True  True  True  True  True]\n",
      "a[n] NOT even:             [ True False  True False  True False  True False  True False]\n"
     ]
    }
   ],
   "source": [
    "## Examples of operations on Boolean vectors\n",
    "print('a[n] > b[n] AND a[n] even:', bg & be)  # logical AND\n",
    "print('a[n] > b[n] OR a[n] even: ', bg | be)  # logical OR\n",
    "print('a[n] NOT even:            ', ~be)      # logical NOT"
   ]
  },
  {
   "cell_type": "markdown",
   "metadata": {
    "slideshow": {
     "slide_type": "slide"
    }
   },
   "source": [
    "#### Sidebar: Bitwise logical operations\n",
    "\n",
    "For vectors of integers, we can also perform bitwise logical operations on elemnts of a vector. This is does not come up very frequently in signal processing but may be useful to keep in mind.\n",
    "\n",
    "Recall that integers can be represented as a sequence of bits. The position of the bit gives it's place value.\n",
    "\n",
    "For example, the (decimal) integer `13` is represented by the bit sequence `1101` because $11 = 1 \\cdot 2^3 + 1 \\cdot 2^2 + 0 \\cdot 2^1 + 1 \\cdot 2^0$.\n",
    "\n",
    "Then, it makes sense to consider bit-by-bit operations between two integers. For example:\n",
    "* the operation `13 & 7` corresponds to \n",
    "* the bitwise and of `1101` and `0111`\n",
    "* the result is `0101`\n",
    "* or decimal `5`"
   ]
  },
  {
   "cell_type": "code",
   "execution_count": 14,
   "metadata": {
    "slideshow": {
     "slide_type": "subslide"
    }
   },
   "outputs": [
    {
     "name": "stdout",
     "output_type": "stream",
     "text": [
      "13 & 7 = 5\n",
      "v & 7 =  [0 1 2 3 4 5 6 7 0 1 2 3 4 5 6 7]\n"
     ]
    }
   ],
   "source": [
    "## `13 & 7` works in Python\n",
    "print('13 & 7 =', 13 & 7)\n",
    "\n",
    "## NumPy let's you do many such bit-wise operations at the same time\n",
    "# we have to make sure that the elements are integers, though\n",
    "v = np.arange(0, 16, 1, dtype=np.uint8)   # 0 to 15 as unsigned 8-bit integers\n",
    "print('v & 7 = ', v & 7)                  # keep only the lower three bits"
   ]
  },
  {
   "cell_type": "markdown",
   "metadata": {
    "slideshow": {
     "slide_type": "slide"
    }
   },
   "source": [
    "### Functions of NumPy vectors\n",
    "\n",
    "NumPy provides [(very) many functions](https://numpy.org/doc/stable/reference/routines.math.html) that are fully vectorized: \n",
    "* if you pass a vector to the function, \n",
    "* it applies the function to each element of the input vector,\n",
    "* and returns a vector of the same length as the input.\n",
    "\n",
    "For our class, we will need:\n",
    "* trigonometric functions (`np.cos()` and `np.sin()`)\n",
    "* the exponential function (`np.exp()`)\n",
    "* and, less frequently:\n",
    "  - square root (`np.sqrt()`)\n",
    "  - logarithms (natural log `np.log()`, base-10 log `np.log10()`)\n",
    "  - inverse trigonometric functions (especially, `np.arctan()`) or, \n",
    "  - better, the two-argument form `np.arctan2()` that handles negative real parts correctly\n",
    "\n",
    "As we saw above, with these functions synthesizing a sinusoidal signal is straightforward:\n",
    "* create a time-grid of linearly spaced values\n",
    "* compute samples using the `np.cos()` function"
   ]
  },
  {
   "cell_type": "code",
   "execution_count": 15,
   "metadata": {
    "slideshow": {
     "slide_type": "subslide"
    }
   },
   "outputs": [
    {
     "data": {
      "image/png": "[encoded data removed]",
      "text/plain": [
       "<Figure size 640x480 with 1 Axes>"
      ]
     },
     "metadata": {},
     "output_type": "display_data"
    }
   ],
   "source": [
    "## synthesize a sinusoidal signal using np.cos()\n",
    "# time axis: from 0 to 1 with a spacing of 0.01\n",
    "tt = np.arange(0, 1, 0.01)\n",
    "\n",
    "# sinusoid (A = 2, f = 3, phi = pi/2)\n",
    "xx = 2 * np.cos(2*np.pi * 3 * tt + np.pi/2)\n",
    "\n",
    "# plot to verify \n",
    "plt.plot(tt, xx)\n",
    "plt.grid()\n",
    "plt.xlabel('Time (s)')\n",
    "plt.ylabel('$x(t) = 3 \\cos(2\\pi 3t + \\pi/2)$')\n",
    "\n",
    "plt.show()"
   ]
  },
  {
   "cell_type": "markdown",
   "metadata": {
    "slideshow": {
     "slide_type": "slide"
    }
   },
   "source": [
    "### Functions for complex vectors\n",
    "\n",
    "NumPy has full support for complex algebra. All functions for which it makes sense accept complex-valued inputs and produce corresponding complex valued outputs.\n",
    "\n",
    "Of primary interest for us will be the exponential function `np.exp()` with complex (usually purely imaginary) inputs.\n",
    "\n",
    "NumPy provides functions to help with computations involving complex numbers, including:\n",
    "* `np.real(z)` and `np.imag(z)` take the real and imaginary part of complex vector `z`\n",
    "* `np.conjugate(z)` computes the conjugate complex of `z`\n",
    "* `A, phi = np.polar(z)` computes the magnitude `A` and phase `phi` (in radians) in the polar representation of z\n",
    "  - `A = np.abs(z)` computes the magnitude `A` by itself\n",
    "  - `A = np.angle(z)` computes the phase by itself\n",
    "* `np.deg2rad()` and `np.rad2deg()` convert between degrees and radians\n",
    "\n",
    "The example below synthesizes a complex-valued signal and then converts it to polar coordinates."
   ]
  },
  {
   "cell_type": "code",
   "execution_count": 16,
   "metadata": {
    "slideshow": {
     "slide_type": "subslide"
    }
   },
   "outputs": [
    {
     "name": "stdout",
     "output_type": "stream",
     "text": [
      "z =  [1.+5.j 2.+4.j 3.+3.j 4.+2.j 5.+1.j]\n",
      "Re{z} =  [1. 2. 3. 4. 5.] Im{z} =  [5. 4. 3. 2. 1.]\n",
      "|z| =  [5.09901951 4.47213595 4.24264069 4.47213595 5.09901951]\n",
      "phase(zz) =  [78.69006753 63.43494882 45.         26.56505118 11.30993247] (in degrees)\n"
     ]
    }
   ],
   "source": [
    "## analyze a complex-valued signal \n",
    "zz = np.linspace(1, 5, 5) + 1j*(np.linspace(5, 1, 5))\n",
    "print('z = ', zz)\n",
    "\n",
    "# real and imaginary parts\n",
    "print('Re{z} = ', np.real(zz), 'Im{z} = ', np.imag(zz))\n",
    "\n",
    "# magnitude and phase\n",
    "print('|z| = ', np.abs(zz))\n",
    "print('phase(zz) = ', np.rad2deg(np.angle(zz)), '(in degrees)')"
   ]
  },
  {
   "cell_type": "markdown",
   "metadata": {
    "slideshow": {
     "slide_type": "slide"
    }
   },
   "source": [
    "## Functions to reduce a vector to a number\n",
    "\n",
    "Many signal processing tasks require that the elements of a vector are reduced to a single number. Examples include the average of the elements or the largest of the elements. NumPy provides many such functions, including the following that we will need frequently:\n",
    "* `np.sum()` computes the sum of all elements\n",
    "* `np.mean()` computes the average\n",
    "  - additional statistics, including median, standard deviation, and variance are also available.\n",
    "* `np.prod()` computes the product of all elements\n",
    "* `np.max()` and `np.min()` compute the largest and smallest element of the vector (for complex inputs, it compares values based on their absolute values)\n",
    "* `np.argmax()` and `np.argmin()` find the index of the largest or smallest element\n",
    "  - if `max_val = np.max(xx)`\n",
    "  - and `ind_max = np.arg_max(xx)`\n",
    "  - then `max_val` is equal to `xx[ind_max]`\n",
    "\n",
    "The function `np.allclose(xx, yy)` is useful for checking if two vectors `xx` and `yy` are nearly identical (e.g., differ only because of numerical rounding errors).\n",
    "\n",
    "For Boolean vectors, the following reductions are available:\n",
    "* `np.all(bb)` checks if *all* elements of the Boolean vector `bb` are `True`; i.e., an AND over all elements of `bb`\n",
    "* `np.any(bb)` checks if *any*  elements of the Boolean vector `bb` are `True`; i.e., an OR over all elements of `bb`\n",
    "\n",
    "Below is an illustration of these functions."
   ]
  },
  {
   "cell_type": "code",
   "execution_count": 17,
   "metadata": {
    "slideshow": {
     "slide_type": "subslide"
    }
   },
   "outputs": [
    {
     "name": "stdout",
     "output_type": "stream",
     "text": [
      "xx =  [ 1.  2.  3.  4.  5.  6.  7.  8.  9. 10.]\n",
      "np.sum(xx) =  55.0\n",
      "np.mean(xx) =  5.5\n",
      "np.prod(xx) =  3628800.0\n",
      "np.max(xx) =  10.0\n",
      "np.argmax(xx) =  9\n",
      "np.min(xx) =  1.0\n",
      "np.argmin(xx) =  0\n",
      "Elements of xx equal to `np.arange(1, 10.1, 1)`? True\n",
      "All elements of xx positive? True\n",
      "Any element divisible by 7? True\n"
     ]
    }
   ],
   "source": [
    "## demonstrate NumPy's reduction functions\n",
    "# make a test vector\n",
    "xx = np.linspace(1, 10, 10)\n",
    "print('xx = ', xx)\n",
    "\n",
    "# Reduction functions\n",
    "print('np.sum(xx) = ', np.sum(xx))\n",
    "print('np.mean(xx) = ', np.mean(xx))\n",
    "print('np.prod(xx) = ', np.prod(xx))\n",
    "print('np.max(xx) = ', np.max(xx))\n",
    "print('np.argmax(xx) = ', np.argmax(xx))\n",
    "print('np.min(xx) = ', np.min(xx))\n",
    "print('np.argmin(xx) = ', np.argmin(xx))\n",
    "\n",
    "# comparison of two vectors\n",
    "print('Elements of xx equal to `np.arange(1, 10.1, 1)`?', np.allclose(xx, np.arange(1, 10.1, 1)))\n",
    "\n",
    "# Boolean reductions\n",
    "print('All elements of xx positive?', np.all(xx > 0))\n",
    "print('Any element divisible by 7?', np.any( (xx % 7) == 0))\n"
   ]
  },
  {
   "cell_type": "markdown",
   "metadata": {
    "slideshow": {
     "slide_type": "slide"
    }
   },
   "source": [
    "## Indexing for NumPy Vectors\n",
    "\n",
    "Indexing refers to accessing a single element or a group of elements of a vector. Indexing can be used to retrieve (read) or to modify (write) selected elements.\n",
    "\n",
    "We distinguish three case:\n",
    "* accesing a single elements, e.g. a specific element `xx[n]`\n",
    "* accessing contiguous elements (slices), e.g., a range of elements`xx[n:m]`\n",
    "* accessing elements that meet a condition (logical indexing), e.g., all positive elements `xx[xx > 0]`\n",
    "\n",
    "The first case works just like for Python lists. For a vector `xx`, we can access the `n`-th element as `xx[n]`.\n",
    "* when the index `n` is greate than or equal to the length of `xx`, an `IndexError` occurs.\n",
    "\n",
    "We can either,\n",
    "* retrieve (read from) `xx[n]`, as in `this_val = xx[n]` or\n",
    "* modify (write to) `xx[n]`, as in `xx[n] = 7`\n",
    "\n",
    "<p style=\"margin-bottom: 15px; padding: 4px 12px; background-color: #ffdddd; border-left: 6px solid #f44336;\">\n",
    "Try to avoid accessing single elements of a vector. All the speed advantages of vectorization are lost when elements are accessed one-by-one.\n",
    "</p>"
   ]
  },
  {
   "cell_type": "markdown",
   "metadata": {
    "slideshow": {
     "slide_type": "slide"
    }
   },
   "source": [
    "For the two other case, let's consider a concrete example application.\n",
    "\n",
    "We want to create a trapezoidal signal (a ramp up, followed by a flat segment, followed by a ramp down). Specifically, we want (samples of) the signal given by\n",
    "$$\n",
    "p(t) = \\begin{cases}\n",
    "    t & 0 \\leq t < 1 \\\\\n",
    "    1 & 1 \\leq t < 4 \\\\\n",
    "    5 - t & 4 \\leq t < 5\n",
    "\\end{cases}\n",
    "$$\n",
    "We want to compute 10 samples of this signal per second.\n",
    "\n",
    "We will generate this signal using index slicing and then using logical indexing."
   ]
  },
  {
   "cell_type": "markdown",
   "metadata": {
    "slideshow": {
     "slide_type": "subslide"
    }
   },
   "source": [
    "With slices, we recognize that there are three contiguous regions where the signal is defined by an expression. \n",
    "\n",
    "For each of these regions, we need to figure out the range of indices that correspond to that region; rcall that there are 10 samples per second:\n",
    "* the first region ($0 \\leq t <10$) is comprised of the first 10 samples, i.e., indices 0 to 10 (exclusive)\n",
    "* the next region ($1 \\leq t < 4$) is comprised of the next 30 samples, i.e., indices 10 to 40 (exclusive)\n",
    "* the third region ($4 \\leq t < 5$ ) is comprised of the final 10 samples, i.e., indices 40 to 50 (exclusive)\n",
    "\n",
    "<p style=\"margin-bottom: 15px; padding: 4px 12px; background-color: #ffdddd; border-left: 6px solid #f44336;\">\n",
    "Before we can modify the array, we must first allocate it, e.g., using <tt>np.zeros()</tt>.\n",
    "</p>"
   ]
  },
  {
   "cell_type": "code",
   "execution_count": 18,
   "metadata": {
    "slideshow": {
     "slide_type": "subslide"
    }
   },
   "outputs": [
    {
     "data": {
      "image/png": "[encoded data removed]",
      "text/plain": [
       "<Figure size 640x480 with 1 Axes>"
      ]
     },
     "metadata": {},
     "output_type": "display_data"
    }
   ],
   "source": [
    "## Make a trapezoid using slice syntax\n",
    "fs = 10\n",
    "# allocate an array of the right size (51 samples)\n",
    "pp = np.zeros(50)\n",
    "\n",
    "# process each slice\n",
    "pp[0 : 10] = np.arange(0, 1, 1/fs)  # or np.linspace(0, 0.9, 10)\n",
    "pp[10 : 40] = 1\n",
    "pp[40 : 50] = np.arange(1, 0, -1/fs) # or np.linspace(1, 0.1, 10)\n",
    "\n",
    "plt.plot(np.arange(0, 5, 1/fs), pp)\n",
    "plt.grid()\n",
    "plt.xlabel('Time (s)')\n",
    "plt.ylabel('$p(t)$')\n",
    "\n",
    "plt.show()"
   ]
  },
  {
   "cell_type": "markdown",
   "metadata": {
    "slideshow": {
     "slide_type": "slide"
    }
   },
   "source": [
    "For logical indexing, we derive conditions from a vector `tt` that defines our time grid.\n",
    "\n",
    "As a result, the code resembles the conditions in the expression for $p(t)$.\n",
    "\n",
    "In each assignment, the number of \"selected\" elements must be the same on both sides of the `=` sign.\n",
    "* this usually means that the same condition appears on both sides of the `=`\n",
    "* except, when the assigned value is a scalar.\n",
    "\n",
    "Notice how we don't need to figure out (manually) how any samples there are in each region.\n",
    "* That means, this method will work even when the sample rate is changed."
   ]
  },
  {
   "cell_type": "code",
   "execution_count": 19,
   "metadata": {
    "slideshow": {
     "slide_type": "subslide"
    }
   },
   "outputs": [
    {
     "data": {
      "image/png": "[encoded data removed]",
      "text/plain": [
       "<Figure size 640x480 with 1 Axes>"
      ]
     },
     "metadata": {},
     "output_type": "display_data"
    }
   ],
   "source": [
    "## Make a trapezoid using logical indexing\n",
    "# allocate an array of the right size (51 samples)\n",
    "pp = np.zeros(50)\n",
    "\n",
    "# make a tie axis - this is used for logical indexing\n",
    "tt = np.arange(0, 5, 1/fs)\n",
    "\n",
    "# for each region, use a condition on tt for indexing\n",
    "# it is critical that the number of selected elements on both sides of the assignment are equal\n",
    "pp[ tt < 1]                = tt[ tt < 1]\n",
    "pp[ (tt >= 1) & (tt < 4) ] = 1\n",
    "pp[ tt >= 4]               = 5 - tt[ tt >= 4 ]\n",
    "\n",
    "plt.plot(np.arange(0, 5, 1/fs), pp)\n",
    "plt.grid()\n",
    "plt.xlabel('Time (s)')\n",
    "plt.ylabel('$p(t)$')\n",
    "\n",
    "plt.show()"
   ]
  },
  {
   "cell_type": "markdown",
   "metadata": {
    "slideshow": {
     "slide_type": "slide"
    }
   },
   "source": [
    "## Summary\n",
    "\n",
    "This concludes our very brief tour of NumPy. The material in this notebook should be sufficient for the upcoming labs. We will introduce a few other functions as needed when we cover advanced topics.\n",
    "\n",
    "Make sure that you have a solid grasp of the topics that were covered:\n",
    "* you should be able to create vectors, especially for evenly spaced elements using `np.arange` or `np.linspace`\n",
    "* understand the idea of vectorization: operations like addition, multiplication, or computing the cosine apply to **all** elements of the vector. This implies that there is no explicit `for` loop over the elements of the vector.\n",
    "* you should remember the handful of functions that will be used frequently\n",
    "* understand the different ways to access elements of arrays, including slice notation and logical indexing.\n",
    "\n",
    "Test you understanding by working through the `pre_lab_exercises` notebook."
   ]
  }
 ],
 "metadata": {
  "celltoolbar": "Slideshow",
  "kernelspec": {
   "display_name": "Python 3 (ipykernel)",
   "language": "python",
   "name": "python3"
  },
  "language_info": {
   "codemirror_mode": {
    "name": "ipython",
    "version": 3
   },
   "file_extension": ".py",
   "mimetype": "text/x-python",
   "name": "python",
   "nbconvert_exporter": "python",
   "pygments_lexer": "ipython3",
   "version": "3.10.12"
  }
 },
 "nbformat": 4,
 "nbformat_minor": 2
}
