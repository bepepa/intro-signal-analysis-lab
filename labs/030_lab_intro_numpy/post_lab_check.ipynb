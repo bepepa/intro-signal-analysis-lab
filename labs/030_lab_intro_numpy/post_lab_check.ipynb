{
 "cells": [
  {
   "cell_type": "markdown",
   "metadata": {},
   "source": [
    "# Post-lab Check\n",
    "\n",
    "Use this notebook to develop your solution to the post-lab check. \n",
    "\n",
    "However, you must upload the Python script `post_lab_check.py`.\n",
    "\n",
    "Once you have developed your solution, copy and paste the appropriate code into the script file.\n",
    "\n",
    "Your tasks are:\n",
    "1. to generate two sinusoidal signals with given specifications (duration, sample, rate, amplitude, etc.)\n",
    "2. perform various computations involving the two signals"
   ]
  },
  {
   "cell_type": "code",
   "execution_count": null,
   "metadata": {},
   "outputs": [],
   "source": [
    "## imports \n",
    "import numpy as np\n",
    "\n",
    "%matplotlib inline\n",
    "import matplotlib.pyplot as plt"
   ]
  },
  {
   "cell_type": "markdown",
   "metadata": {},
   "source": [
    "## Signal parameters\n",
    "\n",
    "The cell below contain the signal parameters.\n",
    "\n",
    "Do **NOT** copy this cell into the script. These values are for you to test with."
   ]
  },
  {
   "cell_type": "code",
   "execution_count": null,
   "metadata": {},
   "outputs": [],
   "source": [
    "## Parameters for the signals to be synthesized\n",
    "dur = 1    # signal duration\n",
    "fs = 100   # sample rate\n",
    "\n",
    "# first sinusoid\n",
    "A1 = 2     # amplitude\n",
    "phi1 = np.pi/4  # phase\n",
    "f1 = 37    # frequency\n",
    "\n",
    "# second sinusoid\n",
    "A2 = 1     # amplitude\n",
    "phi2 = 0   # frequency\n",
    "f2 = 0.75     # phase"
   ]
  },
  {
   "cell_type": "markdown",
   "metadata": {},
   "source": [
    "## Task 1: signal generation\n",
    "\n",
    "You are to generate three vectors:\n",
    "\n",
    "1. a time-grid `tt` that ranges from 0 to `dur` with spacing according to the sample rate `fs`\n",
    "2. a sinusoidal signal `s1` with parameters `A1`, `f1`, and `phi1`\n",
    "3. a sinusoidal signal `s2` with parameters `A2`, `f2`, and `phi2`\n",
    "\n",
    "**DO** copy  the contents of the following cell into the designated part of the script file."
   ]
  },
  {
   "cell_type": "code",
   "execution_count": null,
   "metadata": {},
   "outputs": [],
   "source": [
    "## Copy this cell into the region marked for \"Task 1\" in the script file\n",
    "tt =     # time grid\n",
    "s1 =     # first sinusoid\n",
    "s2 =     # second sinusoid"
   ]
  },
  {
   "cell_type": "markdown",
   "metadata": {},
   "source": [
    "Feel free to add a cell below if you want to plot the signals."
   ]
  },
  {
   "cell_type": "markdown",
   "metadata": {},
   "source": [
    "## Task 2: Computations involving the two signals\n",
    "\n",
    "Compute the following quantities involving the two signals:\n",
    "* the average of the square of the samples in `s1` and store the result as `mean_sq_1`\n",
    "* the sum of the samples in `s2` and store the results as `sum_2`\n",
    "* the largest of the samples in the element-wise product of `s1` and `s2`; store the result as `max_12`\n",
    "* the average of the absolute value of the samples in `s1`, store the result as `mean_abs_1`\n",
    "* the average of the natural log of the positive (>0) samples in `s2`, store the results as `mean_log_2`\n",
    "\n",
    "**DO** copy  the contents of the following cell into the designated part of the script file."
   ]
  },
  {
   "cell_type": "code",
   "execution_count": null,
   "metadata": {},
   "outputs": [],
   "source": [
    "## copy this cell into the region marked for \"Task 2\" in the script file\n",
    "mean_sq_1 =              # average of the square of the samples in `s1` \n",
    "sum_2 =                  # sum of the samples in `s2`\n",
    "max_12 =                 # largest of the samples in the element-wise product of `s1` and `s2`\n",
    "mean_abs_1 =             # average of the absolute value of the samples in `s1`\n",
    "mean_log_2 =             # average of the natural log of the positive (>0) samples in `s2`"
   ]
  },
  {
   "cell_type": "markdown",
   "metadata": {},
   "source": [
    "Do **NOT** copy the following cell"
   ]
  },
  {
   "cell_type": "code",
   "execution_count": null,
   "metadata": {},
   "outputs": [],
   "source": [
    "## Don not copy this cell\n",
    "## this cell is used to display the results of your computations\n",
    "print(f\"Last tt: {tt[-1]:8.4f}\")\n",
    "print(f\"Length: {len(s1)}\")\n",
    "print(f\"Mean squares 1: {mean_sq_1:8.4f}\")\n",
    "print(f\"Sum 2: {sum_2:8.4f}\")\n",
    "print(f\"Largest of product: {max_12:8.4f}\")\n",
    "print(f\"Mean abs 1: {mean_abs_1:8.4f}\")\n",
    "print(f\"Mean log 2: {mean_log_2:8.4f}\")\n"
   ]
  },
  {
   "cell_type": "markdown",
   "metadata": {},
   "source": [
    "Once, you are satisfied with your results. Copy and paste the code from the cell that contains your computations into the script `post_lab_check.py` for upload to Gradescope."
   ]
  },
  {
   "cell_type": "markdown",
   "metadata": {},
   "source": []
  }
 ],
 "metadata": {
  "kernelspec": {
   "display_name": "Python 3",
   "language": "python",
   "name": "python3"
  },
  "language_info": {
   "codemirror_mode": {
    "name": "ipython",
    "version": 3
   },
   "file_extension": ".py",
   "mimetype": "text/x-python",
   "name": "python",
   "nbconvert_exporter": "python",
   "pygments_lexer": "ipython3",
   "version": "3.10.12"
  },
  "orig_nbformat": 4
 },
 "nbformat": 4,
 "nbformat_minor": 2
}
