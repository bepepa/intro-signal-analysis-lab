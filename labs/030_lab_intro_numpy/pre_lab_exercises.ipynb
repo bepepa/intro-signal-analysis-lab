{
 "cells": [
  {
   "cell_type": "markdown",
   "metadata": {},
   "source": [
    "# Pre-lab Exercises\n",
    "\n",
    "This notebook complements the pre-lab notebook [A Brief Refresher of Python](https://nbviewer.org/format/slides/github/bepepa/intro-signal-analysis-lab/blob/main/labs/030_intro_numpy/pre_lab_notes.ipynb).\n",
    "\n",
    "Complete the exercises in this notebook. Make sure that you open this notebook as a Jupyter Notebook, i.e., after you launched Jupyter Notebook from the Anaconda Navigator."
   ]
  },
  {
   "cell_type": "markdown",
   "metadata": {},
   "source": [
    "## Load the NumPy module\n",
    "\n",
    "Use the standard import statement for the NumPy module. After this import the functions in the NumPy module must be available in the `np` namespace, e.g., the constant $\\pi$ should be available as `np.pi`."
   ]
  },
  {
   "cell_type": "code",
   "execution_count": 1,
   "metadata": {},
   "outputs": [],
   "source": [
    "## load numpy\n",
    "FILL_ME_IN"
   ]
  },
  {
   "cell_type": "markdown",
   "metadata": {},
   "source": [
    "## Generate NumPy Vectors\n",
    "\n",
    "Use the appropriate NumPy commands to construct three vectors as follows:\n",
    "* a vector with 100 elements that are all equal to $\\pi$; store this vector as `v_pi`\n",
    "* a vector of 100 evenly spaced elements between 0 and 1 (inclusive); stored this vector as `v_lin`\n",
    "* a vector with elements `[10, 9.9, 9.8, ..., 0.1]`; store this vector as `v_ran`"
   ]
  },
  {
   "cell_type": "code",
   "execution_count": 2,
   "metadata": {},
   "outputs": [],
   "source": [
    "## Create three numpy vectors\n",
    "v_pi = FILL_ME_IN\n",
    "v_lin = FILL_ME_IN\n",
    "v_ran = FILL_ME_IN"
   ]
  },
  {
   "cell_type": "code",
   "execution_count": 3,
   "metadata": {},
   "outputs": [
    {
     "name": "stdout",
     "output_type": "stream",
     "text": [
      "OK\n"
     ]
    }
   ],
   "source": [
    "# run this cell to check your answer\n",
    "assert len(v_pi) == 100 and np.allclose(v_pi, np.pi), \"v_pi is not correct\"\n",
    "assert len(v_lin) == 100 and np.allclose(99*np.sum(v_lin), 50*99), \"v_lin is not correct\"\n",
    "assert len(v_ran) == 100 and np.allclose(10*np.sum(v_ran), 50*101), \"v_ran is not correct\"\n",
    "\n",
    "print(\"OK\")"
   ]
  },
  {
   "cell_type": "markdown",
   "metadata": {},
   "source": [
    "## Determine the shape and data type of an Array\n",
    "\n",
    "For the vector `v_ran` determine how many elements the vector has and what the data type of the elements is. Use the vector's attributes to ind the answer."
   ]
  },
  {
   "cell_type": "code",
   "execution_count": 4,
   "metadata": {},
   "outputs": [
    {
     "name": "stdout",
     "output_type": "stream",
     "text": [
      "the number of elements in v_ran is 100\n",
      "the elements of v_ran have data type float64\n"
     ]
    }
   ],
   "source": [
    "## complete the print statements below\n",
    "print('the number of elements in v_ran is', FILL_ME_IN)\n",
    "print('the elements of v_ran have data type', FILL_ME_IN)"
   ]
  },
  {
   "cell_type": "markdown",
   "metadata": {},
   "source": [
    "## Vector arithmetic\n",
    "\n",
    "Compute:\n",
    "* the element-wise product of `v_pi` and `v_lin`\n",
    "* then add `v_ran` to the resulting product\n",
    "* store the final result as `v_ari`"
   ]
  },
  {
   "cell_type": "code",
   "execution_count": 5,
   "metadata": {},
   "outputs": [],
   "source": [
    "## Compute prouct of v_pi and v_lin, then add v_ran\n",
    "v_ari = FILL_ME_IN"
   ]
  },
  {
   "cell_type": "code",
   "execution_count": 6,
   "metadata": {},
   "outputs": [
    {
     "name": "stdout",
     "output_type": "stream",
     "text": [
      "OK\n"
     ]
    }
   ],
   "source": [
    "## run this cell to check your answer\n",
    "assert len(v_ari) == 100 and np.allclose(np.sum(v_ari), np.pi*50 + 505), \"v_ari is not correct\"\n",
    "\n",
    "print('OK')"
   ]
  },
  {
   "cell_type": "markdown",
   "metadata": {},
   "source": [
    "## Functions of vectors\n",
    "\n",
    "Compute:\n",
    "* $e^x$ for all elements of `v_lin`; store the result as `v_exp`\n",
    "* $\\cos(x)$ for all elements of `v_ari`; store the result in `v_cos`"
   ]
  },
  {
   "cell_type": "code",
   "execution_count": 7,
   "metadata": {},
   "outputs": [],
   "source": [
    "## functions of vectors\n",
    "v_exp = FILL_ME_IN\n",
    "v_cos = FILL_ME_IN"
   ]
  },
  {
   "cell_type": "code",
   "execution_count": 8,
   "metadata": {},
   "outputs": [
    {
     "name": "stdout",
     "output_type": "stream",
     "text": [
      "OK\n"
     ]
    }
   ],
   "source": [
    "## run this cell to check your answer\n",
    "assert len(v_exp) == 100 and np.allclose(np.sum(v_exp), 171.97048829439095), \"v_exp is not correct\"\n",
    "assert len(v_cos) == 100 and np.allclose(np.sum(v_cos), -7.421159318322026), \"v_cos is not correct\"\n",
    "\n",
    "\n",
    "print('OK')"
   ]
  },
  {
   "cell_type": "markdown",
   "metadata": {},
   "source": [
    "## Functions to reduce vectors\n",
    "\n",
    "Find:\n",
    "* the mean of vector `v_ari`; store the result as `r_mean`\n",
    "* the maximum value of `v_cos`; store the result as `r_max`\n",
    "* the location (index) of the minimum value of `v_cos`; store the result as `ind_min`\n",
    "* the location (index) of the maximum value of `v_cos`; store the result as `ind_max`"
   ]
  },
  {
   "cell_type": "code",
   "execution_count": 9,
   "metadata": {},
   "outputs": [],
   "source": [
    "## functions that reduce vectors\n",
    "r_mean = FILL_ME_IN\n",
    "r_max = FILL_ME_IN\n",
    "ind_min = FILL_ME_IN\n",
    "ind_max = FILL_ME_IN"
   ]
  },
  {
   "cell_type": "code",
   "execution_count": 10,
   "metadata": {},
   "outputs": [
    {
     "name": "stdout",
     "output_type": "stream",
     "text": [
      "OK\n"
     ]
    }
   ],
   "source": [
    "## run this cell to check your answer\n",
    "assert np.allclose(r_mean, 6.620796326794914), \"r_mean is not correct\"\n",
    "assert np.allclose(r_max, 0.9995376307332889), \"r_max is not correct\"\n",
    "assert ind_min == 8, \"ind_min is not correct\"\n",
    "assert ind_max == 54, \"ind_max is not correct\"\n",
    "\n",
    "print('OK')"
   ]
  },
  {
   "cell_type": "markdown",
   "metadata": {},
   "source": [
    "## Boolean Vectors\n",
    "\n",
    "Construct a Boolean vector that\n",
    "* marks all elelemts of `v_cos` that are greater than zero\n",
    "* store the results as `b_cos`"
   ]
  },
  {
   "cell_type": "code",
   "execution_count": 11,
   "metadata": {},
   "outputs": [],
   "source": [
    "## find all positive elements of v_cos\n",
    "b_cos = FILL_ME_IN"
   ]
  },
  {
   "cell_type": "code",
   "execution_count": 12,
   "metadata": {},
   "outputs": [
    {
     "name": "stdout",
     "output_type": "stream",
     "text": [
      "OK\n"
     ]
    }
   ],
   "source": [
    "## run this cell to check your answer\n",
    "assert len(b_cos) == 100 and np.sum(b_cos) == 46, \"b_cos is not correct\"\n",
    "\n",
    "print('OK')"
   ]
  },
  {
   "cell_type": "markdown",
   "metadata": {},
   "source": [
    "## Indexing\n",
    "\n",
    "Use the variable `ind_min` and `ind_max`\n",
    "* the sum of all values of `v_cos` between the (location of the) minimum and the (location of the) maximum\n",
    "* store the result as `r_sum`"
   ]
  },
  {
   "cell_type": "code",
   "execution_count": 13,
   "metadata": {},
   "outputs": [],
   "source": [
    "## indexing\n",
    "r_sum = FILL_ME_IN"
   ]
  },
  {
   "cell_type": "code",
   "execution_count": 14,
   "metadata": {},
   "outputs": [
    {
     "name": "stdout",
     "output_type": "stream",
     "text": [
      "OK\n"
     ]
    }
   ],
   "source": [
    "## run this cell to check your answer\n",
    "assert np.allclose(r_sum, -1.870653573147702), \"r_sum is not correct\"\n",
    "\n",
    "print('OK')"
   ]
  },
  {
   "cell_type": "markdown",
   "metadata": {},
   "source": [
    "Use logical indexing to find\n",
    "* the product of all positive values in `v_cos`\n",
    "* use the Boolean vector `b_cos` for indexing\n",
    "* store the result as `r_prod`"
   ]
  },
  {
   "cell_type": "code",
   "execution_count": 15,
   "metadata": {},
   "outputs": [],
   "source": [
    "## product of all possitive values of v_cos\n",
    "r_prod = FILL_ME_IN"
   ]
  },
  {
   "cell_type": "code",
   "execution_count": 16,
   "metadata": {},
   "outputs": [
    {
     "name": "stdout",
     "output_type": "stream",
     "text": [
      "OK\n"
     ]
    }
   ],
   "source": [
    "## run this cell to check your answer\n",
    "assert np.allclose(r_prod, 0), \"r_prod is not correct\"\n",
    "\n",
    "print('OK')"
   ]
  }
 ],
 "metadata": {
  "kernelspec": {
   "display_name": "Python 3",
   "language": "python",
   "name": "python3"
  },
  "language_info": {
   "codemirror_mode": {
    "name": "ipython",
    "version": 3
   },
   "file_extension": ".py",
   "mimetype": "text/x-python",
   "name": "python",
   "nbconvert_exporter": "python",
   "pygments_lexer": "ipython3",
   "version": "3.10.12"
  },
  "orig_nbformat": 4
 },
 "nbformat": 4,
 "nbformat_minor": 2
}
