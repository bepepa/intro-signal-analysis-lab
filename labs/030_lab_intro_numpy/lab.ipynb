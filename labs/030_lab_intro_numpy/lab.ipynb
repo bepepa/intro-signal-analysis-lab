{
 "cells": [
  {
   "cell_type": "markdown",
   "metadata": {},
   "source": [
    "# Lab: Sinusoidal Signals\n",
    "\n",
    "## Goals:\n",
    "\n",
    "In this lab, you will explore properties of sinusoidal signals. Sinusoids are fundamental building blocks in signal processing. A thorough understanding of sinusoids is essential for mastering key concepts in signal analysis and processing.\n",
    "\n",
    "In this lab, you will:\n",
    "\n",
    "* practice your Python skills related to NumPy\n",
    "* learn to synthesize sinusoidal signals from a given specification\n",
    "* learn to measure the amplitude and phase from samples of a sinusoid\n",
    "* explore the effect that delaying a sinusoid has on the phase of the signal\n",
    "* explore the addition of sinusoids of the same frequency"
   ]
  },
  {
   "cell_type": "markdown",
   "metadata": {},
   "source": [
    "## This notebook is incomplete\n",
    "\n",
    "In this notebook, there are multiple places for you to fill in either code or text.\n",
    "\n",
    "You should do that directly in this notebook. \n",
    "\n",
    "Once you have completed all your work in this notebook, rerun the entire notebook using \"Kernel > Restart and Run All\" from the menubar. \n",
    "\n",
    "Fix any errors, then remove this cell (your notebook is now complete), and submit."
   ]
  },
  {
   "cell_type": "code",
   "execution_count": null,
   "metadata": {},
   "outputs": [],
   "source": [
    "## import packages that we will need\n",
    "%matplotlib inline\n",
    "import matplotlib.pyplot as plt\n",
    "\n",
    "import numpy as np"
   ]
  },
  {
   "cell_type": "markdown",
   "metadata": {},
   "source": [
    "**This notebook will be updated shortly**"
   ]
  },
  {
   "cell_type": "markdown",
   "metadata": {},
   "source": []
  }
 ],
 "metadata": {
  "language_info": {
   "name": "python"
  },
  "orig_nbformat": 4
 },
 "nbformat": 4,
 "nbformat_minor": 2
}
