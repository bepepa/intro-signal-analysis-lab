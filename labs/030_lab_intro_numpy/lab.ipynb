{
 "cells": [
  {
   "cell_type": "markdown",
   "metadata": {
    "slideshow": {
     "slide_type": "slide"
    }
   },
   "source": [
    "# Lab: Sinusoidal Signals\n",
    "\n",
    "## Goals:\n",
    "\n",
    "In this lab, you will explore properties of sinusoidal signals. Sinusoids are fundamental building blocks in signal processing. A thorough understanding of sinusoids is essential for mastering key concepts in signal analysis and processing.\n",
    "\n",
    "In this lab, you will:\n",
    "\n",
    "* practice your Python skills related to NumPy\n",
    "* learn to synthesize sinusoidal signals from a given specification\n",
    "* learn to measure the amplitude and phase from samples of a sinusoid\n",
    "* explore the effect that delaying a sinusoid has on the phase of the signal\n",
    "* explore the addition of sinusoids of the same frequency"
   ]
  },
  {
   "cell_type": "markdown",
   "metadata": {
    "slideshow": {
     "slide_type": "slide"
    }
   },
   "source": [
    "## This notebook is incomplete\n",
    "\n",
    "In this notebook, there are multiple places for you to fill in either code or text.\n",
    "\n",
    "You should do that directly in this notebook. \n",
    "\n",
    "Once you have completed all your work in this notebook, rerun the entire notebook using \"Kernel > Restart and Run All\" from the menubar. \n",
    "\n",
    "Fix any errors, then remove this cell (your notebook is now complete), and submit."
   ]
  },
  {
   "cell_type": "code",
   "execution_count": null,
   "metadata": {
    "slideshow": {
     "slide_type": "skip"
    }
   },
   "outputs": [],
   "source": [
    "## import packages that we will need\n",
    "%matplotlib inline\n",
    "import matplotlib.pyplot as plt\n",
    "\n",
    "import numpy as np"
   ]
  },
  {
   "cell_type": "markdown",
   "metadata": {
    "slideshow": {
     "slide_type": "slide"
    }
   },
   "source": [
    "## Part 1: Measuring the Phase of a Sinusoidal Signal\n",
    "\n",
    "Our first goal is to devise a method for measuring the amplitude and phase of a sinusoidal signal from a set of $N$ samples taken at sampling rate $f_s$.\n",
    "\n",
    "We will assume that the frequency $f$ of the sinusoid is known. Moreover, we will assume that this frequency satisfies $f = n \\cdot \\frac{f_s}{N}$ for some $n$ between 1 and $\\frac{N}{2}$.\n",
    "\n",
    "<p style=\"margin-bottom: 15px; padding: 4px 12px; background-color: #ffffcc; border-left: 6px solid #ffeb3b;\">\n",
    "For other frequencies, the method developed here gives only approximate measurements of amplitude and phase.\n",
    "</p>"
   ]
  },
  {
   "cell_type": "markdown",
   "metadata": {
    "slideshow": {
     "slide_type": "slide"
    }
   },
   "source": [
    "### Construct a sinusoidal signal\n",
    "\n",
    "We have discussed before that a sinusoidal signal is synthesized in two steps:\n",
    "1. create a time grid `tt`\n",
    "2. use the time grid to compute samples\n",
    "\n",
    "We want the samples of the sinusoid to be synthesized using the following parameters:\n",
    "* sampling rate $f_s = 100$ Hz\n",
    "* number of samples $N = 500$\n",
    "  - this implies a duration of 5 s\n",
    "* Amplitude $A=2$\n",
    "* frequency $f = 6 \\cdot \\frac{f_s}{N} = 1.2$ Hz\n",
    "* phase $\\phi = -\\frac{3\\pi}{8}$"
   ]
  },
  {
   "cell_type": "code",
   "execution_count": null,
   "metadata": {
    "slideshow": {
     "slide_type": "subslide"
    }
   },
   "outputs": [],
   "source": [
    "# signal parameters\n",
    "fs = 100\n",
    "N = 500\n",
    "\n",
    "A = 2\n",
    "f = 6 * fs / N\n",
    "phi = -3 * np.pi / 8"
   ]
  },
  {
   "cell_type": "markdown",
   "metadata": {
    "slideshow": {
     "slide_type": "subslide"
    }
   },
   "source": [
    "#### Task: Make a time grid\n",
    "\n",
    "Use either `np.arange` or `np.linspace` to generate a time-grid `tt` according to the above specifications. The time grid should start at $t=0$."
   ]
  },
  {
   "cell_type": "code",
   "execution_count": null,
   "metadata": {
    "slideshow": {
     "slide_type": "fragment"
    }
   },
   "outputs": [],
   "source": [
    "## make a time-grid\n",
    "dur = N / fs\n",
    "\n",
    "tt = FILL_ME_IN\n",
    "\n",
    "## checks \n",
    "assert len(tt) == N, \"the length of tt is not correct\"\n",
    "assert tt[-1] == (N-1) / fs, \"the spacing between elements doesn't look right\""
   ]
  },
  {
   "cell_type": "markdown",
   "metadata": {
    "slideshow": {
     "slide_type": "subslide"
    }
   },
   "source": [
    "#### Task: Make signal samples\n",
    "\n",
    "Using the time grid `tt` synthesize a sinusoidal signal with the above parameters. Store the resulting vector as `xx`.\n",
    "\n",
    "Then, plot the signal you synthesized; make sure that the plot is properly labeled."
   ]
  },
  {
   "cell_type": "code",
   "execution_count": null,
   "metadata": {
    "slideshow": {
     "slide_type": "fragment"
    }
   },
   "outputs": [],
   "source": [
    "## make samples xx\n",
    "xx = FILL_ME_IN\n",
    "\n",
    "## plot\n",
    "FILL_ME_IN\n",
    "\n",
    "plt.show()"
   ]
  },
  {
   "cell_type": "markdown",
   "metadata": {
    "slideshow": {
     "slide_type": "slide"
    }
   },
   "source": [
    "### Breaking down the sinusoid\n",
    "\n",
    "We can always write our sinusoidal signal as a sum of a cosine and a sine with zero phase.\n",
    "\n",
    "To demonstrate that, we need the well-known trig identity\n",
    "$$\n",
    "    \\cos(x+y) = \\cos(x)\\cos(y) - \\sin(x)\\sin(y).\n",
    "$$\n",
    "\n",
    "With this identity, we can write\n",
    "$$\n",
    "\\begin{split}\n",
    "x(t)  & = A\\cos(2\\pi ft + \\phi) \\\\\n",
    " & = A\\cos(\\phi) \\cos(2\\pi ft) - A\\sin(\\phi) \\sin(2\\pi ft)\n",
    "\\end{split}\n",
    "$$\n",
    "\n",
    "Let's verify that this is true:\n",
    "* synthesize sinusoids $x_I(t)=A\\cos(\\phi) \\cos(2\\pi ft)$ and $x_Q(t)=-A\\cos(\\phi) \\cos(2\\pi ft)$\n",
    "* plot both sinusoids as well as the sum $x_I(t)+x_Q(t)$\n",
    "* the sum should equal the original sinusoid above"
   ]
  },
  {
   "cell_type": "code",
   "execution_count": null,
   "metadata": {
    "slideshow": {
     "slide_type": "subslide"
    }
   },
   "outputs": [],
   "source": [
    "## plot three sinusoids\n",
    "x_I = A*np.cos(phi) * np.cos(2*np.pi * f * tt)\n",
    "x_Q = -A*np.sin(phi) * np.sin(2*np.pi * f * tt)\n",
    "\n",
    "plt.plot(tt, x_I, label='$x_I(t)$')\n",
    "plt.plot(tt, x_Q, label='$x_Q(t)$')\n",
    "plt.plot(tt, x_I+x_Q, label='$x_I(t) + x_Q(t)$')\n",
    "\n",
    "plt.grid()\n",
    "plt.xlabel('Time (s)')\n",
    "plt.ylabel('x(t)')\n",
    "plt.legend()\n",
    "\n",
    "plt.show()"
   ]
  },
  {
   "cell_type": "markdown",
   "metadata": {
    "slideshow": {
     "slide_type": "fragment"
    }
   },
   "source": [
    "The green graph, $x_I(t) + x_Q(t)$, is identical to the plot of $x(t)$ above - as expected."
   ]
  },
  {
   "cell_type": "markdown",
   "metadata": {
    "slideshow": {
     "slide_type": "slide"
    }
   },
   "source": [
    "### Some Facts\n",
    "\n",
    "For frequencies such that $f = \\frac{f_s}{N}$, the following facts are true:\n",
    "$$\n",
    "\\frac{2}{N} \\sum_{n=0}^{N-1} \\cos^2(2\\pi f t[n]) = 1\n",
    "$$\n",
    "$$\n",
    "\\frac{2}{N} \\sum_{n=0}^{N-1} \\sin^2(2\\pi f t[n]) = 1\n",
    "$$\n",
    "$$\n",
    "\\frac{2}{N} \\sum_{n=0}^{N-1} \\cos(2\\pi f t[n])\\sin(2\\pi f t[n]) = 0\n",
    "$$\n",
    "\n",
    "Here $t[n]$ denotes the $n$-th sample of a time-grid with spacing $1/f_s$, i.e., $t[n]=\\frac{n}{f_s}$. In other words, $t[n] is the $n$-th element of vector `tt`.\n",
    "\n",
    "Let's check that these relationships are indeed correct."
   ]
  },
  {
   "cell_type": "code",
   "execution_count": null,
   "metadata": {
    "slideshow": {
     "slide_type": "subslide"
    }
   },
   "outputs": [],
   "source": [
    "## verify the above facts\n",
    "s_cos = np.cos(2* np.pi * f * tt)\n",
    "s_sin = np.sin(2* np.pi * f * tt)\n",
    "\n",
    "print('2/N * SUM cos^2 = ', 2/N * np.sum(s_cos**2))\n",
    "print('2/N * SUM sin^2 = ', 2/N * np.sum(s_sin**2))\n",
    "print('2/N * SUM cos * sin = ', 2/N * np.sum(s_cos * s_sin))"
   ]
  },
  {
   "cell_type": "markdown",
   "metadata": {
    "slideshow": {
     "slide_type": "fragment"
    }
   },
   "source": [
    "Well, that's about as close as you can get."
   ]
  },
  {
   "cell_type": "markdown",
   "metadata": {
    "slideshow": {
     "slide_type": "slide"
    }
   },
   "source": [
    "### Nearly There\n",
    "\n",
    "With these facts and the split of the sinusoid into cosine and sine portions, we can compute the following for our sampled signal:\n",
    "$$\n",
    "A_c = \\frac{2}{N} \\sum_{n=0}^{N-1} x(t[n]) \\cdot \\cos(2\\pi f t[n]) = A \\cos(\\phi)\n",
    "$$\n",
    "and\n",
    "$$\n",
    "A_c = -\\frac{2}{N} \\sum_{n=0}^{N-1} x(t[n]) \\cdot \\sin(2\\pi f t[n]) = A \\sin(\\phi)\n",
    "$$\n",
    "\n",
    "Let's verify that as well:"
   ]
  },
  {
   "cell_type": "code",
   "execution_count": null,
   "metadata": {
    "slideshow": {
     "slide_type": "subslide"
    }
   },
   "outputs": [],
   "source": [
    "## verify the above expressions\n",
    "print(\"2/N SUM x * cos = \", 2/N* np.sum(xx * s_cos), \"A cos(phi) = \", A*np.cos(phi))\n",
    "print(\"-2/N SUM x * sin = \", -2/N* np.sum(xx * s_sin), \"A cos(phi) = \", A*np.sin(phi))"
   ]
  },
  {
   "cell_type": "markdown",
   "metadata": {
    "slideshow": {
     "slide_type": "slide"
    }
   },
   "source": [
    "### Amplitude and Phase\n",
    "\n",
    "From $A_c = A\\cos(\\phi)$ and $A_s = A\\sin(\\phi)$, we con now find $A$ and $\\phi$ in terms of $A_c$ and $A_s$:\n",
    "\n",
    "$$\n",
    "A = \\sqrt{A_c^2 + A_s^2}\n",
    "$$\n",
    "$$\n",
    "\\phi = \\begin{cases}\n",
    "\\tan^{-1}(A_s/A_c) & \\text{if $A_c > 0$} \\\\\n",
    "\\tan^{-1}(A_s/A_c) + \\pi & \\text{if $A_c < 0$} \\\\\n",
    "\\pi/2 & \\text{if $A_c = 0$ and $A_s > 0$} \\\\\n",
    "-\\pi/2 & \\text{if $A_c = 0$ and $A_s < 0$} \n",
    "\\end{cases}\n",
    "$$\n",
    "\n",
    "This should look familar!\n",
    "\n",
    "<p style=\"margin-bottom: 15px; padding: 4px 12px; background-color: #e7f3fe; border-left: 6px solid #2196F3;\">\n",
    "It is best to use the 2-argument inverse tangent function <tt>np.arctan2(y, x)</tt> to compute the phase.\n",
    "</p>"
   ]
  },
  {
   "cell_type": "markdown",
   "metadata": {
    "slideshow": {
     "slide_type": "slide"
    }
   },
   "source": [
    "### Pulling it all together\n",
    "\n",
    "**Given:** a set of $N$ samples `xx` of a sinusoidal signal with frequency $f$\n",
    "\n",
    "**Compute:**\n",
    "1. $A_c$ and $A_s$ from the signal samples `xx` and zero-phase cosine and sine signals\n",
    "$$\n",
    "\\begin{align}\n",
    "A_c = & \\frac{2}{N} \\sum_{n=0}^{N-1} x(t[n]) \\cos(2\\pi f t[n]) \\\\\n",
    "A_s = & \\frac{2}{N} \\sum_{n=0}^{N-1} x(t[n]) \\sin(2\\pi f t[n])\n",
    "\\end{align}\n",
    "$$\n",
    "2. Find the magnitude $A$ and phase $\\phi$ from $A_c$ and $A_s$ as shown above.\n",
    "\n",
    "Let's try this out on the signal `xx`. We should get the amplitude and phase that we specified ($A=2$ and $\\phi=-\\frac{3\\pi}{8} = -0.375 \\pi$).\n"
   ]
  },
  {
   "cell_type": "code",
   "execution_count": null,
   "metadata": {
    "slideshow": {
     "slide_type": "subslide"
    }
   },
   "outputs": [],
   "source": [
    "## Measure the amplitude and phase of xx\n",
    "# 1. get Ac and As\n",
    "Ac = 2/N* np.sum(xx * s_cos)\n",
    "As = -2/N* np.sum(xx * s_sin)\n",
    "\n",
    "# 2. turn into measured amplitude and phase\n",
    "A_meas = np.sqrt(Ac**2 + As**2)\n",
    "phi_meas = np.arctan2(As, Ac)\n",
    "\n",
    "print(\"Measured amplitude: \", A_meas)\n",
    "print(f\"Measured phase {phi_meas / np.pi} * pi\")"
   ]
  },
  {
   "cell_type": "markdown",
   "metadata": {
    "slideshow": {
     "slide_type": "fragment"
    }
   },
   "source": [
    "We now have a method to measure amplitude and phase that does not require us to read off values from a graph."
   ]
  },
  {
   "cell_type": "markdown",
   "metadata": {
    "slideshow": {
     "slide_type": "slide"
    }
   },
   "source": [
    "### This is so much easier with complex exponentials!\n",
    "\n",
    "Instead of using cosine and sine functions in our procedure, we should use a complext exponential instead!\n",
    "\n",
    "Specifically, \n",
    "* we can compute\n",
    "$$\n",
    "    X = \\frac{2}{N} \\sum_{n=0}^{N-1} x(t[n]) \\exp(-j 2\\pi f t[n])\n",
    "$$\n",
    "  - Note that $X = A_c + jA_s$.\n",
    "* Thus, we need to find the polar representation of $X$, $X=Ae^{j\\phi}$.\n",
    "\n",
    "Much easier! Let's verify that this works"
   ]
  },
  {
   "cell_type": "code",
   "execution_count": null,
   "metadata": {
    "slideshow": {
     "slide_type": "subslide"
    }
   },
   "outputs": [],
   "source": [
    "## Measure amplitude and phase using a complex exponential\n",
    "# 1. make a complex exponetial with frequency f\n",
    "s_exp = np.exp(-2j*np.pi * f * tt)\n",
    "\n",
    "# 2. compute X\n",
    "X = 2/N * np.sum(xx * s_exp)\n",
    "\n",
    "# 3. compute the polar representation\n",
    "A_meas = np.abs(X)\n",
    "phi_meas = np.angle(X)\n",
    "\n",
    "print(\"Measured amplitude: \", A_meas)\n",
    "print(f\"Measured phase {phi_meas / np.pi} * pi\")"
   ]
  },
  {
   "cell_type": "markdown",
   "metadata": {
    "slideshow": {
     "slide_type": "fragment"
    }
   },
   "source": [
    "Same result with a simpler computation.\n",
    "\n",
    "Let's put our method to use."
   ]
  },
  {
   "cell_type": "markdown",
   "metadata": {
    "slideshow": {
     "slide_type": "slide"
    }
   },
   "source": [
    "## Part 2: The phase of a delayed sinusoid\n",
    "\n",
    "We want to investigate what impact a simple signal processing operation has on a sinusoidal signal.\n",
    "\n",
    "Specifically, we\n",
    "* start with a sinusoid of unit amplitude and zero phase, sampled at rate $f_s$\n",
    "* delay (i.e., shift right) by $n$ samples; this corresponds to a delay of $n/fs$ seconds\n",
    "  - the function `np.roll()` does that\n",
    "* measure the phase of the delayed sinusoid\n",
    "\n",
    "For example, here is the effect that a delay of 20 samples has:"
   ]
  },
  {
   "cell_type": "code",
   "execution_count": null,
   "metadata": {
    "slideshow": {
     "slide_type": "subslide"
    }
   },
   "outputs": [],
   "source": [
    "## delay a sinusoid by five samples\n",
    "# original sinusoid\n",
    "ss = np.cos(2*np.pi * f *tt)\n",
    "\n",
    "# delay 20 samples\n",
    "dd = np.roll(ss, 20)\n",
    "\n",
    "# measure phase of delayed signal\n",
    "X = 2/N* np.sum(dd * s_exp)\n",
    "phi_meas = np.angle(X)\n",
    "\n",
    "print(f\"Measured phase {phi_meas / np.pi:4.3f} * pi\")"
   ]
  },
  {
   "cell_type": "code",
   "execution_count": null,
   "metadata": {
    "slideshow": {
     "slide_type": "subslide"
    }
   },
   "outputs": [],
   "source": [
    "## plot\n",
    "plt.plot(tt, ss, label=\"original\")\n",
    "plt.plot(tt, dd, label=\"delayed\")\n",
    "\n",
    "plt.grid()\n",
    "plt.xlabel('Time (s)')\n",
    "plt.ylabel('x(t)')\n",
    "plt.legend()\n",
    "\n",
    "plt.show()"
   ]
  },
  {
   "cell_type": "markdown",
   "metadata": {
    "slideshow": {
     "slide_type": "slide"
    }
   },
   "source": [
    "### Task: Measure how the phase changes as a function of delay and explain\n",
    "\n",
    "You are to repeat the above procedure for different delays in order to discover the relationship between delay and phase.\n",
    "\n",
    "* Write a `for` loop that iterates over different delays \n",
    "  - use an integer `m` as your loop variable\n",
    "  - `m` is the number of samples to delay by, i.e., the second input ro `np.roll`\n",
    "  - it suffices to go to `m = 100`\n",
    "* in each iteration of the loop:\n",
    "    - store the delay `m/fs` in a list or vector named `tau`\n",
    "    - delay the original signal by `m` samples\n",
    "    - measure the phase of the delayed signal and store it in a list or vector named `phases`\n",
    "* make a plot of phases versus delays\n",
    "\n",
    "\n",
    "<p style=\"margin-bottom: 15px; padding: 4px 12px; background-color: #ffffcc; border-left: 6px solid #ffeb3b;\">\n",
    "In your plot, you may see a phase jump from -&pi; to &pi;. That is expected; the slope will be the same before and after the jump.\n",
    "</p>"
   ]
  },
  {
   "cell_type": "code",
   "execution_count": null,
   "metadata": {
    "slideshow": {
     "slide_type": "subslide"
    }
   },
   "outputs": [],
   "source": [
    "## measure phase versus delay\n",
    "# allocate vectors for results\n",
    "M = 100\n",
    "tau = np.zeros(M)\n",
    "phases = np.zeros(M)\n",
    "\n",
    "for m in range(M):\n",
    "    # delay M samples\n",
    "    FILL_ME_IN"
   ]
  },
  {
   "cell_type": "code",
   "execution_count": null,
   "metadata": {
    "slideshow": {
     "slide_type": "subslide"
    }
   },
   "outputs": [],
   "source": [
    "## plot phases versus delays\n",
    "FILL_ME_IN\n",
    "\n",
    "plt.show()"
   ]
  },
  {
   "cell_type": "markdown",
   "metadata": {
    "slideshow": {
     "slide_type": "slide"
    }
   },
   "source": [
    "### Task: Measure the slope of the phase and explain\n",
    "\n",
    "Your graph should show a (mostly) linear relationship between phase and delay.\n",
    "\n",
    "* measure the slope of the line (segments) in your graph\n",
    "  - you can use either of the straight line segments; they have the same slope\n",
    "* Explain your result"
   ]
  },
  {
   "cell_type": "markdown",
   "metadata": {
    "slideshow": {
     "slide_type": "subslide"
    }
   },
   "source": [
    "**YOUR EXPLANATION GOES HERE**"
   ]
  },
  {
   "cell_type": "markdown",
   "metadata": {
    "slideshow": {
     "slide_type": "slide"
    }
   },
   "source": [
    "## Summary\n",
    "\n",
    "This lab covered a lot of ground:\n",
    "\n",
    "* we used various NumPy functions to perform signal processing tasks, including synthesizing sinusoids, computing elemet-wise products of vectors and the sum of vector elements.\n",
    "* we developed a method to measure the amplitude and phase of a sinusoid of known frequency\n",
    "  - we will see this method again later in the course\n",
    "* we measured how the phase changes when a sinusoidal signal is delayed.\n",
    "  - this verified a result we discussed in class\n",
    "\n",
    "  ### Deliverables\n",
    "\n",
    "  Submit your complete copy of this notebook on Gradescope!\n",
    "    * complete all the incomplete cells in this notebook\n",
    "    * remove the cell that states that this notebook is incomplete.\n",
    "    * **IMPORTANT** you must convert this notebook to PDF and upload a PDF copy - Do **NOT** upload the `.ipynb` notebook.\n"
   ]
  },
  {
   "cell_type": "markdown",
   "metadata": {},
   "source": []
  }
 ],
 "metadata": {
  "celltoolbar": "Slideshow",
  "kernelspec": {
   "display_name": "Python 3 (ipykernel)",
   "language": "python",
   "name": "python3"
  },
  "language_info": {
   "codemirror_mode": {
    "name": "ipython",
    "version": 3
   },
   "file_extension": ".py",
   "mimetype": "text/x-python",
   "name": "python",
   "nbconvert_exporter": "python",
   "pygments_lexer": "ipython3",
   "version": "3.10.12"
  }
 },
 "nbformat": 4,
 "nbformat_minor": 2
}
