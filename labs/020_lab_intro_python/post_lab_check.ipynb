{
 "cells": [
  {
   "cell_type": "markdown",
   "metadata": {},
   "source": [
    "# Post-lab Check\n",
    "\n",
    "Use this notebook to develop your solution to the post-lab check. \n",
    "\n",
    "However, you must upload the Python script `post_lab_check.py`.\n",
    "\n",
    "Once you have developed your solution, copy and paste the appropriate code into the script file.\n",
    "\n",
    "Your task is to complete the code below as indicated. Your task is to compute\n",
    "for a given list (stored as `xx`) containing positive floating point numbers:\n",
    "* the minimum value\n",
    "* the maximum value\n",
    "* the sum of all values\n",
    "* the arithmetic mean (average)\n",
    "* the product of all values\n",
    "* the geometric mean\n",
    "\n",
    "Remember, the geometric mean is the $n$-th root of the product of values, where $n$ is the length of the list.\n",
    "\n",
    "Remember that the $n$-th root of $x$ is equal to $x^{1/n}$."
   ]
  },
  {
   "cell_type": "code",
   "execution_count": null,
   "metadata": {},
   "outputs": [],
   "source": [
    "# Here is a list to test with - don't make assumptions about the length of the list\n",
    "xx = [ 0.9, 0.7, 0.5, 1.4, 1.2 ]"
   ]
  },
  {
   "cell_type": "code",
   "execution_count": null,
   "metadata": {},
   "outputs": [],
   "source": [
    "## write code to compute these values - the first three are VERY easy (built-into Python)\n",
    "max_v =             # maximum of xx\n",
    "min_v =             # minimum of xx\n",
    "sum_v =             # sum of xx\n",
    "avg_v =             # average of xx\n",
    "\n",
    "prod =              # product of xx\n",
    "\n",
    "geo_mean =          # geometric mean (n-th root of the product of values, where n is the number of elements)"
   ]
  },
  {
   "cell_type": "code",
   "execution_count": null,
   "metadata": {},
   "outputs": [],
   "source": [
    "## Use this cell to display the results of your computations\n",
    "print(f\"Max: {max_v:6.4f}\")\n",
    "print(f\"Min: {min_v:6.4f}\")\n",
    "print(f\"Sum: {sum_v:6.3f}\")\n",
    "print(f\"Arithmetic Mean: {avg_v:6.4f}\")\n",
    "print(f\"Product: {prod:6.3f}\")\n",
    "print(f\"Geometric Mean: {geo_mean:6.4f}\")"
   ]
  },
  {
   "cell_type": "markdown",
   "metadata": {},
   "source": [
    "Once, you are satisfied with your results. Copy and paste the code from the cell that contains your computations into the script `post_lab_check.py` for upload to Gradescope."
   ]
  },
  {
   "cell_type": "markdown",
   "metadata": {},
   "source": []
  }
 ],
 "metadata": {
  "kernelspec": {
   "display_name": "Python 3",
   "language": "python",
   "name": "python3"
  },
  "language_info": {
   "name": "python",
   "version": "3.10.12"
  },
  "orig_nbformat": 4
 },
 "nbformat": 4,
 "nbformat_minor": 2
}
