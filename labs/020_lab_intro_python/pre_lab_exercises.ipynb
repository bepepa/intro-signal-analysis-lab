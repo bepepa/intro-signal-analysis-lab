{
 "cells": [
  {
   "cell_type": "markdown",
   "metadata": {},
   "source": [
    "# Pre-lab exercises\n",
    "\n",
    "This notebook complements the pre-lab notebook [A Brief Refresher of Python](https://nbviewer.org/format/slides/github/bepepa/intro-signal-analysis-lab/blob/main/labs/020_intro_python/pre_lab_notes.ipynb). \n",
    "\n",
    "Complete the exercises in this notebook. Make sure that you open this notebook as a Jupyter Notebook, i.e., after you launched Jupyter Notebook from the Anaconda Navigator."
   ]
  },
  {
   "cell_type": "markdown",
   "metadata": {},
   "source": [
    "## Load the math and cmath modules\n",
    "\n",
    "Use two import statements to load the `math` and `cmath` modules."
   ]
  },
  {
   "cell_type": "code",
   "execution_count": 1,
   "metadata": {},
   "outputs": [],
   "source": [
    "## Load the math and cmath modules\n"
   ]
  },
  {
   "cell_type": "markdown",
   "metadata": {},
   "source": [
    "## Variables\n",
    "\n",
    "In the next cell, declare variables and assign them values as follows:\n",
    "\n",
    "* set variable `k` to `3 * 7`\n",
    "* set variable `c` to `1 - 2j`\n",
    "* set variable `f` to `3.14`"
   ]
  },
  {
   "cell_type": "code",
   "execution_count": 2,
   "metadata": {},
   "outputs": [],
   "source": [
    "## Type your code here\n"
   ]
  },
  {
   "cell_type": "markdown",
   "metadata": {},
   "source": [
    "### Working with Variables\n",
    "\n",
    "Compute:\n",
    "\n",
    "* the sum of the three variables you just defined and store the result as the variable `sum`\n",
    "* the product of the three variables and store the result as the variable `prod`\n",
    "* raise the variable `c` to the `f` power and store the result as the variable `power`\n",
    "* compute the magnitude and phase angle of `c` and store the result as `magnitude` and `phase`, respectively"
   ]
  },
  {
   "cell_type": "code",
   "execution_count": 3,
   "metadata": {},
   "outputs": [],
   "source": [
    "# Type your code here\n",
    "\n"
   ]
  },
  {
   "cell_type": "markdown",
   "metadata": {},
   "source": [
    "## Loops and control flow\n",
    "\n",
    "Complete the following code fragment so that the result `sum_odd` is the sum of the odd numbers between 1 and 10.\n",
    "\n",
    "Hint: for an odd number, the remainder when divided by 2 is equal to 1.\n",
    "\n",
    "Alternatively: for an odd integer, the least significant bit is equal to 1."
   ]
  },
  {
   "cell_type": "code",
   "execution_count": 4,
   "metadata": {},
   "outputs": [
    {
     "name": "stdout",
     "output_type": "stream",
     "text": [
      "the sum of odd numbers between 0 and 10 is: 25\n"
     ]
    }
   ],
   "source": [
    "## complete the following code fragment\n",
    "sum_odd = 0\n",
    "N = 10\n",
    "\n",
    "for n in range(N):\n",
    "    if FILL ME_IN:\n",
    "        sum_odd =  FILL_ME_IN\n",
    "\n",
    "print(f\"the sum of odd numbers between 0 and {N} is: {sum_odd}\")"
   ]
  },
  {
   "cell_type": "markdown",
   "metadata": {},
   "source": [
    "## Constructing a list\n",
    "\n",
    "Use a list comprehension to construct a list consisting of:\n",
    "* 10 numbers\n",
    "* that increase linearly\n",
    "* starting at 1\n",
    "* the increment between consecutive numbers is 0.25\n",
    "\n",
    "I.e., your list should have values: 1.0, 1.25, 1.5, 1.75, 2.0, 2.25, 2.5, 2.75, 3.0, 3.25.\n",
    "\n",
    "Store the resulting list as `tt`"
   ]
  },
  {
   "cell_type": "code",
   "execution_count": 5,
   "metadata": {},
   "outputs": [
    {
     "name": "stdout",
     "output_type": "stream",
     "text": [
      "The list tt is: [1.0, 1.25, 1.5, 1.75, 2.0, 2.25, 2.5, 2.75, 3.0, 3.25]\n"
     ]
    }
   ],
   "source": [
    "## Complete the following code fragment\n",
    "\n",
    "tt = [ FILL_ME_IN ]\n",
    "\n",
    "print(\"The list tt is:\", tt)"
   ]
  },
  {
   "cell_type": "markdown",
   "metadata": {},
   "source": [
    "## Compute samples of a sinusoid\n",
    "\n",
    "Construct a second list consisting of samples of a sinusoid.\n",
    "Specifically, for each element $t$ of the list `tt`, compute $\\cos(2\\pi \\cdot 0.1 \\cdot t)$.\n",
    "\n",
    "Use a list comprehension and store the result as `xx`."
   ]
  },
  {
   "cell_type": "code",
   "execution_count": 6,
   "metadata": {},
   "outputs": [
    {
     "name": "stdout",
     "output_type": "stream",
     "text": [
      "The list xx is: [0.8090169943749475, 0.7071067811865476, 0.5877852522924732, 0.4539904997395468, 0.30901699437494745, 0.15643446504023092, 6.123233995736766e-17, -0.1564344650402308, -0.30901699437494734, -0.45399049973954675]\n"
     ]
    }
   ],
   "source": [
    "## Complete the following code fragment\n",
    "xx = [ FILL_ME_IN ]\n",
    "\n",
    "print(\"The list xx is:\", xx)"
   ]
  },
  {
   "cell_type": "markdown",
   "metadata": {},
   "source": [
    "## Checks\n",
    "\n",
    "After you copleted all of the above tasks, execute the cell below to check your results. If necessary, go back and fix any errors."
   ]
  },
  {
   "cell_type": "code",
   "execution_count": 7,
   "metadata": {},
   "outputs": [
    {
     "name": "stdout",
     "output_type": "stream",
     "text": [
      "Everything is correct!\n"
     ]
    }
   ],
   "source": [
    "## DON'T CHANGE THIS CELL\n",
    "# Execute this cell ag=fter completing all of the above tasks\n",
    "import numpy as np\n",
    "\n",
    "all_good = True\n",
    "\n",
    "vals = [k, c, f]\n",
    "expected = {\n",
    "    'k': 21,\n",
    "    'c': 1-2j,\n",
    "    'f': 3.14,\n",
    "    'sum': np.sum(vals),\n",
    "    'prod': np.prod(vals),\n",
    "    'power': np.power(c, f),\n",
    "    'magnitude': abs(c),\n",
    "    'phase': np.arctan(c.imag / c.real),\n",
    "    'sum_odd': np.sum(np.arange(1, 10, 2)),\n",
    "    'tt': np.arange(1., 3.3, 0.25),\n",
    "    'xx': np.cos(2*np.pi*0.1*np.arange(1., 3.3, 0.25)),\n",
    "}\n",
    "\n",
    "results = {}\n",
    "for key in expected.keys():\n",
    "    try:\n",
    "        results[key] = eval(key)\n",
    "    except NameError:\n",
    "        print(\"I didn't find a variable named:\", key)\n",
    "        all_good = False\n",
    "        continue\n",
    "\n",
    "    if not np.allclose(results[key], expected[key]):\n",
    "        print(f'Variable {key} is not correct.')\n",
    "        all_good = False\n",
    "\n",
    "if all_good:\n",
    "    print('Everything is correct!')"
   ]
  }
 ],
 "metadata": {
  "kernelspec": {
   "display_name": "Python 3",
   "language": "python",
   "name": "python3"
  },
  "language_info": {
   "codemirror_mode": {
    "name": "ipython",
    "version": 3
   },
   "file_extension": ".py",
   "mimetype": "text/x-python",
   "name": "python",
   "nbconvert_exporter": "python",
   "pygments_lexer": "ipython3",
   "version": "3.10.12"
  },
  "orig_nbformat": 4
 },
 "nbformat": 4,
 "nbformat_minor": 2
}
