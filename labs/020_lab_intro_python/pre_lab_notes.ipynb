{
 "cells": [
  {
   "cell_type": "markdown",
   "metadata": {
    "slideshow": {
     "slide_type": "slide"
    }
   },
   "source": [
    "# A Brief Refresher of Python\n",
    "\n",
    "This lab provides a very brief refresher of key Python concepts. We will review:\n",
    "* Variables: variables can hold values that we want to store; of particular interest are numerical variables abd the mathematical operations that can be performed on them. Variables holding strings are also relevant.\n",
    "* Data structures: a real strength of Python are the data structures that it supports; this includes lists (`list`), dictionaries (`dict`), tuples and sets.\n",
    "* Control structures: Python supports the \"usual\" means for controlling the flow of execution in a program, including loops and conditionals.\n",
    "\n",
    "<p style=\"margin-bottom: 15px; padding: 4px 12px; background-color: #e7f3fe; border-left: 6px solid #2196F3;\">\n",
    "Python has great support for <em>Object-Oriented Programming</em> (OOP). However, we will not touch on this aspect of the language. You are encouraged to learn this on your own or in a different class.\n",
    "</p>\n"
   ]
  },
  {
   "cell_type": "markdown",
   "metadata": {
    "slideshow": {
     "slide_type": "slide"
    }
   },
   "source": [
    "## Variables\n",
    "\n",
    "Variables are used to hold \"data\" that we want to work with. Variables in Python can hold quite literally any type of data, including:\n",
    "* **scalar, numerical values:** we'll start with these\n",
    "* **strings:** these are sequences of letters\n",
    "* **lists, dictionaries, and other data structures:** we will look at Python's data structures below\n",
    "* **any Python object:** this includes  objects for built-in or user-defined classes and even functions; *in Python everything is an object*.\n",
    "\n",
    "To store a value in a variable, we use the assignment operator; an assignment looks like this\n",
    "```python\n",
    "var_name = expression\n",
    "```\n",
    "where `var_name` is the name we give the variable and `expression` can be a numerical value, the result of an operation, another variable, and many other things.\n",
    "\n",
    "Here are some examples:"
   ]
  },
  {
   "cell_type": "code",
   "execution_count": 1,
   "metadata": {
    "ExecuteTime": {
     "end_time": "2023-08-02T21:00:49.326324Z",
     "start_time": "2023-08-02T21:00:49.315771Z"
    },
    "slideshow": {
     "slide_type": "slide"
    }
   },
   "outputs": [
    {
     "name": "stdout",
     "output_type": "stream",
     "text": [
      "n =  42\n",
      "n + 7 =  49\n",
      "n is still  42\n",
      "After n = n + 7, n =  49\n"
     ]
    }
   ],
   "source": [
    "# define a variable named `n` and assign the value 42 to it\n",
    "n = 42\n",
    "print('n = ', n)\n",
    "\n",
    "# Now `n` can be used for computations: print the result of `n + 7`\n",
    "print('n + 7 = ', n + 7)\n",
    "\n",
    "# Note that the previous operations does not change the value of `n`\n",
    "print('n is still ', n)\n",
    "\n",
    "# to change the value assigned to `n`, we must use another assignment\n",
    "n = n + 7\n",
    "print('After n = n + 7, n = ', n)"
   ]
  },
  {
   "cell_type": "markdown",
   "metadata": {
    "slideshow": {
     "slide_type": "slide"
    }
   },
   "source": [
    "### Python variables are **untyped**\n",
    "\n",
    "In the above examples, the variable `n` was used to store integer values. However, unlike in compiled languages like C or Java, we don't have to specify what types of values a variable can hold.\n",
    "\n",
    "In fact, the same variable can hold any type of data. We say that Python variables are untyped. This feature makes Python programs easier to write, but it can lead to problems.\n",
    "\n",
    "Python has many built-in [data types](https://docs.python.org/3/library/stdtypes.html). We will focus on:\n",
    "* Numeric (scalar) types: integers (`int`), floating point numbers (`float`), and complex numbers (`complex`)\n",
    "* Text sequences: strings (`str`)\n",
    "* Sequence types: lists (`list`), tuples (`tuple`), and ranges (`range`)\n",
    "* Mapping types: dictionaries (`dict`)\n",
    "* NumPy Arrays: are **not** built into Python; they are used to store vectors of numbers\n",
    "\n",
    "<p style=\"margin-bottom: 15px; padding: 4px 12px; background-color: #e7f3fe; border-left: 6px solid #2196F3;\">\n",
    "If you ever need to know, what type of data a variable holds, you can use the built-in function `type()`.\n",
    "</p>\n",
    "\n",
    "Here are some examples."
   ]
  },
  {
   "cell_type": "code",
   "execution_count": 2,
   "metadata": {
    "ExecuteTime": {
     "end_time": "2023-08-02T21:00:55.770781Z",
     "start_time": "2023-08-02T21:00:55.748766Z"
    },
    "slideshow": {
     "slide_type": "slide"
    }
   },
   "outputs": [
    {
     "name": "stdout",
     "output_type": "stream",
     "text": [
      "Variable n holds value 49 of type <class 'int'>.\n",
      "Variable x holds value -1.5 of type <class 'float'>.\n",
      "Variable z holds value (1+2j) of type <class 'complex'>.\n",
      "Variable s holds value Hello World of type <class 'str'>.\n",
      "After `x = n`, variable x holds value 49 of type <class 'int'>.\n"
     ]
    }
   ],
   "source": [
    "# what type of data is currently stored as `n`\n",
    "print(f'Variable n holds value {n} of type {type(n)}.')\n",
    "\n",
    "# let's define a few other variables and check their type\n",
    "x = -1.5\n",
    "z = 1 + 2j\n",
    "s = \"Hello World\"\n",
    "\n",
    "print(f'Variable x holds value {x} of type {type(x)}.')\n",
    "print(f'Variable z holds value {z} of type {type(z)}.')\n",
    "print(f'Variable s holds value {s} of type {type(s)}.')\n",
    "\n",
    "# when a new values is assigned to a variable, the variable may change its type\n",
    "x = n\n",
    "print(f'After `x = n`, variable x holds value {x} of type {type(x)}.')\n"
   ]
  },
  {
   "cell_type": "markdown",
   "metadata": {
    "slideshow": {
     "slide_type": "slide"
    }
   },
   "source": [
    "### Working with Variables\n",
    "\n",
    "We store variables so that we can perform (usually) mathematical operations on them. Python, supports standard mathematical operations, including:\n",
    "\n",
    "*  addition (`+`) and subtraction (`-`)\n",
    "*  multiplication ('*'), division ('/'), and modulus/remainder (`%`)\n",
    "   - when dividing two integers, there is also the integer division operator (`//`); the result of this operation is  always an integer, e.g., `3 // 2` results in `1` whereas `3 / 2` produces `1.5`.\n",
    "*  the operator (`**`) is used to raise a number to a power, e.g., `4 ** 2` produces 16.\n",
    "*  the absolute value of a number is found with the `abs()` function.\n",
    "*  the real and imaginary part of a variable `v` that holds a numerical value can be accessed as `v.real` and `v.imag`, respectively; the conjugate complex of `v` is obtained with `v.conjugate()`.\n",
    "   - Note that `v.conjugate()` needs parentheses while `v.real` and `v.imag` do not.\n",
    "\n",
    "<p style=\"margin-bottom: 15px; padding: 4px 12px; background-color: #e7f3fe; border-left: 6px solid #2196F3;\">\n",
    "Note: the usual rules of precedence apply. Use parentheses to change the order of execution.\n",
    "</p>\n",
    "\n",
    "Python can be used as a very powerful calculator. Here are some examples, note that we can mix variable types when performing operations (as long as that makes sense):"
   ]
  },
  {
   "cell_type": "code",
   "execution_count": 3,
   "metadata": {
    "ExecuteTime": {
     "end_time": "2023-08-02T21:00:57.715721Z",
     "start_time": "2023-08-02T21:00:57.704069Z"
    },
    "slideshow": {
     "slide_type": "slide"
    }
   },
   "outputs": [
    {
     "name": "stdout",
     "output_type": "stream",
     "text": [
      "Addition: `x + n =  47.5\n",
      "Subtraction: `x - z =  (-2.5-2j)\n",
      "Multiplication: `x * z` =  (-1.5-3j)\n",
      "Division: x / z =  (-0.3+0.6j)\n",
      "Modulus: (x + n) % 24 =  7.5\n",
      "Integer Division: ` n // 3 =  16\n",
      "Raising to a power: `z ** 2 =  (-3+4j)\n",
      "Absolute value: `abs(z) =  2.23606797749979\n",
      "Conjugate: ` z.conjugate() =  (1-2j)\n",
      "Real part: `z.real =  1.0\n",
      "Imaginary part: `z.imag =  2.0\n"
     ]
    }
   ],
   "source": [
    "# using the variables defined above, perform some of the basic operations\n",
    "x = -1.5    # restore the vale of x\n",
    "\n",
    "print('Addition: `x + n = ', x + n)\n",
    "print('Subtraction: `x - z = ', x - z)\n",
    "\n",
    "print('Multiplication: `x * z` = ', x * z)\n",
    "print('Division: x / z = ', x / z)\n",
    "print('Modulus: (x + n) % 24 = ', (x + n) % 10)\n",
    "print('Integer Division: ` n // 3 = ', n // 3)\n",
    "\n",
    "print('Raising to a power: `z ** 2 = ', z**2)\n",
    "\n",
    "print('Absolute value: `abs(z) = ', abs(z))\n",
    "\n",
    "print('Conjugate: ` z.conjugate() = ', z.conjugate())\n",
    "print('Real part: `z.real = ', z.real)\n",
    "print('Imaginary part: `z.imag = ', z.imag)"
   ]
  },
  {
   "cell_type": "markdown",
   "metadata": {
    "slideshow": {
     "slide_type": "slide"
    }
   },
   "source": [
    "### Mathematical Functions\n",
    "\n",
    "These basic operations on numerical values will not suffice for our purposes. We will also need standard functions, including trigonometric functions, exponential functions, or square roots.\n",
    "\n",
    "To access these functions in Python, we must load them from either of the following modules:\n",
    "* the [`math` module](https://docs.python.org/3/library/math.html) provides access to functions that take integers or floating point numbers as their inputs.\n",
    "* the [`cmath` module](https://docs.python.org/3/library/cmath.html#module-cmath) provides access to functions that generalize some of the functions in the `math` module, including trigonometric functions and exponential functions. The `cmath` module also includes functions for converting between rectangular and polar representations.\n",
    "\n",
    "It is perfectly ok to import both modules. To import both of these modules use the following lines; they should be executed only once, usually at the very top of a notebook, script, or module."
   ]
  },
  {
   "cell_type": "code",
   "execution_count": 4,
   "metadata": {
    "ExecuteTime": {
     "end_time": "2023-08-02T21:01:03.824453Z",
     "start_time": "2023-08-02T21:01:03.811672Z"
    },
    "slideshow": {
     "slide_type": "fragment"
    }
   },
   "outputs": [],
   "source": [
    "# Import both `math` and `cmath`\n",
    "import math\n",
    "import cmath"
   ]
  },
  {
   "cell_type": "markdown",
   "metadata": {
    "slideshow": {
     "slide_type": "slide"
    }
   },
   "source": [
    "#### Using the `math` and `cmath` modules\n",
    "\n",
    "When imported as above, you can access the functions in either module.\n",
    "\n",
    "For example:\n",
    "* to access the $cos()$ function for a real valued input `x` use `math.cos(x)`.\n",
    "* to access the $cos()$ function for a complex valued input `z` use `cmath.cos(z)`.\n",
    "\n",
    "The prefixes `math` and `cmath`, respectively are called name spaces. When imported as above, two different name spaces are created that allow identically named functions to coexist.\n",
    "\n",
    "<p style=\"margin-bottom: 15px; padding: 4px 12px; background-color: #ffffcc; border-left: 6px solid #ffeb3b;\">\n",
    "    <strong>Warning:</strong> it is possible to remove the name space prefix during import using the following syntax. This is <strong>not</strong> recommended. To begin, you only have access to one of each function.\n",
    "</p>\n",
    "\n",
    "```python\n",
    "from math import *\n",
    "from cmath import *\n",
    "```\n",
    "    \n",
    "\n",
    "<p style=\"margin-bottom: 15px; padding: 4px 12px; background-color: #e7f3fe; border-left: 6px solid #2196F3;\">\n",
    "    <strong>Note:</strong> it is possible to shorten the prefix by importing the modules as shown below. Then you can invoke the two $cos()$ functions as `ma.cos` and `cm.cos`, respectively. Given the short module names, this is probably not worth it and definitely less clear.\n",
    "</p>\n",
    "\n",
    "```python\n",
    "import math as ma\n",
    "import cmath as cm\n",
    "```\n",
    "\n",
    "<p style=\"margin-bottom: 15px; padding: 4px 12px; background-color: #e7f3fe; border-left: 6px solid #2196F3;\">\n",
    "    <strong>Note:</strong> Most of the functions we are interested in are in the `cmath` module. It may suffice to just load the `cmath` module.\n",
    "</p>\n",
    "\n",
    "<p style=\"margin-bottom: 15px; padding: 4px 12px; background-color: #e7f3fe; border-left: 6px solid #2196F3;\">\n",
    "    <strong>Note:</strong> In the next lab, you will learn about the NumPy module. We will rely on that module instead of either of the `math` or `cmath` modules to provide us with mathematical functions.\n",
    "</p>\n",
    "\n",
    "Here are some examples:"
   ]
  },
  {
   "cell_type": "code",
   "execution_count": 5,
   "metadata": {
    "ExecuteTime": {
     "end_time": "2023-08-02T21:01:10.151936Z",
     "start_time": "2023-08-02T21:01:10.141081Z"
    },
    "slideshow": {
     "slide_type": "slide"
    }
   },
   "outputs": [
    {
     "name": "stdout",
     "output_type": "stream",
     "text": [
      "For both versions cos(x) =  0.7071067811865476\n",
      "For both versions exp(y) =  0.36787944117144233\n",
      "z = e^{j pi/4} =  (0.7071067811865476+0.7071067811865475j)\n",
      "z in polar coordinates:  1.0  * exp(j  0.24999999999999997  * pi)\n",
      "z in rectangular coordinates:  (0.7071067811865477+0.7071067811865475j)\n"
     ]
    }
   ],
   "source": [
    "## verify that both versions of cos and exp give the same answer for real valued inputs\n",
    "x = math.pi / 4\n",
    "if math.cos(x) == cmath.cos(x):\n",
    "    print(\"For both versions cos(x) = \", math.cos(x))\n",
    "else:\n",
    "    print(\"math.cos(x) = \", math.cos(x), \" cmath.cos(x) = \", cmath.cos(x))\n",
    "\n",
    "y = -1\n",
    "if math.exp(y) == cmath.exp(y):\n",
    "    print(\"For both versions exp(y) = \", math.exp(y))\n",
    "else:\n",
    "    print(\"math.exp(y) = \", math.exp(y), \" cmath.exp(y) = \", cmath.exp(y))\n",
    "\n",
    "## use cmath functions with complex inputs\n",
    "z = cmath.exp(1j * x)    # compute e^{j pi/4}\n",
    "print(\"z = e^{j pi/4} = \", z)\n",
    "\n",
    "# convert z to polar and back to rectangular\n",
    "r, phi = cmath.polar(z)\n",
    "print(\"z in polar coordinates: \", r, \" * exp(j \", phi/math.pi, \" * pi)\")\n",
    "print(\"z in rectangular coordinates: \", cmath.rect(r, phi))\n"
   ]
  },
  {
   "cell_type": "markdown",
   "metadata": {
    "slideshow": {
     "slide_type": "slide"
    }
   },
   "source": [
    "## Control Flow\n",
    "\n",
    "Until now, we have considered only very simple statements. We have assigned the results of expressions to variables and printed the values of variables and expressions.\n",
    "\n",
    "In real problems, we often have many data points that we must process. We may also need to perform processing that depends on conditions that we encounter.\n",
    "\n",
    "For such purposes, Python provides means to control the flow of a program. We will focus on\n",
    "* **loops** for executing the same step in our program many times for different data points.\n",
    "* **if** statements allow us to perform processing depending on some condition.\n",
    "\n"
   ]
  },
  {
   "cell_type": "markdown",
   "metadata": {
    "slideshow": {
     "slide_type": "slide"
    }
   },
   "source": [
    "### Loops\n",
    "\n",
    "Loops are used to perform the same processing steps repeatedly for different data.\n",
    "\n",
    "For example, assume that we need to compute and print the square of all numbers from 1 to 10. We could do this by writing 10 (nearly) identical lines of code. That is a very bad idea!\n",
    "\n",
    "Instead, we should use a loop to execute these nearly identical steps and simply vary the value that we need to square between 1 and 10.\n",
    "\n",
    "A simple `for` loop that accomplishes this task looks like this:"
   ]
  },
  {
   "cell_type": "code",
   "execution_count": 6,
   "metadata": {
    "ExecuteTime": {
     "end_time": "2023-08-02T21:01:14.018749Z",
     "start_time": "2023-08-02T21:01:14.005561Z"
    },
    "slideshow": {
     "slide_type": "slide"
    }
   },
   "outputs": [
    {
     "name": "stdout",
     "output_type": "stream",
     "text": [
      "the square of 1 is 1\n",
      "the square of 2 is 4\n",
      "the square of 3 is 9\n",
      "the square of 4 is 16\n",
      "the square of 5 is 25\n",
      "the square of 6 is 36\n",
      "the square of 7 is 49\n",
      "the square of 8 is 64\n",
      "the square of 9 is 81\n",
      "the square of 10 is 100\n"
     ]
    }
   ],
   "source": [
    "for c in range(10):\n",
    "    # this is the loop body, it is executed 10 times\n",
    "    # each time the variable `var` has a different value\n",
    "    # starting wit 0 and ending with 9!\n",
    "    #\n",
    "    # Note that the body of the loop is indented by one tab\n",
    "    n = c + 1   # convert range from 0-9 to 1-10\n",
    "    print(f\"the square of {n} is {n**2}\")\n"
   ]
  },
  {
   "cell_type": "markdown",
   "metadata": {
    "slideshow": {
     "slide_type": "slide"
    }
   },
   "source": [
    "```python\n",
    "for c in range(10):\n",
    "    n = c + 1   # convert range from 0-9 to 1-10\n",
    "    print(f\"the square of {n} is {n**2}\")\n",
    "```\n",
    "\n",
    "Note the following about the loop:\n",
    "* the loop is introduced with the keyword `for`\n",
    "* next is the name of a variable (here `c`) that will hold a different value each time the loop is executed\n",
    "* next is the keyword `in`\n",
    "* followed by a description of all the values that `c` should take on.\n",
    "    - In our case, `range(10)` specifies that `c` should take values between 0 and 10-1=9; note that 10 is NOT included, but there are 10 values (0 to 9) produced by this `range` expression.\n",
    "    - We could have specified `range(1, 11)` to produce values from 1 to 10 (again, the final value is not include). Then, we wouldn't need to compute `n = c + 1'.\n",
    "    - The `range()` function, can also take a third argument, e.g., `range(1, 11, 2)`; this range specification would have produced the sequence of values 1, 3, 5, 7, 9 - the increment between consecutive values is 2.\n",
    "* the last thing on the `for` line is a colon (`:`).\n",
    "* the loop body is a sequence of statements that (normally) access the loop variable `c`.\n",
    "* in Python, the loop body is **indented** relative to the `for` keyword; the indent is one tab.\n",
    "* the loop body ends when the indent returns to the previous level."
   ]
  },
  {
   "cell_type": "markdown",
   "metadata": {
    "slideshow": {
     "slide_type": "slide"
    }
   },
   "source": [
    "#### Example\n",
    "\n",
    "Here is another example; let's add the inverses of squares of $n$, i.e., $1/n^2$ for $n$ between $1$ and some number $N$ that we will specify.\n",
    "\n",
    "The example below shows that we maintain a variable `res` that is\n",
    "* initialized to 0, then\n",
    "* updated each time through the loop."
   ]
  },
  {
   "cell_type": "code",
   "execution_count": 7,
   "metadata": {
    "ExecuteTime": {
     "end_time": "2023-08-02T21:02:41.284201Z",
     "start_time": "2023-08-02T21:02:41.276244Z"
    },
    "slideshow": {
     "slide_type": "slide"
    }
   },
   "outputs": [
    {
     "name": "stdout",
     "output_type": "stream",
     "text": [
      "the sum of 1/(n**2) for n between 1 and 10000 is 1.6448340718480652\n",
      "Did you know that this sum converges to (pi**2)/6 (1.6449340668482262)?\n"
     ]
    }
   ],
   "source": [
    "## compute sum of 1/n^2 for n from 1 to N\n",
    "N = 10000\n",
    "\n",
    "# initialize the variable for the result and update each time through the loop\n",
    "res = 0\n",
    "for n in range(1, N+1):\n",
    "    res = res + 1 / n**2\n",
    "\n",
    "# the loop is done; print the result\n",
    "print(f\"the sum of 1/(n**2) for n between 1 and {N} is {res}\")\n",
    "print(f\"Did you know that this sum converges to (pi**2)/6 ({1/6*math.pi**2})?\")"
   ]
  },
  {
   "cell_type": "markdown",
   "metadata": {
    "slideshow": {
     "slide_type": "slide"
    }
   },
   "source": [
    "### Conditional Execution with `if`\n",
    "\n",
    "Often, we need to execute a part of our program only when some condition is met.\n",
    "\n",
    "This is accomplished in Python with the keywords `if` and, possibly, `elif` and `else`.\n",
    "\n",
    "For example, assume that we want to check if a given number is divisible by 7 or by 9 or neither of these two.\n",
    "\n",
    "To check if a number $p$ is divisible by some other number $q$, we compute the modulus (remainder) of $p/q$; recall that Python has the `%` operator for that purpose. If the modulus is zero, then $q$ divides $p$ without remainder.\n",
    "\n",
    "Also, to check for equality in Python use the `==` operator; that's two equal signs! Other comparison operators are `>`, `>=`, `<`, and `<=`.\n",
    "\n",
    "We can, therefore, implement this example as follows.\n",
    "\n",
    "<p style=\"margin-bottom: 15px; padding: 4px 12px; background-color: #ffffcc; border-left: 6px solid #ffeb3b;\">\n",
    "Note: this implementation isn't quite right. What happens if `number = 63`?\n",
    "</p>"
   ]
  },
  {
   "cell_type": "code",
   "execution_count": 8,
   "metadata": {
    "ExecuteTime": {
     "end_time": "2023-08-02T21:03:06.074220Z",
     "start_time": "2023-08-02T21:03:06.061658Z"
    },
    "slideshow": {
     "slide_type": "slide"
    }
   },
   "outputs": [
    {
     "name": "stdout",
     "output_type": "stream",
     "text": [
      "27 is divisible by 9.\n"
     ]
    }
   ],
   "source": [
    "## check if a number is divisible by 7 or by 9\n",
    "number = 27\n",
    "\n",
    "# conditional execution is used to print the correct answer\n",
    "if number % 7 == 0:\n",
    "    print(f\"{number} is divisible by 7.\")\n",
    "elif number % 9 == 0:\n",
    "    print(f\"{number} is divisible by 9.\")\n",
    "else:\n",
    "    print(f\"{number} is not divisible by 7 or by 9.\")"
   ]
  },
  {
   "cell_type": "markdown",
   "metadata": {
    "slideshow": {
     "slide_type": "slide"
    }
   },
   "source": [
    "### Combining Loops and Conditionals\n",
    "\n",
    "It is quite common that `for`  loops and `if` conditionals are combined.\n",
    "\n",
    "This could happen if you're searching for a specific value or condition for the loop variable.\n",
    "Or, it might be required that different operations are performed based on the value of the loop variable.\n",
    "\n",
    "A special case is to break out of the loop when no further iterations are needed, e.g., when we found the value we were searching for. The keyword `break` ends the loop.\n",
    "\n",
    "The example below computes the *greatest common divisor* (gcd) of the three numbers 2982, 5418, 10794. To do so, we loop over integers from some N down to 1 using the loop variable `n`; it should be clear that we can choose $N \\approx \\sqrt{2982}$. In each loop iteration, we check if `n` divides all three of our numbers. If so, we found the gcd and break.\n",
    "\n",
    "<p style=\"margin-bottom: 15px; padding: 4px 12px; background-color: #ffffcc; border-left: 6px solid #ffeb3b;\">\n",
    "    Note: this implementation is neither efficient nor very general. Euclid's algorithm is a much better option.\n",
    "</p>"
   ]
  },
  {
   "cell_type": "code",
   "execution_count": 9,
   "metadata": {
    "ExecuteTime": {
     "end_time": "2023-08-02T21:03:08.734015Z",
     "start_time": "2023-08-02T21:03:08.712902Z"
    },
    "slideshow": {
     "slide_type": "slide"
    }
   },
   "outputs": [
    {
     "name": "stdout",
     "output_type": "stream",
     "text": [
      "The gcd of 2982, 5418, 10794 is 42\n",
      "\t2982 = 42 * 71\n",
      "\t5418 = 42 * 129\n",
      "\t10794 = 42 * 257\n"
     ]
    }
   ],
   "source": [
    "## find the gcd of 2982, 5418, 10794\n",
    "# figure out an upper limit on the gcd\n",
    "N = int(math.sqrt(2982)) + 1\n",
    "\n",
    "# loop in reverse order from N to 1; the increment -1 causes reverse order\n",
    "for n in range(N, 1, -1):\n",
    "    # check if n divides all three of our numbers (using logical `and`)\n",
    "    if 2982 % n == 0 and 5418 % n == 0 and 10794 % n == 0:\n",
    "        # if so, we're done: the current value of n is the gcd\n",
    "        break\n",
    "\n",
    "print(f\"The gcd of 2982, 5418, 10794 is {n}\")\n",
    "print(f\"\\t2982 = {n} * {2982 // n}\")\n",
    "print(f\"\\t5418 = {n} * {5418 // n}\")\n",
    "print(f\"\\t10794 = {n} * {10794 // n}\")"
   ]
  },
  {
   "cell_type": "markdown",
   "metadata": {
    "slideshow": {
     "slide_type": "slide"
    }
   },
   "source": [
    "## Lists and Other Data Structures\n",
    "\n",
    "A real strength of Python is its built-in support for useful data structures.\n",
    "\n",
    "We will be interested primarily in lists (type `list`) and dictionaries (type `dict`). A feq of the other data structures are mentioned briefly:\n",
    "* **lists (`list`)** are used to store data in sequential order.\n",
    "* **dictionaries or maps (`dict`)** are used to store data under a key.\n",
    "* **tuples (`tuple`)** are like lists, except they cannot be modified; they are *immutable*\n",
    "* **sets (`set`)** hold arbitrary data but each data element is only stored once, sets are also immutable.\n",
    "\n",
    "We will see that lists are fairly well suited to model discrete-time signals. Recall that discrete-time signals are just a sequence of samples (i.e., numbers) and lists are designed to store just such sequences.\n",
    "\n",
    "We will see in the next lab that there is an even better alternative for holding discrete-time signals: NumPy areas are more compact (use less memory) and allow for much faster processing than lists."
   ]
  },
  {
   "cell_type": "markdown",
   "metadata": {
    "slideshow": {
     "slide_type": "slide"
    }
   },
   "source": [
    "### Lists\n",
    "\n",
    "Lists are containers that can hold a sequence of data. To model signals, we use lists to store sequences of numbers. However, Python lists are much more general in that they can store any sequence of Python objects - for example, a list of lists is not unusual.\n",
    "\n",
    "To construct a list,\n",
    "* specify the elements of the list, separated by commas, inside square brackets, e.g.,\n",
    "  ```python\n",
    "  my_list = [1, 2+1j, math.pi, \"string\"]\n",
    "  ```\n",
    "* build the list element by element-by-element using the `list.append()` function, e.g.,\n",
    "  ```python\n",
    "  my_list = []\n",
    "  my_list.append(1)\n",
    "  my_list.append(2+1j)\n",
    "  ```\n",
    "* use built-in functions together with `list()`, e.g.,\n",
    "  ```python\n",
    "  l_0_to9 = list(range(10))\n",
    "  ```\n",
    "  The usefulness of this option is somewhat limited because arguments to `range` must all be integers.\n",
    "\n",
    "The second option (using `append()`) can be used to construct a time-grid, i.e., $N$ evenly spaced values between a lower and an upper limit:\n"
   ]
  },
  {
   "cell_type": "code",
   "execution_count": 10,
   "metadata": {
    "ExecuteTime": {
     "end_time": "2023-08-02T21:03:14.565854Z",
     "start_time": "2023-08-02T21:03:14.547009Z"
    },
    "slideshow": {
     "slide_type": "slide"
    }
   },
   "outputs": [
    {
     "name": "stdout",
     "output_type": "stream",
     "text": [
      "time grid:  [0.0, 0.03, 0.06, 0.09, 0.12, 0.15, 0.18, 0.21, 0.24, 0.27]\n"
     ]
    }
   ],
   "source": [
    "## construct a time grid\n",
    "lower = 0\n",
    "upper = 0.3\n",
    "N = 10\n",
    "\n",
    "# figure out the spacing between grid points\n",
    "inc = (upper - lower) / N\n",
    "\n",
    "# build the time grid incrementally using a loop\n",
    "tt = []\n",
    "for n in range(N):\n",
    "    tt.append(lower + n * inc)\n",
    "\n",
    "print(\"time grid: \", tt)"
   ]
  },
  {
   "cell_type": "markdown",
   "metadata": {
    "slideshow": {
     "slide_type": "slide"
    }
   },
   "source": [
    "#### List comprehensions\n",
    "\n",
    "The list construction above is so common that there is a more compact, faster version to construct a list.\n",
    "\n",
    "The above list can be constructed using a **list comprehension**. A list comprehension wraps the elements of the loop inside a pair of square brackets, like this:\n",
    "```python\n",
    "my_list = [ expression for var in iterable ]\n",
    "```\n",
    "where:\n",
    "* `expression` describes how the list elements are computed from the loop variable `var`\n",
    "* `iterable` describes the values that `var` can take, e.g., `range(10)`.\n",
    "\n",
    "Note how the elements of a normal loop map to the list comprehension.\n",
    "\n",
    "Whenever possible, you should prefer a list comprehension over a loop.\n",
    "\n",
    "Here is the construction of the time grid using a list comprehension - just one line!"
   ]
  },
  {
   "cell_type": "code",
   "execution_count": 11,
   "metadata": {
    "ExecuteTime": {
     "end_time": "2023-08-02T21:03:38.858454Z",
     "start_time": "2023-08-02T21:03:38.844899Z"
    },
    "slideshow": {
     "slide_type": "fragment"
    }
   },
   "outputs": [
    {
     "name": "stdout",
     "output_type": "stream",
     "text": [
      "time grid:  [0.0, 0.03, 0.06, 0.09, 0.12, 0.15, 0.18, 0.21, 0.24, 0.27]\n"
     ]
    }
   ],
   "source": [
    "## construct the same time grid using a list comprehension\n",
    "tt = [lower + n * inc for n in range(N)]\n",
    "\n",
    "print(\"time grid: \", tt)"
   ]
  },
  {
   "cell_type": "markdown",
   "metadata": {
    "slideshow": {
     "slide_type": "slide"
    }
   },
   "source": [
    "#### Accessing Elements of a List\n",
    "\n",
    "The elements of a list can be accessed using the index, i.e., position of the element.\n",
    "\n",
    "List elements can be retrieved (read) or modified (written).\n",
    "\n",
    "Note that indices are 0-based, i.e., the first element has index $0$ and the last element has index $N-1$, where $N$ is the length of the list.\n",
    "\n",
    "The number of elements in the list can be obtained using the `len()` function.\n",
    "\n",
    "Here are some examples:"
   ]
  },
  {
   "cell_type": "code",
   "execution_count": 12,
   "metadata": {
    "ExecuteTime": {
     "end_time": "2023-08-02T21:05:08.077352Z",
     "start_time": "2023-08-02T21:05:08.065592Z"
    },
    "slideshow": {
     "slide_type": "slide"
    }
   },
   "outputs": [
    {
     "name": "stdout",
     "output_type": "stream",
     "text": [
      "element at index 0: 1\n",
      "element at index 1: (1+2j)\n",
      "element at index 2: 3.141592653589793\n",
      "element at index 3: Hello World!\n"
     ]
    }
   ],
   "source": [
    "## access elements of a list\n",
    "my_list = [1, 1+2j, math.pi, \"Hello World!\"]\n",
    "\n",
    "for n in range( len(my_list) ):\n",
    "    print(f\"element at index {n}: {my_list[n]}\")"
   ]
  },
  {
   "cell_type": "markdown",
   "metadata": {
    "slideshow": {
     "slide_type": "slide"
    }
   },
   "source": [
    "In the previous example, we printed each element of the list. We retrieved (read) the list element using `my_list[n]` where `n` is the loop variable.\n",
    "\n",
    "Note how we used `len(my_list)` to set the range of the loop.\n",
    "\n",
    "The next example demonstrates how the elements of a list can be modified. Specifically, we multiply each loop element by 2 - surprisingly, that even works for the string element."
   ]
  },
  {
   "cell_type": "code",
   "execution_count": 13,
   "metadata": {
    "ExecuteTime": {
     "end_time": "2023-08-02T21:05:10.712237Z",
     "start_time": "2023-08-02T21:05:10.701483Z"
    },
    "slideshow": {
     "slide_type": "slide"
    }
   },
   "outputs": [
    {
     "name": "stdout",
     "output_type": "stream",
     "text": [
      "element at index 0: 2\n",
      "element at index 1: (2+4j)\n",
      "element at index 2: 6.283185307179586\n",
      "element at index 3: Hello World!Hello World!\n"
     ]
    }
   ],
   "source": [
    "# modify each list element\n",
    "for n in range( len(my_list) ):\n",
    "    my_list[n] = 2 * my_list[n]\n",
    "\n",
    "# then print the modified elements; we could have combined the two loops\n",
    "for n in range( len(my_list) ):\n",
    "    print(f\"element at index {n}: {my_list[n]}\")"
   ]
  },
  {
   "cell_type": "markdown",
   "metadata": {
    "slideshow": {
     "slide_type": "slide"
    }
   },
   "source": [
    "#### Slices\n",
    "\n",
    "Slices are lists constructed by selecting elements of an existing list.\n",
    "\n",
    "Gliven a list `l`, we can make a list consisting of all elements between the `n`-th and `(m-1)`-th element using `l[n:m]`.\n",
    "\n",
    "Here are a few examples. To make it easy to see what's included in the slice, we use a list with elements from 0 to 9."
   ]
  },
  {
   "cell_type": "markdown",
   "metadata": {
    "slideshow": {
     "slide_type": "slide"
    }
   },
   "source": [
    "### Tuples\n",
    "\n",
    "Tuples are just like lists, except they can't be modified. Sometimes that is a good thing.\n",
    "\n",
    "To construct tuples, use parentheses instead of square brackets."
   ]
  },
  {
   "cell_type": "code",
   "execution_count": 14,
   "metadata": {
    "ExecuteTime": {
     "end_time": "2023-07-26T20:48:14.178929Z",
     "start_time": "2023-07-26T20:48:14.171690Z"
    },
    "slideshow": {
     "slide_type": "fragment"
    }
   },
   "outputs": [
    {
     "name": "stdout",
     "output_type": "stream",
     "text": [
      "element at index 0: 1\n",
      "element at index 1: (1+2j)\n",
      "element at index 2: 3.141592653589793\n",
      "element at index 3: Hello World!\n"
     ]
    },
    {
     "ename": "TypeError",
     "evalue": "'tuple' object does not support item assignment",
     "output_type": "error",
     "traceback": [
      "\u001b[0;31m---------------------------------------------------------------------------\u001b[0m",
      "\u001b[0;31mTypeError\u001b[0m                                 Traceback (most recent call last)",
      "Cell \u001b[0;32mIn[14], line 6\u001b[0m\n\u001b[1;32m      3\u001b[0m     \u001b[38;5;28mprint\u001b[39m(\u001b[38;5;124mf\u001b[39m\u001b[38;5;124m\"\u001b[39m\u001b[38;5;124melement at index \u001b[39m\u001b[38;5;132;01m{\u001b[39;00mn\u001b[38;5;132;01m}\u001b[39;00m\u001b[38;5;124m: \u001b[39m\u001b[38;5;132;01m{\u001b[39;00mmy_tuple[n]\u001b[38;5;132;01m}\u001b[39;00m\u001b[38;5;124m\"\u001b[39m)\n\u001b[1;32m      5\u001b[0m \u001b[38;5;66;03m# attempting to modify the tuple, causes an error\u001b[39;00m\n\u001b[0;32m----> 6\u001b[0m \u001b[43mmy_tuple\u001b[49m\u001b[43m[\u001b[49m\u001b[38;5;241;43m0\u001b[39;49m\u001b[43m]\u001b[49m \u001b[38;5;241m=\u001b[39m \u001b[38;5;241m2\u001b[39m\n",
      "\u001b[0;31mTypeError\u001b[0m: 'tuple' object does not support item assignment"
     ]
    }
   ],
   "source": [
    "my_tuple = (1, 1+2j, math.pi, \"Hello World!\")\n",
    "for n in range( len(my_tuple) ):\n",
    "    print(f\"element at index {n}: {my_tuple[n]}\")\n",
    "\n",
    "# attempting to modify the tuple, causes an error\n",
    "my_tuple[0] = 2"
   ]
  },
  {
   "cell_type": "markdown",
   "metadata": {
    "slideshow": {
     "slide_type": "slide"
    }
   },
   "source": [
    "### Dictionaries\n",
    "\n",
    "Dictionaries are also used to store data. In comparison to lists, data are accessed using *keys* instead of indices.\n",
    "\n",
    "A typical use for a dictionary is for records of structured information.\n",
    "\n",
    "To construct a dictionary,\n",
    "* between a pair of braces `{}`\n",
    "* place a sequence of pairs of *keys* and *values*\n",
    "* in each pair, the key and the value are separated by a colon (`:`)\n",
    "\n",
    "Note: dictionaries are mutable; you can change the value stored under a key.\n",
    "\n",
    "For example, assume you have a collection of sampled signals, and you want to keep track of information about each of these signals. You might use a dictionary like this to organize information about each signal."
   ]
  },
  {
   "cell_type": "code",
   "execution_count": 15,
   "metadata": {
    "ExecuteTime": {
     "end_time": "2023-07-26T21:10:02.818704Z",
     "start_time": "2023-07-26T21:10:02.810196Z"
    },
    "slideshow": {
     "slide_type": "slide"
    }
   },
   "outputs": [
    {
     "name": "stdout",
     "output_type": "stream",
     "text": [
      "{'file_name': 'signal1.dat', 'date': '2023-07-26', 'time': '16:58:50-04:00', 'sample_rate': 44100}\n"
     ]
    }
   ],
   "source": [
    "signal_meta = {\n",
    "    'file_name': 'signal1.dat',    # name of file holding samples\n",
    "    'date': '2023-07-26',          # date when signal was recorded\n",
    "    'time': '16:58:50-04:00',      # time when signal was recorded\n",
    "    'sample_rate': 44100,          # sampling rate\n",
    "}\n",
    "\n",
    "print(signal_meta)"
   ]
  },
  {
   "cell_type": "markdown",
   "metadata": {
    "slideshow": {
     "slide_type": "slide"
    }
   },
   "source": [
    "#### Accessing Elements of a Dictionary\n",
    "\n",
    "The elements of a dictionary are accessed using the dictionary keys.\n",
    "\n",
    "For example,\n",
    "```python\n",
    "fs = signal_meta['sample_rate']\n",
    "```\n",
    "assigns the value (`44100`) to the variable `fs`.\n",
    "\n",
    "To loop over the data stored in a dictionary, use one the following methods:\n",
    "* **`keys()`** allows you to loop of all keys of the dictionary\n",
    "* **`values()`** lets you loop over the values of the dictionary\n",
    "* **`items()`** can be used to loop over both keys and values simultaneously\n",
    "\n",
    "For example, this is how you can display all key-value pairs in a dictionary:"
   ]
  },
  {
   "cell_type": "code",
   "execution_count": 16,
   "metadata": {
    "ExecuteTime": {
     "end_time": "2023-07-26T21:18:26.884760Z",
     "start_time": "2023-07-26T21:18:26.878Z"
    },
    "slideshow": {
     "slide_type": "slide"
    }
   },
   "outputs": [
    {
     "name": "stdout",
     "output_type": "stream",
     "text": [
      "key: file_name -> value: signal1.dat\n",
      "key: date -> value: 2023-07-26\n",
      "key: time -> value: 16:58:50-04:00\n",
      "key: sample_rate -> value: 44100\n"
     ]
    }
   ],
   "source": [
    "## use dict.keys() to loop over a dictionary\n",
    "for k in signal_meta.keys():\n",
    "    print(f\"key: {k} -> value: {signal_meta[k]}\")"
   ]
  },
  {
   "cell_type": "code",
   "execution_count": 17,
   "metadata": {
    "ExecuteTime": {
     "end_time": "2023-07-26T21:20:14.508992Z",
     "start_time": "2023-07-26T21:20:14.489145Z"
    },
    "slideshow": {
     "slide_type": "slide"
    }
   },
   "outputs": [
    {
     "name": "stdout",
     "output_type": "stream",
     "text": [
      "key: file_name -> value: signal1.dat\n",
      "key: date -> value: 2023-07-26\n",
      "key: time -> value: 16:58:50-04:00\n",
      "key: sample_rate -> value: 44100\n"
     ]
    }
   ],
   "source": [
    "## the same thing using dict.items\n",
    "for k, v in signal_meta.items():\n",
    "    print(f\"key: {k} -> value: {v}\")"
   ]
  },
  {
   "cell_type": "markdown",
   "metadata": {
    "slideshow": {
     "slide_type": "slide"
    }
   },
   "source": [
    "## Putting it all together\n",
    "\n",
    "We combine what we learned in order to compute the samples of sinusoidal signal.\n",
    "\n",
    "Specifically, we want to compute $N=1000$ samples of the signal\n",
    "$$\n",
    "x(t) = 3 \\cos(2 \\pi 10 t + \\frac{\\pi}{4}) \\text{ for $1 \\leq t < 1.5$.}\n",
    "$$\n",
    "\n",
    "To do so, we will\n",
    "* construct a time grid that provides $N$ points over the indicated time interval,\n",
    "* for each point in the time grid, we compute the sample value using functions from the `math` module,\n",
    "* both the time grid and the sample values are stored in lists."
   ]
  },
  {
   "cell_type": "code",
   "execution_count": 18,
   "metadata": {
    "ExecuteTime": {
     "end_time": "2023-07-26T21:33:40.891433Z",
     "start_time": "2023-07-26T21:33:40.807954Z"
    },
    "slideshow": {
     "slide_type": "slide"
    }
   },
   "outputs": [],
   "source": [
    "## define variable for the signal parameters\n",
    "A = 3             # amplitude\n",
    "f = 10            # frequency\n",
    "phi = math.pi/4   # phase\n",
    "\n",
    "lower = 1.        # start\n",
    "upper = 1.5       # end\n",
    "N = 1000          # number of samples\n",
    "\n",
    "# compute the increment between points on the time grid\n",
    "Ts = (upper - lower) / N"
   ]
  },
  {
   "cell_type": "code",
   "execution_count": 19,
   "metadata": {
    "ExecuteTime": {
     "end_time": "2023-07-26T21:55:43.602186Z",
     "start_time": "2023-07-26T21:55:43.583279Z"
    },
    "slideshow": {
     "slide_type": "fragment"
    }
   },
   "outputs": [],
   "source": [
    "## make a list for the time grid using list comprehension\n",
    "tt = [lower + n * Ts for n in range(N)]"
   ]
  },
  {
   "cell_type": "markdown",
   "metadata": {
    "slideshow": {
     "slide_type": "slide"
    }
   },
   "source": [
    "### Computing samples\n",
    "\n",
    "We now have our time grid `tt` and a formula for computing samples.\n",
    "\n",
    "We could use an explicit for loop to compute samples, like this:\n",
    "```python\n",
    "xx = []\n",
    "for n in range(len(tt)):\n",
    "    t = tt[n]\n",
    "    x = A * math.cos( 2*math.pi *f * t + phi )\n",
    "    xx.append(x)\n",
    "```\n",
    "This is tedious and slow. The \"Pythonic\" way to compute the list of samples is using a list comprehension:"
   ]
  },
  {
   "cell_type": "code",
   "execution_count": 20,
   "metadata": {
    "ExecuteTime": {
     "end_time": "2023-07-26T21:55:47.031709Z",
     "start_time": "2023-07-26T21:55:47.022126Z"
    },
    "slideshow": {
     "slide_type": "fragment"
    }
   },
   "outputs": [],
   "source": [
    "## compute the samples using list comprehension\n",
    "# this is shorter and faster than using an explicit loop\n",
    "xx = [A * math.cos( 2*math.pi *f * t + phi ) for t in tt]"
   ]
  },
  {
   "cell_type": "markdown",
   "metadata": {
    "slideshow": {
     "slide_type": "slide"
    }
   },
   "source": [
    "### Plotting the signal\n",
    "\n",
    "Did we get this right? Let's plot the signal and verify that it's correct.\n",
    "\n",
    "We will look in detail at plotting using the Matplotlib module in the next lab; so this is just a preview.\n",
    "\n",
    "Like with the `math` and `cmath` modules, we need to import `matplotlib`; since that's a long name, it's convention to import it under the name `plt`.\n",
    "\n",
    "For use in notebooks, we also need to specify where plots should appear: we want them to appear directly in the notebook (`inline`).\n",
    "\n",
    "These two lines should be at the top of each of your notebooks:"
   ]
  },
  {
   "cell_type": "code",
   "execution_count": 21,
   "metadata": {
    "ExecuteTime": {
     "end_time": "2023-07-26T21:51:17.201203Z",
     "start_time": "2023-07-26T21:51:16.322709Z"
    },
    "slideshow": {
     "slide_type": "fragment"
    }
   },
   "outputs": [],
   "source": [
    "%matplotlib inline\n",
    "import matplotlib.pyplot as plt\n"
   ]
  },
  {
   "cell_type": "markdown",
   "metadata": {
    "slideshow": {
     "slide_type": "slide"
    }
   },
   "source": [
    "Plotting is accomplished using a sequence of function calls from the `matplotlib` module. We need to call:\n",
    "* **`plot`** to generate the plot itself,\n",
    "* **`grid`** to place helpful gridlines on the plot,\n",
    "* **`xlabel` and `ylabel`** to place labels on the axes,\n",
    "* **`title` for a helpful title,\n",
    "* **`show()`** to display the plot - this must be the last call"
   ]
  },
  {
   "cell_type": "code",
   "execution_count": 22,
   "metadata": {
    "ExecuteTime": {
     "end_time": "2023-07-26T21:58:50.695146Z",
     "start_time": "2023-07-26T21:58:50.505948Z"
    },
    "slideshow": {
     "slide_type": "slide"
    }
   },
   "outputs": [
    {
     "data": {
      "image/png": "[encoded data removed]",
      "text/plain": [
       "<Figure size 640x480 with 1 Axes>"
      ]
     },
     "metadata": {},
     "output_type": "display_data"
    }
   ],
   "source": [
    "## plot the signal\n",
    "plt.plot(tt, xx)\n",
    "plt.grid()\n",
    "plt.xlabel('Time $t$')\n",
    "plt.ylabel('$x(t)$')\n",
    "plt.title(r'$x(t) = 3 \\cos( 2 \\pi 10 t + \\frac{\\pi}{4})$')\n",
    "plt.show()"
   ]
  },
  {
   "cell_type": "markdown",
   "metadata": {
    "slideshow": {
     "slide_type": "slide"
    }
   },
   "source": [
    "You should verify that this plot is correct.\n",
    "\n",
    "## Wrap-up\n",
    "\n",
    "You learned the necessary tools that you will need to generate and process signals using Python. This was intended to provide you with just-enough Python to let us do meaningful things in our labs. You are encouraged to delve deeper into Python to improve your skills.\n",
    "\n",
    "We looked at:\n",
    "* numerical variables with support for complex numbers\n",
    "* the `math` and `cmath` modules which provide mathematical functions, including trigonometric and exponential functions\n",
    "* loops and conditionals for controlling the flow of a program\n",
    "* Python data structures with an emphasis on lists.\n",
    "\n",
    "We demonstrated how these concepts can be leveraged to generate and plot a sinusoidal signal.\n",
    "\n",
    "Next week, we will introduce the NumPy module that makes tasks like this a lot easier."
   ]
  }
 ],
 "metadata": {
  "celltoolbar": "Slideshow",
  "kernelspec": {
   "display_name": "Python 3 (ipykernel)",
   "language": "python",
   "name": "python3"
  },
  "language_info": {
   "codemirror_mode": {
    "name": "ipython",
    "version": 3
   },
   "file_extension": ".py",
   "mimetype": "text/x-python",
   "name": "python",
   "nbconvert_exporter": "python",
   "pygments_lexer": "ipython3",
   "version": "3.10.12"
  }
 },
 "nbformat": 4,
 "nbformat_minor": 1
}
