{
 "cells": [
  {
   "cell_type": "markdown",
   "metadata": {},
   "source": [
    "# Post-lab Check\n",
    "\n",
    "Use this notebook to develop your solution to the post-lab check. \n",
    "\n",
    "However, you must upload the Python script file `post_lab_check.py`.\n",
    "\n",
    "Once you have developed your solution, copy and paste the appropriate code into the python file.\n",
    "\n",
    "Your task is to write a function named `corr_coeff` according to the following specifications:\n",
    "* Your function takes as it's input two sampled signals named `xx` and `yy`\n",
    "  - these signal are passed as a NumPy arrays\n",
    "  - the signals may be complex-valued, e.g., complex exponential signals\n",
    "* your function must compute and return the *correlation coefficient* of the signals. \n",
    "  - the correlation coefficient may be complex-valued (if one or both of the signals are complex)\n",
    "  - The correlation coefficient $\\rho$ of the discrete-time signals with samples $x[n]$ and $y[n], $n=0, 1, \\ldots, N-1$ is computed as\n",
    "    $$\n",
    "    \\rho = \\frac{\\sum_{n=0}^{N-1} x[n] \\cdot y^*[n]}{\\sqrt{\\sum_{n=0}^{N-1} |x[n]|^2 \\cdot \\sum_{n=0}^{N-1} |y[n]|^2}}.\n",
    "    $$\n",
    "    + note the conjugate complex ($*$) in the numerator\n",
    "  \n",
    "* Your function must handle the following special cases\n",
    "  - if the lengths of `xx` and `yy` are different, then your function must raise a `ValueError`\n",
    "  - if both `xx` and `yy` are zero-length arrays, then your function must return `None`\n",
    "* Your function must include a proper *doc string*.\n",
    "  - this includes (at least) a description of the Parameters and Return values"
   ]
  },
  {
   "cell_type": "code",
   "execution_count": null,
   "metadata": {},
   "outputs": [],
   "source": [
    "## imports \n",
    "import numpy as np"
   ]
  },
  {
   "cell_type": "markdown",
   "metadata": {},
   "source": [
    "## Task: Function to compute signal power\n",
    "\n",
    "Provide a function according to the above specifications in the cell below.\n",
    "\n",
    "**DO** copy  the contents of the following cell into the designated part of the Python file."
   ]
  },
  {
   "cell_type": "code",
   "execution_count": null,
   "metadata": {},
   "outputs": [],
   "source": [
    "## Copy this cell into the region marked for this Task in the Python file\n",
    "def corr_coeff(xx, yy):\n",
    "    pass"
   ]
  },
  {
   "cell_type": "markdown",
   "metadata": {},
   "source": [
    "Do **NOT** copy the following cell, it is for you to test your function.\n",
    "\n",
    "Note, that not all of the specified requirements are checked here."
   ]
  },
  {
   "cell_type": "code",
   "execution_count": null,
   "metadata": {},
   "outputs": [],
   "source": [
    "## Don not copy this cell\n",
    "## this cell is for testing only\n",
    "\n",
    "#make signal to test with\n",
    "fs = 100\n",
    "tt = np.arange(0, 1, 1/fs)\n",
    "\n",
    "A = 3\n",
    "f = 5\n",
    "phi = np.pi/7\n",
    "\n",
    "xx = A * np.exp(2j*np.pi * f * tt + phi)\n",
    "\n",
    "# correlation of signal with itself is 1\n",
    "assert np.allclose(corr_coeff(xx, xx), 1)\n",
    "\n",
    "# correlation of signal with negative of itself is -1\n",
    "assert np.allclose(corr_coeff(xx, -xx), -1)\n",
    "\n",
    "# correlation between xx and an all-1s signal\n",
    "yy = np.ones_like(xx)\n",
    "assert np.allclose(corr_coeff(xx, yy), 0)\n",
    "\n",
    "# check that the proper exception is raised\n",
    "try:\n",
    "    corr_coeff(xx, xx[1:])\n",
    "except ValueError:\n",
    "    pass\n",
    "\n",
    "print(\"OK\")"
   ]
  },
  {
   "cell_type": "markdown",
   "metadata": {},
   "source": [
    "Once, you are satisfied with your results. Copy and paste the code from the cell that contains your computations into the Python file `post_lab_check.py` for upload to Gradescope."
   ]
  },
  {
   "cell_type": "code",
   "execution_count": null,
   "metadata": {},
   "outputs": [],
   "source": []
  },
  {
   "cell_type": "code",
   "execution_count": null,
   "metadata": {},
   "outputs": [],
   "source": []
  }
 ],
 "metadata": {
  "kernelspec": {
   "display_name": "Python 3",
   "language": "python",
   "name": "python3"
  },
  "language_info": {
   "codemirror_mode": {
    "name": "ipython",
    "version": 3
   },
   "file_extension": ".py",
   "mimetype": "text/x-python",
   "name": "python",
   "nbconvert_exporter": "python",
   "pygments_lexer": "ipython3",
   "version": "3.10.12"
  },
  "orig_nbformat": 4
 },
 "nbformat": 4,
 "nbformat_minor": 2
}
