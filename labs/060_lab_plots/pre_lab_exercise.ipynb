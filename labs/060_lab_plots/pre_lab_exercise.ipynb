{
 "cells": [
  {
   "cell_type": "markdown",
   "metadata": {},
   "source": [
    "# Prelab Exercise\n",
    "\n",
    "This notebook complements the pre-lab notebook [Introduction to Plotting with Matplotlb](https://nbviewer.org/github/bepepa/intro-signal-analysis-lab/blob/main/labs/060_lab_plots/pre_lab_notes.ipynb).\n",
    "\n",
    "Complete the exercises in this notebook. Make sure that you open this notebook as a Jupyter Notebook, i.e., after you launched Jupyter Notebook from the Anaconda Navigator."
   ]
  },
  {
   "cell_type": "markdown",
   "metadata": {},
   "source": [
    "## Your Task\n",
    "\n",
    "The plot below shows several signals. Your task is to re-create this plot.\n",
    "\n",
    "The signals in the plot are related to amplitude modulation of a simple signal $m)t)$. The signals are described by the following equations:\n",
    "* In the top plot:\n",
    "  - the blue signal, labeled *AM Signal* is given by\n",
    "  $$\n",
    "    s(t) = (A_c + m(t)) \\cdot \\cos(2\\pi f_c t +\\phi_c),\n",
    "  $$\n",
    "  - where the message signal $m(t)$ equals\n",
    "  $$\n",
    "  m(t) = A_m \\cdot \\cos(2\\pi f_m t + \\phi_m)\n",
    "  $$\n",
    "  - the two dashed red lines (labeled *Envelope*) are $A_c + m(t)$ and $(-A_c + m(t))$, respectively.\n",
    "* In the bottom plot:\n",
    "  - the blue signal is the absolute value of $s(t)$\n",
    "  - the dased red line is still $A_c+m(t)$.\n",
    "* To help you out, code to generate pertinent signals is included below.\n",
    "\n",
    "\n",
    "![Plot of several signals](pre_lab_sigs_plot.png)"
   ]
  },
  {
   "cell_type": "code",
   "execution_count": null,
   "metadata": {},
   "outputs": [],
   "source": [
    "# the usual imports\n",
    "%matplotlib inline\n",
    "import matplotlib.pyplot as plt\n",
    "import numpy as np"
   ]
  },
  {
   "cell_type": "code",
   "execution_count": null,
   "metadata": {},
   "outputs": [],
   "source": [
    "## generate the signals\n",
    "# no need to modify this code\n",
    "fs = 2000\n",
    "fm = 5\n",
    "Am = 1\n",
    "phim = np.pi/4\n",
    "\n",
    "fc = 100\n",
    "Ac = 2\n",
    "phic = np.pi/3\n",
    "\n",
    "dur = 0.5\n",
    "tt = np.arange(0, dur, 1/fs)\n",
    "\n",
    "msg = Am * np.cos(2*np.pi * fm * tt + phim)\n",
    "sig = (Ac + msg) * np.cos(2*np.pi * fc * tt + phic)"
   ]
  },
  {
   "cell_type": "code",
   "execution_count": null,
   "metadata": {},
   "outputs": [],
   "source": [
    "## Create the figure\n",
    "plt.figure(layout='constrained')\n",
    "\n",
    "# top plot: AM signal and both envelopes\n",
    "ax_top = plt.subplot(2, 1, 1)\n",
    "FILL_ME_IN\n",
    "# bottom plot: absolute value of AM signal plus uper envelope\n",
    "ax_bot = plt.subplot(2, 1, 2, sharex=ax_top)\n",
    "FILL_ME_IN\n",
    "\n",
    "plt.show()"
   ]
  }
 ],
 "metadata": {
  "kernelspec": {
   "display_name": "Python 3",
   "language": "python",
   "name": "python3"
  },
  "language_info": {
   "codemirror_mode": {
    "name": "ipython",
    "version": 3
   },
   "file_extension": ".py",
   "mimetype": "text/x-python",
   "name": "python",
   "nbconvert_exporter": "python",
   "pygments_lexer": "ipython3",
   "version": "3.10.12"
  },
  "orig_nbformat": 4
 },
 "nbformat": 4,
 "nbformat_minor": 2
}
