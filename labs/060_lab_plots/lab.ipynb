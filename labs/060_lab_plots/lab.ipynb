{
 "cells": [
  {
   "cell_type": "markdown",
   "metadata": {
    "slideshow": {
     "slide_type": "slide"
    }
   },
   "source": [
    "# Lab: Environment Characterization Experiment (ECE)\n",
    "\n",
    "## Goals:\n",
    "\n",
    "In this lab, you will use signal processing to extract information from an observed (simulated) signal. This is an example of a typical experimental procedure:\n",
    "* a theory is formulated that describes how environment parameters impact aspects of an observable signal\n",
    "* an experiment is conducted to collect the signal\n",
    "* the signal is processed to extract the parameters of interest\n",
    "\n",
    "In this lab, you will:\n",
    "\n",
    "* formulate a model that describes how an observed signal depends on environmental parameters of interest\n",
    "* derive how the environmental parameters can be determined from signal parameters\n",
    "* process the derived signal to determine signal parameters and, then, the environmental parameters"
   ]
  },
  {
   "cell_type": "markdown",
   "metadata": {
    "slideshow": {
     "slide_type": "slide"
    }
   },
   "source": [
    "## This notebook is incomplete\n",
    "\n",
    "In this notebook, there are multiple places for you to fill in either code or text.\n",
    "\n",
    "You should do that directly in this notebook. \n",
    "\n",
    "Once you have completed all your work in this notebook, rerun the entire notebook using \"Kernel > Restart and Run All\" from the menubar. \n",
    "\n",
    "Fix any errors, then remove this cell (your notebook is now complete), and submit."
   ]
  },
  {
   "cell_type": "code",
   "execution_count": null,
   "metadata": {
    "slideshow": {
     "slide_type": "skip"
    }
   },
   "outputs": [],
   "source": [
    "## the usual imports\n",
    "%matplotlib inline\n",
    "import numpy as np\n",
    "import matplotlib.pyplot as plt\n",
    "\n",
    "# load Audio widget\n",
    "from IPython.display import Audio"
   ]
  },
  {
   "cell_type": "markdown",
   "metadata": {
    "slideshow": {
     "slide_type": "slide"
    }
   },
   "source": [
    "## The Experiment\n",
    "\n",
    "You are a member of a scientific team that explores distant planets, their moons, and other large objects in space. Your role is to devise and conduct an experiment to estimate \n",
    "* the density of the atmosphere, and\n",
    "* the acceleration of gravity $g$\n",
    "on a remote world.\n",
    "\n",
    "The idea for the experiment is to use sound waves to measure these quantities indirectly. Specifically, the sound from a device that emits a sinusoidal tone will be recorded as that device moves through the atmosphere near the surface of the planet that is being explored.\n",
    "\n",
    "You are looking to exploit two properties of sound propagation from or to an object in motion:\n",
    "1. the sound travels at a velocity $c$ that is dependent on the density $\\rho$ of the air in the atmosphere. Specifically, it is known that\n",
    "$$\n",
    "c = \\sqrt{\\gamma \\cdot \\frac{p}{\\rho}},\n",
    "$$\n",
    "  * here $\\gamma$ is the *adiabatic* index; the value of this index is approximately $\\gamma \\approx 1.4$\n",
    "  * and $p$ is the pressure, which can be measured independently using a barometer\n",
    "  * We will concern ourselves only with measuring the speed of sound $c$ and leave the computation of the density to other team members.\n",
    "2. the frequency of sound changes when the distance from the object that emits the sound to the observer changes; this is known as the Doppler effect. The experiment subject the emitter to a trajectory that depends on the acceleration of gravity $g$."
   ]
  },
  {
   "cell_type": "markdown",
   "metadata": {
    "slideshow": {
     "slide_type": "subslide"
    }
   },
   "source": [
    "### Putting the sound emitting object in motion\n",
    "\n",
    "The primary device in the experiment is a small object that emits a constant tone of frequency $f_0$.\n",
    "\n",
    "Using a small catapult, this object is launched straight up (away from the surface of the planet) at an initial, known velocity of $v_0$.\n",
    "\n",
    "The acceleration of gravity $g$ first decelerates our object, then stops it momentarily, before it accelerates the object back to the launch site.\n",
    "\n",
    "While the object travels along this trajectory, a recording device records the sound from the device. The recording device is located at the launch/landing location. We denote that location by $d=0$."
   ]
  },
  {
   "cell_type": "markdown",
   "metadata": {
    "slideshow": {
     "slide_type": "subslide"
    }
   },
   "source": [
    "## Modeling: what should we be observing?\n",
    "\n",
    "We will see momentarily that the recorded frequency depends on the speed $c$ at which sounds propagates and the acceleration of gravity $g$.\n",
    "\n",
    "We know that \n",
    "* the phase $\\phi$ of a tone (frequency $f_0$ changes proportional to the delay $\\tau$ that the signal experiences as the signal propagates from emitter to receiver:\n",
    "$$\n",
    "\\phi = -2\\pi f_0 \\tau,\n",
    "$$\n",
    "* the delay $\\tau$ of the signal is proportional to the distance $d$ between emitter and receiver:\n",
    "$$\n",
    "\\tau = \\frac{d}{c},\n",
    "$$\n",
    "* the distance $d$ between emitter and receiver is governed by the laws of motion, specifically\n",
    "$$\n",
    "d = v_0 \\cdot t - \\frac{g}{2} \\cdot t^2.\n",
    "$$"
   ]
  },
  {
   "cell_type": "markdown",
   "metadata": {
    "slideshow": {
     "slide_type": "subslide"
    }
   },
   "source": [
    "### The received signal\n",
    "\n",
    "From the above equations, we see that the phase of the received signal\n",
    "* varies with time\n",
    "* is given by\n",
    "$$\n",
    "\\phi(t) = -2\\pi f_0 \\cdot \\frac{v_0}{c} \\cdot t + 2\\pi f_0 \\cdot \\frac{g}{2c} \\cdot t^2.\n",
    "$$\n",
    "\n",
    "If the emitted signal is $s(t) = \\cos(2\\pi f_0 t + \\phi_0)$, then the received signal equals\n",
    "$$\n",
    "r(t) = A(t) \\cdot \\cos(2\\pi f_0 t + \\phi(t) + \\phi_0) = A(t) \\cdot \\cos(2\\pi f_0 t  -2\\pi f_0 \\cdot \\frac{v_0}{c} \\cdot t + 2\\pi f_0 \\cdot \\frac{g}{2c} \\cdot t^2 + \\phi_0),\n",
    "$$\n",
    "where $A(t)$ is the amplitude that varies with distance $d$ and, thus, with time. We will not need to model $A(t)$ as all relevant information is contained in the (instantaneous) frequency."
   ]
  },
  {
   "cell_type": "markdown",
   "metadata": {
    "slideshow": {
     "slide_type": "subslide"
    }
   },
   "source": [
    "### Instantaneous frequency $f_i(t)$\n",
    "\n",
    "The received signal $r(t)$ is not a simple sinusoid. The frequency of the received signal varies with time.\n",
    "\n",
    "For a signal of the form $\\cos(\\Psi(t))$, the instantaneous frequency $f_i(t)$ is given by\n",
    "$$\n",
    "f_i(t) = \\frac{1}{2\\pi} \\frac{d\\Psi(t)}{dt}.\n",
    "$$\n",
    "\n",
    "For our received signal, $\\Psi(t) = 2\\pi f_0 t  -2\\pi f_0 \\cdot \\frac{v_0}{c} \\cdot t + 2\\pi f_0 \\cdot \\frac{g}{2c} \\cdot t^2 + \\phi_0$.\n",
    "\n",
    "Therefore, the instantaneous frequency of the received signal is:\n",
    "$$\n",
    "f_i(t) = f_0 - f_0 \\cdot \\frac{v_0}{c} + f_0 \\cdot \\frac{g}{c} \\cdot t.\n",
    "$$\n",
    "\n",
    "The instantaneous frequency of the received signal:\n",
    "* is initially lower than $f_0$, $f_i(0) = f_0 \\cdot (1- \\frac{v_0}{c})$\n",
    "* then, the instantantaneous frequency increases linearly with slope $f_0 \\cdot \\frac{g}{c}$."
   ]
  },
  {
   "cell_type": "markdown",
   "metadata": {
    "slideshow": {
     "slide_type": "subslide"
    }
   },
   "source": [
    "### Goal:\n",
    "\n",
    "Thus, we want to measure the instantaneous frequency of the received signal and determine  \n",
    "* the initial frequency $b=f_i(0)=f_0 \\cdot (1- \\frac{v_0}{c})$ and \n",
    "* the rate of change of the instantaneous frequency $m = f_0 \\cdot \\frac{g}{c}$. \n",
    "\n",
    "From these two measurements (and knowledge of $f_0$ and $v_0$) we can derive $c$ and $g$."
   ]
  },
  {
   "cell_type": "markdown",
   "metadata": {
    "slideshow": {
     "slide_type": "slide"
    }
   },
   "source": [
    "## The experiment: Obtaining the received signal\n",
    "\n",
    "* The received signal `rr` is recorded and the code in the cell below loads this recording. \n",
    " - The file `data.npz` must be in your working directory\n",
    "\n",
    "* Additionally, the data file contains:\n",
    "  - the transmitted signal `ss`\n",
    "  - the sample rate `fs`\n",
    "  - the frequency of the transmitted signals `f0`\n",
    "  - the launch velocity `v0`\n",
    "\n",
    "* After the code in the cell below is executed, these variables are available for you to work with."
   ]
  },
  {
   "cell_type": "code",
   "execution_count": null,
   "metadata": {
    "slideshow": {
     "slide_type": "subslide"
    }
   },
   "outputs": [],
   "source": [
    "## load data from file\n",
    "data_file = 'data.npz'\n",
    "\n",
    "npz_file = np.load(data_file)\n",
    "\n",
    "rr = npz_file['rr']   # received signal\n",
    "ss = npz_file['ss']   # sent signal\n",
    "fs= npz_file['fs'] * 1.    # sample rate\n",
    "f0 = npz_file['f0'] * 1.   # frequency of emitted signal\n",
    "v0 = npz_file['v0'] * 1.   # launch velocity"
   ]
  },
  {
   "cell_type": "markdown",
   "metadata": {
    "slideshow": {
     "slide_type": "slide"
    }
   },
   "source": [
    "## Analysis of the received signal\n",
    "\n",
    "We will analyze the received signal in a few steps:\n",
    "1. by playing the signal through the speaker, we can form a qualitative impression of the signal\n",
    "2. by plotting various segments of the signal, we can measure the frequency of the signal at different points in time\n",
    "3. by computing and plotting the *spectrogram* of the signal, we can analyze the frequency content of the signal over time\n",
    "\n",
    "The objective is to find:\n",
    "* the initial frequency offset and\n",
    "* the rate of change of the frequency\n",
    "and from these two measurements, to determine environment parameters $g$ and $c$."
   ]
  },
  {
   "cell_type": "markdown",
   "metadata": {
    "slideshow": {
     "slide_type": "slide"
    }
   },
   "source": [
    "#### Task: Play the transmitted and received signal\n",
    "\n",
    "Use the `Audio` widget that we loaded earlier to play both the transmitted and received signals.\n",
    "\n",
    "Then describe *qualitatively* the differences between the two signals. Be as specific as you can about the chracteristics of the audible received signal."
   ]
  },
  {
   "cell_type": "code",
   "execution_count": null,
   "metadata": {
    "slideshow": {
     "slide_type": "subslide"
    }
   },
   "outputs": [],
   "source": [
    "# Play the transmitted signal\n",
    "Audio(ss, rate=fs)"
   ]
  },
  {
   "cell_type": "code",
   "execution_count": null,
   "metadata": {
    "slideshow": {
     "slide_type": "subslide"
    }
   },
   "outputs": [],
   "source": [
    "# Play the received signal\n",
    "Audio(rr, rate=fs)"
   ]
  },
  {
   "cell_type": "markdown",
   "metadata": {
    "slideshow": {
     "slide_type": "subslide"
    }
   },
   "source": [
    "#### FILL THIS CELL\n",
    "\n",
    "Use this cell to describe qualitatively the audible characteristics of the received signal"
   ]
  },
  {
   "cell_type": "markdown",
   "metadata": {
    "slideshow": {
     "slide_type": "slide"
    }
   },
   "source": [
    "#### Task: Plot segments of the transmitted and received signals\n",
    "\n",
    "After the qualitative assessment, we perform a more quantitative analysis of the signal. Our focus is on identifying the change in frequency of the received signal.\n",
    "\n",
    "To that end, we examine the received (and transmitted) signals at three time instances during the experiment: \n",
    "* at the very beggining\n",
    "* in the middle\n",
    "* at the very end\n",
    "Specifically, we will plot the signals at these instances.\n",
    "\n",
    "Before we can make the plots, you need to construct a time grid."
   ]
  },
  {
   "cell_type": "code",
   "execution_count": null,
   "metadata": {
    "slideshow": {
     "slide_type": "subslide"
    }
   },
   "outputs": [],
   "source": [
    "## Task: make a time grid using the sample rate fs and the length of the signals\n",
    "# the length of tt must match the length of rr and ss\n",
    "# the increment between successive elements of tt must eal 1/fs\n",
    "tt = FILL_ME_IN"
   ]
  },
  {
   "cell_type": "markdown",
   "metadata": {
    "slideshow": {
     "slide_type": "slide"
    }
   },
   "source": [
    "With the time grid in hand, we can now plot the signals.\n",
    "\n",
    "The signals are too long to be plotted in their entirety - you would not be able to determine frequency.\n",
    "\n",
    "Instead, we must examine short segments of the signal. Proceed as follows\n",
    "\n",
    "* make a figure with three subplots\n",
    "  - each figure shows the transmitted and received signals\n",
    "* each subplot should show $N$ samples of both signals\n",
    "  - find a value for $N$ that works well to measure frequency\n",
    "* the first plot, shows the first $N$ samples (starts at time $t=0$)\n",
    "* the second plot, shows $N$ samples in the very middle of the signal (centered at time $t=5$ s)\n",
    "* the final plot shows the last $N$ samples (ends at time $t=10$ s)\n",
    "\n",
    "Make sure that your time-axis shows the correct time for the signals you're plotting."
   ]
  },
  {
   "cell_type": "code",
   "execution_count": null,
   "metadata": {
    "slideshow": {
     "slide_type": "subslide"
    }
   },
   "outputs": [],
   "source": [
    "## three-panel plot of the signals\n",
    "N = FILL_ME_IN\n",
    "\n",
    "plt.figure(layout='constrained')\n",
    "\n",
    "plt.subplot(3, 1, 1)\n",
    "FILL_ME_IN\n",
    "\n",
    "plt.show()\n"
   ]
  },
  {
   "cell_type": "markdown",
   "metadata": {
    "slideshow": {
     "slide_type": "subslide"
    }
   },
   "source": [
    "### Task: Frequency Measurement\n",
    "\n",
    "* The frequency of the received signal is different in each of the three subplots changes while the frequency of the emitted signal remains constant at $f_0$.\n",
    "\n",
    "* In each of the three subplots, measure the frequency of the received signal and compile your measurements in the following table\n",
    "\n",
    "|    Time $t$ (s)  |   Inst. Frequency $f_i(t)$ (Hz)   | \n",
    "|------------------|-----------------------------------|\n",
    "|      0           |                                   |\n",
    "|      5           |                                   |\n",
    "|     10           |                                   |"
   ]
  },
  {
   "cell_type": "markdown",
   "metadata": {
    "slideshow": {
     "slide_type": "slide"
    }
   },
   "source": [
    "### Task: Equation for $f_i(t)$\n",
    "\n",
    "In the description of the experiment, we determined that the instantaneous frequency should change linearly with time $t$.\n",
    "\n",
    "From the three frequency measurements that you compiled, determine the equation that describes how the instantaneous frequency $f_i(t)$ changes with time.\n",
    "Specifically, find the offset $b$ and the slope $m$ of the linear equation\n",
    "$$\n",
    "f_i(t) = b + m \\cdot t\n",
    "$$\n",
    "that fits your measurements.\n",
    "\n",
    "Give your answers below; make sure to include proper units for $b$ and $m$.\n",
    "\n",
    "* Measured initial frequency offset $b$ = FILL_ME_IN\n",
    "* Measured slope of instantaneous frequency $m$ = FILL_ME_IN"
   ]
  },
  {
   "cell_type": "markdown",
   "metadata": {
    "slideshow": {
     "slide_type": "slide"
    }
   },
   "source": [
    "### Spectrogram Analysis\n",
    "\n",
    "A spectrogram is a tool for analyzing signal with time-varying frequency content. The frequency of the received signal is changing over time. Hence, the received signal is a good candidate for analysis via a spectrogram.\n",
    "\n",
    "A spectrogram is a two-dimensional pseudo-color mesh plot. Its axes are time and frequency. The color coding indicates the magnitude of the spectrum at a given time.\n",
    "\n",
    "Technically, the spectrogram is computed by \n",
    "* dividing the signal into short segments - similar to what you did with your plots above. \n",
    "* for each such segment, the magnitude of the spectrum is computed using the same procedure that we used last week.\n",
    "* the results are collected into a two-dimensional array\n",
    "  - one dimension corresponds to the frequency grid associated with the computation of the spectra\n",
    "  - the other dimension corresponds to the time-instances when the samples for the segment were collected.\n",
    "* this two-dimensinal array is plotted using `plt.pcolormesh()`"
   ]
  },
  {
   "cell_type": "markdown",
   "metadata": {
    "slideshow": {
     "slide_type": "subslide"
    }
   },
   "source": [
    "The spectrogram of the received signal is computed and plotted using `plt.specgram()`. \n",
    "* The parameter `NFFT` controls the length of the segments; it was chosen to give a frequency resolution of `fs/NFFT` of approximately 10Hz.\n",
    "* The parameter `Fs` specifies the sample rate; it must be given to scale the axes properly\n",
    "* Also, we zoom in on the frequencies that are of most interest to us.\n",
    "\n",
    "**Task:** add a command to plot the line for the instantaneous frequency $f_i(t)$ on top of the spectrogram. Make the line red and dashed.\n",
    "* if your computation of instantaneous frequency is correct, this line should follow the yellow high-light closely."
   ]
  },
  {
   "cell_type": "code",
   "execution_count": null,
   "metadata": {
    "slideshow": {
     "slide_type": "subslide"
    }
   },
   "outputs": [],
   "source": [
    "## spectrogram\n",
    "plt.specgram(rr, NFFT=2048, Fs=fs)\n",
    "\n",
    "# Task: add a command to plot the line for the instantaneous frequency\n",
    "FILL_ME_IN\n",
    "\n",
    "plt.ylim(0, 2000)\n",
    "plt.xlim(0, tt[-1])\n",
    "plt.grid()\n",
    "plt.xlabel('Time (s)')\n",
    "plt.ylabel('Frequency (Hz)')\n",
    "plt.colorbar()\n",
    "\n",
    "plt.show()"
   ]
  },
  {
   "cell_type": "markdown",
   "metadata": {
    "slideshow": {
     "slide_type": "slide"
    }
   },
   "source": [
    "## Task: Determine the Environmant Parameters\n",
    "\n",
    "Recall that analyzing the frequency contents was just a means to an end. Our real goal os to determine the two environment parameters\n",
    "* acceleration of gravity $g$, and\n",
    "* speed of sound propagation $c$\n",
    "\n",
    "Use the measured initial frequency offset $b$ and the slope of the instantaneous frequency to determine the two parameters; make sure to include proper units.\n",
    "* **Acceleration of gravity** $g$ = FILL_ME_IN\n",
    "* **Speed of sound propagation** $c$ = FILL_ME_IN"
   ]
  },
  {
   "cell_type": "markdown",
   "metadata": {
    "slideshow": {
     "slide_type": "slide"
    }
   },
   "source": [
    "## Summary\n",
    "\n",
    "We simulated a simple experiment that allowed us to extract information from an observed signal. \n",
    "\n",
    "The theoretical basis for the experiment combined simple physics that allowed us to model and predict the outcome of the experiment. Specifically, the model predicted that frequency of the observed signal varies over time. It provided specific expressions that describe how this variation depends on the parameters of interest.\n",
    "\n",
    "Armed with this theoretical basis, we:\n",
    "- analyzed the received signal to measure teh variation in frequency\n",
    "  - the instantaneous frequency ws measured manually in three different places\n",
    "  - a spectrogram was used to confirm the manual measurement\n",
    "- we determined the parameters of the instantaneous frequency\n",
    "- from these signal parameters we determined the environment parameters of interest."
   ]
  }
 ],
 "metadata": {
  "celltoolbar": "Slideshow",
  "kernelspec": {
   "display_name": "Python 3 (ipykernel)",
   "language": "python",
   "name": "python3"
  },
  "language_info": {
   "codemirror_mode": {
    "name": "ipython",
    "version": 3
   },
   "file_extension": ".py",
   "mimetype": "text/x-python",
   "name": "python",
   "nbconvert_exporter": "python",
   "pygments_lexer": "ipython3",
   "version": "3.10.12"
  },
  "rise": {
   "scroll": true,
   "theme": "sky"
  }
 },
 "nbformat": 4,
 "nbformat_minor": 2
}
